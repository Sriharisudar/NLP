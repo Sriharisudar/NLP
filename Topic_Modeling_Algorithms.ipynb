{
  "nbformat": 4,
  "nbformat_minor": 0,
  "metadata": {
    "colab": {
      "provenance": [],
      "toc_visible": true
    },
    "kernelspec": {
      "name": "python3",
      "display_name": "Python 3"
    },
    "language_info": {
      "name": "python"
    }
  },
  "cells": [
    {
      "cell_type": "markdown",
      "source": [
        "#Build LSI model using gensim"
      ],
      "metadata": {
        "id": "kpyh-141oOtN"
      }
    },
    {
      "cell_type": "code",
      "execution_count": null,
      "metadata": {
        "colab": {
          "base_uri": "https://localhost:8080/"
        },
        "id": "fXCfv4zFoJ8t",
        "outputId": "1866e387-4474-4130-bb06-797a9053cd40"
      },
      "outputs": [
        {
          "output_type": "stream",
          "name": "stdout",
          "text": [
            "[nltk_data] Downloading package stopwords to /root/nltk_data...\n",
            "[nltk_data]   Unzipping corpora/stopwords.zip.\n"
          ]
        },
        {
          "output_type": "execute_result",
          "data": {
            "text/plain": [
              "True"
            ]
          },
          "metadata": {},
          "execution_count": 1
        }
      ],
      "source": [
        "#Import the required library\n",
        "import os.path\n",
        "from gensim import corpora\n",
        "from gensim.models import LsiModel\n",
        "from nltk.tokenize import RegexpTokenizer\n",
        "from nltk.corpus import stopwords\n",
        "from nltk.stem.porter import PorterStemmer\n",
        "from gensim.models.coherencemodel import CoherenceModel\n",
        "import matplotlib.pyplot as plt\n",
        "import nltk\n",
        "nltk.download('stopwords')\n",
        "\n"
      ]
    },
    {
      "cell_type": "markdown",
      "source": [
        "#Loading Data (download articles.txt)"
      ],
      "metadata": {
        "id": "QOXeJZXuoWLc"
      }
    },
    {
      "cell_type": "code",
      "source": [
        "\n",
        "def load_data(path,file_name):\n",
        "    \"\"\"\n",
        "    Input  : path and file_name\n",
        "    Purpose: loading text file\n",
        "    Output : list of paragraphs/documents and\n",
        "             title(initial 100 words considred as title of document)\n",
        "    \"\"\"\n",
        "    documents_list = []\n",
        "    titles=[]\n",
        "    with open( os.path.join(path, file_name) ,\"r\") as fin:\n",
        "        for line in fin.readlines():\n",
        "            text = line.strip()\n",
        "            documents_list.append(text)\n",
        "    print(\"Total Number of Documents:\",len(documents_list))\n",
        "    titles.append( text[0:min(len(text),100)] )\n",
        "    return documents_list,titles\n"
      ],
      "metadata": {
        "id": "unVVy6rJoStO"
      },
      "execution_count": null,
      "outputs": []
    },
    {
      "cell_type": "markdown",
      "source": [
        "#Preprocessing Data"
      ],
      "metadata": {
        "id": "gSfvcWPtoes7"
      }
    },
    {
      "cell_type": "code",
      "source": [
        "\n",
        "def preprocess_data(doc_set):\n",
        "    \"\"\"\n",
        "    Input  : docuemnt list\n",
        "    Purpose: preprocess text (tokenize, removing stopwords, and stemming)\n",
        "    Output : preprocessed text\n",
        "    \"\"\"\n",
        "    # initialize regex tokenizer\n",
        "    tokenizer = RegexpTokenizer(r'\\w+')\n",
        "    # create English stop words list\n",
        "    en_stop = set(stopwords.words('english'))\n",
        "    # Create p_stemmer of class PorterStemmer\n",
        "    p_stemmer = PorterStemmer()\n",
        "    # list for tokenized documents in loop\n",
        "    texts = []\n",
        "    # loop through document list\n",
        "    for i in doc_set:\n",
        "        # clean and tokenize document string\n",
        "        raw = i.lower()\n",
        "        tokens = tokenizer.tokenize(raw)\n",
        "        # remove stop words from tokens\n",
        "        stopped_tokens = [i for i in tokens if not i in en_stop]\n",
        "        # stem tokens\n",
        "        stemmed_tokens = [p_stemmer.stem(i) for i in stopped_tokens]\n",
        "        # add tokens to list\n",
        "        texts.append(stemmed_tokens)\n",
        "    return texts\n"
      ],
      "metadata": {
        "id": "D6j3AVwhoctu"
      },
      "execution_count": null,
      "outputs": []
    },
    {
      "cell_type": "markdown",
      "source": [
        "#Prepare Corpus"
      ],
      "metadata": {
        "id": "SAEAmkdAsxch"
      }
    },
    {
      "cell_type": "code",
      "source": [
        "\n",
        "#you need to create a document-term matrix and dictionary of terms.\n",
        "def prepare_corpus(doc_clean):\n",
        "    \"\"\"\n",
        "    Input  : clean document\n",
        "    Purpose: create term dictionary of our courpus and Converting list of documents (corpus) into Document Term Matrix\n",
        "    Output : term dictionary and Document Term Matrix\n",
        "    \"\"\"\n",
        "    # Creating the term dictionary of our courpus, where every unique term is assigned an index. dictionary = corpora.Dictionary(doc_clean)\n",
        "    dictionary = corpora.Dictionary(doc_clean)\n",
        "    # Converting list of documents (corpus) into Document Term Matrix using dictionary prepared above.\n",
        "    doc_term_matrix = [dictionary.doc2bow(doc) for doc in doc_clean]\n",
        "    # generate LDA model\n",
        "    return dictionary,doc_term_matrix\n"
      ],
      "metadata": {
        "id": "6TOCx4G4ofMl"
      },
      "execution_count": null,
      "outputs": []
    },
    {
      "cell_type": "markdown",
      "source": [
        "#Create an LSA model using Gensim"
      ],
      "metadata": {
        "id": "PcKHO3IPs1SR"
      }
    },
    {
      "cell_type": "code",
      "source": [
        "\n",
        "def create_gensim_lsa_model(doc_clean,number_of_topics,words):\n",
        "    \"\"\"\n",
        "    Input  : clean document, number of topics and number of words associated with each topic\n",
        "    Purpose: create LSA model using gensim\n",
        "    Output : return LSA model\n",
        "    \"\"\"\n",
        "    dictionary,doc_term_matrix=prepare_corpus(doc_clean)\n",
        "    # generate LSA model\n",
        "    lsamodel = LsiModel(doc_term_matrix, num_topics=number_of_topics, id2word = dictionary)  # train model\n",
        "    print(lsamodel.print_topics(num_topics=number_of_topics, num_words=words))\n",
        "    return lsamodel\n",
        "\n"
      ],
      "metadata": {
        "id": "A3_YMbGCsx_E"
      },
      "execution_count": null,
      "outputs": []
    },
    {
      "cell_type": "markdown",
      "source": [
        "#Create an LSA model using Gensim"
      ],
      "metadata": {
        "id": "3TTPUL7ns4tq"
      }
    },
    {
      "cell_type": "code",
      "source": [
        "def compute_coherence_values(dictionary, doc_term_matrix, doc_clean, stop, start=2, step=3):\n",
        "    \"\"\"\n",
        "    Input   : dictionary : Gensim dictionary\n",
        "              corpus : Gensim corpus\n",
        "              texts : List of input texts\n",
        "              stop : Max num of topics\n",
        "    purpose : Compute c_v coherence for various number of topics\n",
        "    Output  : model_list : List of LSA topic models\n",
        "              coherence_values : Coherence values corresponding to the LDA model with respective number of topics\n",
        "    \"\"\"\n",
        "    coherence_values = []\n",
        "    model_list = []\n",
        "    for num_topics in range(start, stop, step):\n",
        "        # generate LSA model\n",
        "        model = LsiModel(doc_term_matrix, num_topics=number_of_topics, id2word = dictionary)  # train model\n",
        "        model_list.append(model)\n",
        "        coherencemodel = CoherenceModel(model=model, texts=doc_clean, dictionary=dictionary, coherence='c_v')\n",
        "        coherence_values.append(coherencemodel.get_coherence())\n",
        "    return model_list, coherence_values\n"
      ],
      "metadata": {
        "id": "zlmP6yT0s11E"
      },
      "execution_count": null,
      "outputs": []
    },
    {
      "cell_type": "markdown",
      "source": [
        "#plot coherence score values"
      ],
      "metadata": {
        "id": "JDr6RijFs9B5"
      }
    },
    {
      "cell_type": "code",
      "source": [
        "def plot_graph(doc_clean,start, stop, step):\n",
        "    dictionary,doc_term_matrix=prepare_corpus(doc_clean)\n",
        "    model_list, coherence_values = compute_coherence_values(dictionary, doc_term_matrix,doc_clean,stop, start, step)\n",
        "    # Show graph\n",
        "    x = range(start, stop, step)\n",
        "    plt.plot(x, coherence_values)\n",
        "    plt.xlabel(\"Number of Topics\")\n",
        "    plt.ylabel(\"Coherence score\")\n",
        "    plt.legend((\"coherence_values\"), loc='best')\n",
        "    plt.show()\n"
      ],
      "metadata": {
        "id": "835OI8Zds7Nj"
      },
      "execution_count": null,
      "outputs": []
    },
    {
      "cell_type": "markdown",
      "source": [
        "# LSA Model"
      ],
      "metadata": {
        "id": "9aSwj-sstaeb"
      }
    },
    {
      "cell_type": "code",
      "source": [
        "\n",
        "number_of_topics=7\n",
        "words=10\n",
        "document_list,titles=load_data(\"\",\"articles.txt\")\n",
        "clean_text=preprocess_data(document_list)\n",
        "model=create_gensim_lsa_model(clean_text,number_of_topics,words)\n"
      ],
      "metadata": {
        "colab": {
          "base_uri": "https://localhost:8080/"
        },
        "id": "dJLKFvKMtAMP",
        "outputId": "31d7e1a3-c380-4ef9-dd45-0f2f9237e5d4"
      },
      "execution_count": null,
      "outputs": [
        {
          "output_type": "stream",
          "name": "stdout",
          "text": [
            "Total Number of Documents: 832\n",
            "[(0, '0.863*\"â\" + 0.159*\"trump\" + 0.127*\"said\" + 0.123*\"say\" + 0.074*\"peopl\" + 0.072*\"one\" + 0.071*\"would\" + 0.064*\"year\" + 0.060*\"go\" + 0.060*\"campaign\"'), (1, '-0.419*\"trump\" + 0.192*\"year\" + -0.170*\"â\" + 0.162*\"hammond\" + 0.157*\"brexit\" + 0.156*\"eu\" + 0.141*\"say\" + 0.140*\"govern\" + 0.136*\"statement\" + 0.120*\"uk\"'), (2, '0.515*\"trump\" + -0.312*\"â\" + 0.213*\"presid\" + 0.211*\"elect\" + 0.187*\"said\" + 0.164*\"vote\" + -0.148*\"min\" + 0.138*\"campaign\" + 0.133*\"trumpâ\" + 0.128*\"poll\"'), (3, '0.333*\"vote\" + 0.330*\"poll\" + -0.225*\"say\" + 0.202*\"remain\" + -0.195*\"statement\" + -0.194*\"hammond\" + 0.177*\"leav\" + 0.149*\"station\" + -0.142*\"autumn\" + -0.142*\"govern\"'), (4, '-0.440*\"min\" + -0.226*\"trump\" + 0.172*\"â\" + -0.161*\"0\" + -0.156*\"goal\" + -0.148*\"leagu\" + -0.146*\"ball\" + -0.146*\"1\" + 0.140*\"vote\" + -0.129*\"play\"'), (5, '0.304*\"say\" + -0.216*\"bank\" + -0.209*\"said\" + 0.203*\"vote\" + 0.188*\"poll\" + -0.165*\"would\" + -0.157*\"work\" + 0.150*\"min\" + -0.134*\"presid\" + -0.132*\"health\"'), (6, '-0.488*\"bank\" + -0.274*\"0\" + 0.223*\"min\" + -0.208*\"1\" + -0.172*\"market\" + -0.166*\"clinton\" + 0.146*\"peopl\" + -0.129*\"2\" + -0.108*\"debat\" + -0.107*\"v\"')]\n"
          ]
        }
      ]
    },
    {
      "cell_type": "code",
      "source": [
        "start,stop,step=2,12,1\n",
        "plot_graph(clean_text,start,stop,step)\n"
      ],
      "metadata": {
        "colab": {
          "base_uri": "https://localhost:8080/",
          "height": 279
        },
        "id": "0UQ4DW0xtbOv",
        "outputId": "4bf81a30-ff44-4b7a-c4cd-d357b5beaaad"
      },
      "execution_count": null,
      "outputs": [
        {
          "output_type": "display_data",
          "data": {
            "image/png": "[encoded data removed]",
            "text/plain": [
              "<Figure size 432x288 with 1 Axes>"
            ]
          },
          "metadata": {
            "needs_background": "light"
          }
        }
      ]
    },
    {
      "cell_type": "markdown",
      "source": [
        "#Latent Dirichlet Algorithm"
      ],
      "metadata": {
        "id": "i8BJhGf4t8PL"
      }
    },
    {
      "cell_type": "code",
      "source": [
        "#installstop_words\n",
        "!pip install stop_words\n"
      ],
      "metadata": {
        "colab": {
          "base_uri": "https://localhost:8080/"
        },
        "id": "1er3alH9tgOg",
        "outputId": "414dfea0-e96e-4478-ceb4-f189f0a27e2e"
      },
      "execution_count": null,
      "outputs": [
        {
          "output_type": "stream",
          "name": "stdout",
          "text": [
            "Requirement already satisfied: stop_words in /usr/local/lib/python3.7/dist-packages (2018.7.23)\n"
          ]
        }
      ]
    },
    {
      "cell_type": "code",
      "source": [
        "#import all the packages\n",
        "import nltk\n",
        "from nltk.tokenize import RegexpTokenizer\n",
        "nltk.download('stopwords')\n",
        "from stop_words import get_stop_words\n",
        "from nltk.stem.porter import PorterStemmer\n",
        "from gensim import corpora, models\n",
        "import gensim\n",
        "tokenizer = RegexpTokenizer(r'\\w+')\n"
      ],
      "metadata": {
        "colab": {
          "base_uri": "https://localhost:8080/"
        },
        "id": "VeJcfQ9ZuESp",
        "outputId": "9b05c95d-e398-4a84-ad90-53ed46d1ae88"
      },
      "execution_count": null,
      "outputs": [
        {
          "output_type": "stream",
          "name": "stdout",
          "text": [
            "[nltk_data] Downloading package stopwords to /root/nltk_data...\n",
            "[nltk_data]   Package stopwords is already up-to-date!\n"
          ]
        }
      ]
    },
    {
      "cell_type": "code",
      "source": [
        "# create English stop words list\n",
        "en_stop = get_stop_words('en')\n"
      ],
      "metadata": {
        "id": "RU4fQ44xuKQR"
      },
      "execution_count": null,
      "outputs": []
    },
    {
      "cell_type": "code",
      "source": [
        "# Create p_stemmer of class PorterStemmer\n",
        "p_stemmer = PorterStemmer()\n"
      ],
      "metadata": {
        "id": "BOeVrTHxuL6l"
      },
      "execution_count": null,
      "outputs": []
    },
    {
      "cell_type": "code",
      "source": [
        "# create sample documents\n",
        "doc_a = \"Brocolli is good to eat. My brother likes to eat good brocolli, but not my mother.\"\n",
        "doc_b = \"My mother spends a lot of time driving my brother around to baseball practice.\"\n",
        "doc_c = \"Some health experts suggest that driving may cause increased tension and blood pressure.\"\n",
        "doc_d = \"I often feel pressure to perform well at school, but my mother never seems to drive my brother to do better.\"\n",
        "doc_e = \"Health professionals say that brocolli is good for your health.\"\n"
      ],
      "metadata": {
        "id": "pX4vsHE3uNVB"
      },
      "execution_count": null,
      "outputs": []
    },
    {
      "cell_type": "code",
      "source": [
        "# compile sample documents into a list\n",
        "doc_set = [doc_a, doc_b, doc_c, doc_d, doc_e]\n"
      ],
      "metadata": {
        "id": "mBxQCJuPuSeK"
      },
      "execution_count": null,
      "outputs": []
    },
    {
      "cell_type": "code",
      "source": [
        "# list for tokenized documents in loop\n",
        "texts = []\n"
      ],
      "metadata": {
        "id": "XW8RlZpquUuS"
      },
      "execution_count": null,
      "outputs": []
    },
    {
      "cell_type": "code",
      "source": [
        "# loop through document list\n",
        "for i in doc_set:\n",
        "    \n",
        "    # clean and tokenize document string\n",
        "    raw = i.lower()\n",
        "    tokens = tokenizer.tokenize(raw)\n",
        "\n",
        "    # remove stop words from tokens\n",
        "    stopped_tokens = [i for i in tokens if not i in en_stop]\n",
        "    \n",
        "    # stem tokens\n",
        "    stemmed_tokens = [p_stemmer.stem(i) for i in stopped_tokens]\n",
        "    \n",
        "    # add tokens to list\n",
        "    texts.append(stemmed_tokens)\n"
      ],
      "metadata": {
        "id": "pfK83CrluV8O"
      },
      "execution_count": null,
      "outputs": []
    },
    {
      "cell_type": "code",
      "source": [
        "# turn our tokenized documents into a id <-> term dictionary\n",
        "dictionary = corpora.Dictionary(texts)\n",
        "    \n",
        "# convert tokenized documents into a document-term matrix\n",
        "corpus = [dictionary.doc2bow(text) for text in texts]\n",
        "\n",
        "# generate LDA model\n",
        "ldamodel = gensim.models.ldamodel.LdaModel(corpus, num_topics=2, id2word = dictionary, passes=20)\n",
        "\n",
        "# print the topics\n",
        "print(ldamodel.print_topics(num_topics=5, num_words=4))\n"
      ],
      "metadata": {
        "colab": {
          "base_uri": "https://localhost:8080/"
        },
        "id": "ECpCzF9RuZXL",
        "outputId": "cb577186-55cd-4e5e-f81a-a619d7f5364b"
      },
      "execution_count": null,
      "outputs": [
        {
          "output_type": "stream",
          "name": "stdout",
          "text": [
            "[(0, '0.081*\"health\" + 0.059*\"drive\" + 0.058*\"pressur\" + 0.035*\"expert\"'), (1, '0.086*\"good\" + 0.086*\"brocolli\" + 0.072*\"mother\" + 0.072*\"brother\"')]\n"
          ]
        }
      ]
    },
    {
      "cell_type": "code",
      "source": [
        "# find the coherence score\n",
        "from gensim.models.coherencemodel import CoherenceModel\n",
        "def calculate_coherence_score(documents, dictionary,model):\n",
        "  coherence_model=CoherenceModel(model=model,texts=documents,dictionary=dictionary,coherence='c_v')\n",
        "  return coherence_model.get_coherence()\n",
        "\n",
        "def get_coherence_values(start,stop):\n",
        "  for num_topics in range(start,stop):\n",
        "    print(f'\\nCalculating coherence for {num_topics} topics')\n",
        "    ldamodel = gensim.models.ldamodel.LdaModel(corpus, num_topics=2, id2word = dictionary, passes=20)\n",
        "    coherence=calculate_coherence_score(texts,dictionary,ldamodel)\n",
        "    yield coherence\n"
      ],
      "metadata": {
        "id": "aTVHRfVaubqG"
      },
      "execution_count": null,
      "outputs": []
    },
    {
      "cell_type": "code",
      "source": [
        "# create a list of the coherence scores from 10 to 30 topics.\n",
        "min_topics,max_topics=50,80\n",
        "coherence_scores=list(get_coherence_values(min_topics,max_topics))\n",
        "\n"
      ],
      "metadata": {
        "colab": {
          "base_uri": "https://localhost:8080/"
        },
        "id": "lKtUlJStuhW6",
        "outputId": "a6643cfe-bd15-4501-d5a2-808851ad831b"
      },
      "execution_count": null,
      "outputs": [
        {
          "output_type": "stream",
          "name": "stdout",
          "text": [
            "\n",
            "Calculating coherence for 50 topics\n",
            "\n",
            "Calculating coherence for 51 topics\n",
            "\n",
            "Calculating coherence for 52 topics\n",
            "\n",
            "Calculating coherence for 53 topics\n",
            "\n",
            "Calculating coherence for 54 topics\n",
            "\n",
            "Calculating coherence for 55 topics\n",
            "\n",
            "Calculating coherence for 56 topics\n",
            "\n",
            "Calculating coherence for 57 topics\n",
            "\n",
            "Calculating coherence for 58 topics\n",
            "\n",
            "Calculating coherence for 59 topics\n",
            "\n",
            "Calculating coherence for 60 topics\n",
            "\n",
            "Calculating coherence for 61 topics\n",
            "\n",
            "Calculating coherence for 62 topics\n",
            "\n",
            "Calculating coherence for 63 topics\n",
            "\n",
            "Calculating coherence for 64 topics\n",
            "\n",
            "Calculating coherence for 65 topics\n",
            "\n",
            "Calculating coherence for 66 topics\n",
            "\n",
            "Calculating coherence for 67 topics\n",
            "\n",
            "Calculating coherence for 68 topics\n",
            "\n",
            "Calculating coherence for 69 topics\n",
            "\n",
            "Calculating coherence for 70 topics\n",
            "\n",
            "Calculating coherence for 71 topics\n",
            "\n",
            "Calculating coherence for 72 topics\n",
            "\n",
            "Calculating coherence for 73 topics\n",
            "\n",
            "Calculating coherence for 74 topics\n",
            "\n",
            "Calculating coherence for 75 topics\n",
            "\n",
            "Calculating coherence for 76 topics\n",
            "\n",
            "Calculating coherence for 77 topics\n",
            "\n",
            "Calculating coherence for 78 topics\n",
            "\n",
            "Calculating coherence for 79 topics\n"
          ]
        }
      ]
    },
    {
      "cell_type": "code",
      "source": [
        "# plot the curve\n",
        "import matplotlib.pyplot as plt\n",
        "import matplotlib.style as style\n",
        "from matplotlib.ticker import MaxNLocator\n",
        "style.use('fivethirtyeight')\n",
        "x=[int(i) for i in range(min_topics,max_topics)]\n",
        "ax=plt.figure(figsize=(10,8))\n",
        "plt.xticks(x)\n",
        "plt.plot(x,coherence_scores)\n",
        "plt.xlabel('Number of Topics')\n",
        "plt.ylabel('Coherehce Value')\n",
        "plt.title('Coherence Scores',fontsize=10)\n",
        "\n"
      ],
      "metadata": {
        "colab": {
          "base_uri": "https://localhost:8080/",
          "height": 568
        },
        "id": "QsLqgoD7ujG4",
        "outputId": "9688b143-e350-4e01-d510-729690cc6005"
      },
      "execution_count": null,
      "outputs": [
        {
          "output_type": "execute_result",
          "data": {
            "text/plain": [
              "Text(0.5, 1.0, 'Coherence Scores')"
            ]
          },
          "metadata": {},
          "execution_count": 42
        },
        {
          "output_type": "display_data",
          "data": {
            "image/png": "[encoded data removed]",
            "text/plain": [
              "<Figure size 720x576 with 1 Axes>"
            ]
          },
          "metadata": {}
        }
      ]
    },
    {
      "cell_type": "code",
      "source": [],
      "metadata": {
        "id": "8O8vtBiAulKU"
      },
      "execution_count": null,
      "outputs": []
    }
  ]
}