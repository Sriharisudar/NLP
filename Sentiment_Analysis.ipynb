{
  "nbformat": 4,
  "nbformat_minor": 0,
  "metadata": {
    "colab": {
      "provenance": []
    },
    "kernelspec": {
      "name": "python3",
      "display_name": "Python 3"
    },
    "language_info": {
      "name": "python"
    }
  },
  "cells": [
    {
      "cell_type": "markdown",
      "source": [
        "#basic sentiment analysis using TextBlob Library"
      ],
      "metadata": {
        "id": "3wFgFG35osAr"
      }
    },
    {
      "cell_type": "code",
      "execution_count": null,
      "metadata": {
        "id": "wut0TA7nonPB"
      },
      "outputs": [],
      "source": [
        "#importTextBlob class\n",
        "from textblob import TextBlob\n",
        "sentence=\"but you are Late Flight again!! Again and Again! Where are the crew?\"\n"
      ]
    },
    {
      "cell_type": "code",
      "source": [
        "#create an object of the TextBlob class and view the blob object\n",
        "blob=TextBlob(sentence)\n",
        "blob\n"
      ],
      "metadata": {
        "colab": {
          "base_uri": "https://localhost:8080/"
        },
        "id": "whUNgcejoutI",
        "outputId": "8700ee57-26eb-4104-c83d-d1890bbbd251"
      },
      "execution_count": null,
      "outputs": [
        {
          "output_type": "execute_result",
          "data": {
            "text/plain": [
              "TextBlob(\"but you are Late Flight again!! Again and Again! Where are the crew?\")"
            ]
          },
          "metadata": {},
          "execution_count": 19
        }
      ]
    },
    {
      "cell_type": "code",
      "source": [
        "#sentiment property of the TextBlob class, which returns a tuple\n",
        "blob.sentiment\n"
      ],
      "metadata": {
        "colab": {
          "base_uri": "https://localhost:8080/"
        },
        "id": "mqZvi3Aaow8a",
        "outputId": "fc97b5ac-967b-43f0-fe14-44a6a34a5df8"
      },
      "execution_count": null,
      "outputs": [
        {
          "output_type": "execute_result",
          "data": {
            "text/plain": [
              "Sentiment(polarity=-0.5859375, subjectivity=0.6)"
            ]
          },
          "metadata": {},
          "execution_count": 20
        }
      ]
    },
    {
      "cell_type": "markdown",
      "source": [
        "#TextBlob"
      ],
      "metadata": {
        "id": "pPAsenROo3wU"
      }
    },
    {
      "cell_type": "code",
      "source": [
        "#tweet sentiment analysis using the TextBlob Library\n",
        "#import all necessary libraries\n",
        "import pandas as pd\n",
        "from textblob import TextBlob\n",
        "import re\n"
      ],
      "metadata": {
        "id": "MkiUzHdho2Un"
      },
      "execution_count": null,
      "outputs": []
    },
    {
      "cell_type": "code",
      "source": [
        "#displaying the text in the notebook, we want to increase the display width for the DataFrame\n",
        "pd.set_option('display.max_colwidth',240)\n"
      ],
      "metadata": {
        "id": "cNXnrynIo6Ab"
      },
      "execution_count": null,
      "outputs": []
    },
    {
      "cell_type": "code",
      "source": [
        "#load the Tweets dataset using read_csv() function\n",
        "TWEET_FILE='Tweets.csv'\n",
        "tweets=pd.read_csv(TWEET_FILE,usecols=['text'])\n",
        "tweets.columns=['Tweet']\n"
      ],
      "metadata": {
        "id": "2EkBlGxxo8IC"
      },
      "execution_count": null,
      "outputs": []
    },
    {
      "cell_type": "code",
      "source": [
        "#view the first 10 records of the DataFrame\n",
        "tweets.head(10)\n"
      ],
      "metadata": {
        "colab": {
          "base_uri": "https://localhost:8080/",
          "height": 363
        },
        "id": "gSZCqRCPo9eY",
        "outputId": "908175c6-5d5d-45ec-ab7c-17f6bf30f2c7"
      },
      "execution_count": null,
      "outputs": [
        {
          "output_type": "execute_result",
          "data": {
            "text/html": [
              "<div>\n",
              "<style scoped>\n",
              "    .dataframe tbody tr th:only-of-type {\n",
              "        vertical-align: middle;\n",
              "    }\n",
              "\n",
              "    .dataframe tbody tr th {\n",
              "        vertical-align: top;\n",
              "    }\n",
              "\n",
              "    .dataframe thead th {\n",
              "        text-align: right;\n",
              "    }\n",
              "</style>\n",
              "<table border=\"1\" class=\"dataframe\">\n",
              "  <thead>\n",
              "    <tr style=\"text-align: right;\">\n",
              "      <th></th>\n",
              "      <th>Tweet</th>\n",
              "    </tr>\n",
              "  </thead>\n",
              "  <tbody>\n",
              "    <tr>\n",
              "      <th>0</th>\n",
              "      <td>@VirginAmerica What @dhepburn said.</td>\n",
              "    </tr>\n",
              "    <tr>\n",
              "      <th>1</th>\n",
              "      <td>@VirginAmerica plus you've added commercials to the experience... tacky.</td>\n",
              "    </tr>\n",
              "    <tr>\n",
              "      <th>2</th>\n",
              "      <td>@VirginAmerica I didn't today... Must mean I need to take another trip!</td>\n",
              "    </tr>\n",
              "    <tr>\n",
              "      <th>3</th>\n",
              "      <td>@VirginAmerica it's really aggressive to blast obnoxious \"entertainment\" in your guests' faces &amp;amp; they have little recourse</td>\n",
              "    </tr>\n",
              "    <tr>\n",
              "      <th>4</th>\n",
              "      <td>@VirginAmerica and it's a really big bad thing about it</td>\n",
              "    </tr>\n",
              "    <tr>\n",
              "      <th>5</th>\n",
              "      <td>@VirginAmerica seriously would pay $30 a flight for seats that didn't have this playing.\\nit's really the only bad thing about flying VA</td>\n",
              "    </tr>\n",
              "    <tr>\n",
              "      <th>6</th>\n",
              "      <td>@VirginAmerica yes, nearly every time I fly VX this “ear worm” won’t go away :)</td>\n",
              "    </tr>\n",
              "    <tr>\n",
              "      <th>7</th>\n",
              "      <td>@VirginAmerica Really missed a prime opportunity for Men Without Hats parody, there. https://t.co/mWpG7grEZP</td>\n",
              "    </tr>\n",
              "    <tr>\n",
              "      <th>8</th>\n",
              "      <td>@virginamerica Well, I didn't…but NOW I DO! :-D</td>\n",
              "    </tr>\n",
              "    <tr>\n",
              "      <th>9</th>\n",
              "      <td>@VirginAmerica it was amazing, and arrived an hour early. You're too good to me.</td>\n",
              "    </tr>\n",
              "  </tbody>\n",
              "</table>\n",
              "</div>"
            ],
            "text/plain": [
              "                                                                                                                                      Tweet\n",
              "0                                                                                                       @VirginAmerica What @dhepburn said.\n",
              "1                                                                  @VirginAmerica plus you've added commercials to the experience... tacky.\n",
              "2                                                                   @VirginAmerica I didn't today... Must mean I need to take another trip!\n",
              "3            @VirginAmerica it's really aggressive to blast obnoxious \"entertainment\" in your guests' faces &amp; they have little recourse\n",
              "4                                                                                   @VirginAmerica and it's a really big bad thing about it\n",
              "5  @VirginAmerica seriously would pay $30 a flight for seats that didn't have this playing.\\nit's really the only bad thing about flying VA\n",
              "6                                                           @VirginAmerica yes, nearly every time I fly VX this “ear worm” won’t go away :)\n",
              "7                              @VirginAmerica Really missed a prime opportunity for Men Without Hats parody, there. https://t.co/mWpG7grEZP\n",
              "8                                                                                           @virginamerica Well, I didn't…but NOW I DO! :-D\n",
              "9                                                          @VirginAmerica it was amazing, and arrived an hour early. You're too good to me."
            ]
          },
          "metadata": {},
          "execution_count": 17
        }
      ]
    },
    {
      "cell_type": "code",
      "source": [
        "#tweets contain twitter handles, which start with the @ symbol. The string column included in the DataFrame has an extract() function, Which uses a regex to get parts of a string.\n",
        "#this code declares a new column called At and sets the value to what the extract function returns. The extract function uses a regex, ^(@\\S+), to return strings that start with @. \n",
        "tweets['At']=tweets.Tweet.str.extract(r'^(@\\S+)')\n"
      ],
      "metadata": {
        "id": "8NfJlcwwo_pw"
      },
      "execution_count": null,
      "outputs": []
    },
    {
      "cell_type": "code",
      "source": [
        "#view the 10 records along with twitter handles\n",
        "tweets.head(10)\n"
      ],
      "metadata": {
        "colab": {
          "base_uri": "https://localhost:8080/",
          "height": 380
        },
        "id": "gbFduF-tpDet",
        "outputId": "32e0f997-b870-4e2a-9bb6-11ce2dbc329e"
      },
      "execution_count": null,
      "outputs": [
        {
          "output_type": "execute_result",
          "data": {
            "text/html": [
              "<div>\n",
              "<style scoped>\n",
              "    .dataframe tbody tr th:only-of-type {\n",
              "        vertical-align: middle;\n",
              "    }\n",
              "\n",
              "    .dataframe tbody tr th {\n",
              "        vertical-align: top;\n",
              "    }\n",
              "\n",
              "    .dataframe thead th {\n",
              "        text-align: right;\n",
              "    }\n",
              "</style>\n",
              "<table border=\"1\" class=\"dataframe\">\n",
              "  <thead>\n",
              "    <tr style=\"text-align: right;\">\n",
              "      <th></th>\n",
              "      <th>Tweet</th>\n",
              "      <th>At</th>\n",
              "    </tr>\n",
              "  </thead>\n",
              "  <tbody>\n",
              "    <tr>\n",
              "      <th>0</th>\n",
              "      <td>@VirginAmerica What @dhepburn said.</td>\n",
              "      <td>@VirginAmerica</td>\n",
              "    </tr>\n",
              "    <tr>\n",
              "      <th>1</th>\n",
              "      <td>@VirginAmerica plus you've added commercials to the experience... tacky.</td>\n",
              "      <td>@VirginAmerica</td>\n",
              "    </tr>\n",
              "    <tr>\n",
              "      <th>2</th>\n",
              "      <td>@VirginAmerica I didn't today... Must mean I need to take another trip!</td>\n",
              "      <td>@VirginAmerica</td>\n",
              "    </tr>\n",
              "    <tr>\n",
              "      <th>3</th>\n",
              "      <td>@VirginAmerica it's really aggressive to blast obnoxious \"entertainment\" in your guests' faces &amp;amp; they have little recourse</td>\n",
              "      <td>@VirginAmerica</td>\n",
              "    </tr>\n",
              "    <tr>\n",
              "      <th>4</th>\n",
              "      <td>@VirginAmerica and it's a really big bad thing about it</td>\n",
              "      <td>@VirginAmerica</td>\n",
              "    </tr>\n",
              "    <tr>\n",
              "      <th>5</th>\n",
              "      <td>@VirginAmerica seriously would pay $30 a flight for seats that didn't have this playing.\\nit's really the only bad thing about flying VA</td>\n",
              "      <td>@VirginAmerica</td>\n",
              "    </tr>\n",
              "    <tr>\n",
              "      <th>6</th>\n",
              "      <td>@VirginAmerica yes, nearly every time I fly VX this “ear worm” won’t go away :)</td>\n",
              "      <td>@VirginAmerica</td>\n",
              "    </tr>\n",
              "    <tr>\n",
              "      <th>7</th>\n",
              "      <td>@VirginAmerica Really missed a prime opportunity for Men Without Hats parody, there. https://t.co/mWpG7grEZP</td>\n",
              "      <td>@VirginAmerica</td>\n",
              "    </tr>\n",
              "    <tr>\n",
              "      <th>8</th>\n",
              "      <td>@virginamerica Well, I didn't…but NOW I DO! :-D</td>\n",
              "      <td>@virginamerica</td>\n",
              "    </tr>\n",
              "    <tr>\n",
              "      <th>9</th>\n",
              "      <td>@VirginAmerica it was amazing, and arrived an hour early. You're too good to me.</td>\n",
              "      <td>@VirginAmerica</td>\n",
              "    </tr>\n",
              "  </tbody>\n",
              "</table>\n",
              "</div>"
            ],
            "text/plain": [
              "                                                                                                                                      Tweet              At\n",
              "0                                                                                                       @VirginAmerica What @dhepburn said.  @VirginAmerica\n",
              "1                                                                  @VirginAmerica plus you've added commercials to the experience... tacky.  @VirginAmerica\n",
              "2                                                                   @VirginAmerica I didn't today... Must mean I need to take another trip!  @VirginAmerica\n",
              "3            @VirginAmerica it's really aggressive to blast obnoxious \"entertainment\" in your guests' faces &amp; they have little recourse  @VirginAmerica\n",
              "4                                                                                   @VirginAmerica and it's a really big bad thing about it  @VirginAmerica\n",
              "5  @VirginAmerica seriously would pay $30 a flight for seats that didn't have this playing.\\nit's really the only bad thing about flying VA  @VirginAmerica\n",
              "6                                                           @VirginAmerica yes, nearly every time I fly VX this “ear worm” won’t go away :)  @VirginAmerica\n",
              "7                              @VirginAmerica Really missed a prime opportunity for Men Without Hats parody, there. https://t.co/mWpG7grEZP  @VirginAmerica\n",
              "8                                                                                           @virginamerica Well, I didn't…but NOW I DO! :-D  @virginamerica\n",
              "9                                                          @VirginAmerica it was amazing, and arrived an hour early. You're too good to me.  @VirginAmerica"
            ]
          },
          "metadata": {},
          "execution_count": 24
        }
      ]
    },
    {
      "cell_type": "code",
      "source": [
        "#remove the Twitter handles since they are irrelevant for sentiment analysis. remove_handles(), which accepts a DataFrame as a parameter. After passing the DataFrame, the re.sub() function will remove the handles in the DataFrame.\n",
        "def remove_handles(tweet):\n",
        "  return re.sub(r'@\\S+','',tweet)\n",
        "\n"
      ],
      "metadata": {
        "id": "oJRgfi6WpFSb"
      },
      "execution_count": null,
      "outputs": []
    },
    {
      "cell_type": "code",
      "source": [
        "#remove the handles\n",
        "tweets['Tweet']=tweets.Tweet.apply(remove_handles)\n",
        "tweets.head(10)\n"
      ],
      "metadata": {
        "colab": {
          "base_uri": "https://localhost:8080/",
          "height": 363
        },
        "id": "8cbffOwrpH2Y",
        "outputId": "3371cf40-4eef-4589-b2cb-59e5392bc16d"
      },
      "execution_count": null,
      "outputs": [
        {
          "output_type": "execute_result",
          "data": {
            "text/html": [
              "<div>\n",
              "<style scoped>\n",
              "    .dataframe tbody tr th:only-of-type {\n",
              "        vertical-align: middle;\n",
              "    }\n",
              "\n",
              "    .dataframe tbody tr th {\n",
              "        vertical-align: top;\n",
              "    }\n",
              "\n",
              "    .dataframe thead th {\n",
              "        text-align: right;\n",
              "    }\n",
              "</style>\n",
              "<table border=\"1\" class=\"dataframe\">\n",
              "  <thead>\n",
              "    <tr style=\"text-align: right;\">\n",
              "      <th></th>\n",
              "      <th>Tweet</th>\n",
              "      <th>At</th>\n",
              "    </tr>\n",
              "  </thead>\n",
              "  <tbody>\n",
              "    <tr>\n",
              "      <th>0</th>\n",
              "      <td>What  said.</td>\n",
              "      <td>@VirginAmerica</td>\n",
              "    </tr>\n",
              "    <tr>\n",
              "      <th>1</th>\n",
              "      <td>plus you've added commercials to the experience... tacky.</td>\n",
              "      <td>@VirginAmerica</td>\n",
              "    </tr>\n",
              "    <tr>\n",
              "      <th>2</th>\n",
              "      <td>I didn't today... Must mean I need to take another trip!</td>\n",
              "      <td>@VirginAmerica</td>\n",
              "    </tr>\n",
              "    <tr>\n",
              "      <th>3</th>\n",
              "      <td>it's really aggressive to blast obnoxious \"entertainment\" in your guests' faces &amp;amp; they have little recourse</td>\n",
              "      <td>@VirginAmerica</td>\n",
              "    </tr>\n",
              "    <tr>\n",
              "      <th>4</th>\n",
              "      <td>and it's a really big bad thing about it</td>\n",
              "      <td>@VirginAmerica</td>\n",
              "    </tr>\n",
              "    <tr>\n",
              "      <th>5</th>\n",
              "      <td>seriously would pay $30 a flight for seats that didn't have this playing.\\nit's really the only bad thing about flying VA</td>\n",
              "      <td>@VirginAmerica</td>\n",
              "    </tr>\n",
              "    <tr>\n",
              "      <th>6</th>\n",
              "      <td>yes, nearly every time I fly VX this “ear worm” won’t go away :)</td>\n",
              "      <td>@VirginAmerica</td>\n",
              "    </tr>\n",
              "    <tr>\n",
              "      <th>7</th>\n",
              "      <td>Really missed a prime opportunity for Men Without Hats parody, there. https://t.co/mWpG7grEZP</td>\n",
              "      <td>@VirginAmerica</td>\n",
              "    </tr>\n",
              "    <tr>\n",
              "      <th>8</th>\n",
              "      <td>Well, I didn't…but NOW I DO! :-D</td>\n",
              "      <td>@virginamerica</td>\n",
              "    </tr>\n",
              "    <tr>\n",
              "      <th>9</th>\n",
              "      <td>it was amazing, and arrived an hour early. You're too good to me.</td>\n",
              "      <td>@VirginAmerica</td>\n",
              "    </tr>\n",
              "  </tbody>\n",
              "</table>\n",
              "</div>"
            ],
            "text/plain": [
              "                                                                                                                        Tweet              At\n",
              "0                                                                                                                 What  said.  @VirginAmerica\n",
              "1                                                                   plus you've added commercials to the experience... tacky.  @VirginAmerica\n",
              "2                                                                    I didn't today... Must mean I need to take another trip!  @VirginAmerica\n",
              "3             it's really aggressive to blast obnoxious \"entertainment\" in your guests' faces &amp; they have little recourse  @VirginAmerica\n",
              "4                                                                                    and it's a really big bad thing about it  @VirginAmerica\n",
              "5   seriously would pay $30 a flight for seats that didn't have this playing.\\nit's really the only bad thing about flying VA  @VirginAmerica\n",
              "6                                                            yes, nearly every time I fly VX this “ear worm” won’t go away :)  @VirginAmerica\n",
              "7                               Really missed a prime opportunity for Men Without Hats parody, there. https://t.co/mWpG7grEZP  @VirginAmerica\n",
              "8                                                                                            Well, I didn't…but NOW I DO! :-D  @virginamerica\n",
              "9                                                           it was amazing, and arrived an hour early. You're too good to me.  @VirginAmerica"
            ]
          },
          "metadata": {},
          "execution_count": 11
        }
      ]
    },
    {
      "cell_type": "code",
      "source": [
        "#get_sentiment() function, which accepts a DataFrame and a column as parameters. Using this function, we create two new columns Polarity and Subjectivity which will show the sentiment scores of each tweet.\n",
        "def get_sentiment(dataframe,column):\n",
        "  text_column=dataframe[column]\n",
        "  textblob_sentiment=text_column.apply(TextBlob)\n",
        "  sentiment_values=[{'Polarity':v.sentiment.polarity,'Subjectivity':v.sentiment.subjectivity} for v in textblob_sentiment.values]\n",
        "  return pd.DataFrame(sentiment_values)\n",
        "\n",
        "sentiment_frame=get_sentiment(tweets,'Tweet')\n",
        "\n",
        "sentiment_frame.head(4)\n"
      ],
      "metadata": {
        "colab": {
          "base_uri": "https://localhost:8080/",
          "height": 175
        },
        "id": "qZ8fgc6EpJlm",
        "outputId": "d285928e-6e32-4bd9-9027-3f4ca1f25002"
      },
      "execution_count": null,
      "outputs": [
        {
          "output_type": "execute_result",
          "data": {
            "text/html": [
              "<div>\n",
              "<style scoped>\n",
              "    .dataframe tbody tr th:only-of-type {\n",
              "        vertical-align: middle;\n",
              "    }\n",
              "\n",
              "    .dataframe tbody tr th {\n",
              "        vertical-align: top;\n",
              "    }\n",
              "\n",
              "    .dataframe thead th {\n",
              "        text-align: right;\n",
              "    }\n",
              "</style>\n",
              "<table border=\"1\" class=\"dataframe\">\n",
              "  <thead>\n",
              "    <tr style=\"text-align: right;\">\n",
              "      <th></th>\n",
              "      <th>Polarity</th>\n",
              "      <th>Subjectivity</th>\n",
              "    </tr>\n",
              "  </thead>\n",
              "  <tbody>\n",
              "    <tr>\n",
              "      <th>0</th>\n",
              "      <td>0.000000</td>\n",
              "      <td>0.0000</td>\n",
              "    </tr>\n",
              "    <tr>\n",
              "      <th>1</th>\n",
              "      <td>0.000000</td>\n",
              "      <td>0.0000</td>\n",
              "    </tr>\n",
              "    <tr>\n",
              "      <th>2</th>\n",
              "      <td>-0.390625</td>\n",
              "      <td>0.6875</td>\n",
              "    </tr>\n",
              "    <tr>\n",
              "      <th>3</th>\n",
              "      <td>0.006250</td>\n",
              "      <td>0.3500</td>\n",
              "    </tr>\n",
              "  </tbody>\n",
              "</table>\n",
              "</div>"
            ],
            "text/plain": [
              "   Polarity  Subjectivity\n",
              "0  0.000000        0.0000\n",
              "1  0.000000        0.0000\n",
              "2 -0.390625        0.6875\n",
              "3  0.006250        0.3500"
            ]
          },
          "metadata": {},
          "execution_count": 26
        }
      ]
    },
    {
      "cell_type": "code",
      "source": [
        "#join the original tweet DataFrame to the  sentiment_frameDataFrame, we use the concat() function\n",
        "tweets=pd.concat([tweets,sentiment_frame],axis=1)\n",
        "\n"
      ],
      "metadata": {
        "id": "coIEqR6upNg_"
      },
      "execution_count": null,
      "outputs": []
    },
    {
      "cell_type": "code",
      "source": [
        "#display 10 rows\n",
        "tweets.head(10)\n"
      ],
      "metadata": {
        "colab": {
          "base_uri": "https://localhost:8080/",
          "height": 415
        },
        "id": "rkmwRgHipPQo",
        "outputId": "4f887b37-b1e0-42fc-f5dc-0ad5d5f632b0"
      },
      "execution_count": null,
      "outputs": [
        {
          "output_type": "execute_result",
          "data": {
            "text/html": [
              "<div>\n",
              "<style scoped>\n",
              "    .dataframe tbody tr th:only-of-type {\n",
              "        vertical-align: middle;\n",
              "    }\n",
              "\n",
              "    .dataframe tbody tr th {\n",
              "        vertical-align: top;\n",
              "    }\n",
              "\n",
              "    .dataframe thead th {\n",
              "        text-align: right;\n",
              "    }\n",
              "</style>\n",
              "<table border=\"1\" class=\"dataframe\">\n",
              "  <thead>\n",
              "    <tr style=\"text-align: right;\">\n",
              "      <th></th>\n",
              "      <th>Tweet</th>\n",
              "      <th>At</th>\n",
              "      <th>Polarity</th>\n",
              "      <th>Subjectivity</th>\n",
              "    </tr>\n",
              "  </thead>\n",
              "  <tbody>\n",
              "    <tr>\n",
              "      <th>0</th>\n",
              "      <td>@VirginAmerica What @dhepburn said.</td>\n",
              "      <td>@VirginAmerica</td>\n",
              "      <td>0.000000</td>\n",
              "      <td>0.000000</td>\n",
              "    </tr>\n",
              "    <tr>\n",
              "      <th>1</th>\n",
              "      <td>@VirginAmerica plus you've added commercials to the experience... tacky.</td>\n",
              "      <td>@VirginAmerica</td>\n",
              "      <td>0.000000</td>\n",
              "      <td>0.000000</td>\n",
              "    </tr>\n",
              "    <tr>\n",
              "      <th>2</th>\n",
              "      <td>@VirginAmerica I didn't today... Must mean I need to take another trip!</td>\n",
              "      <td>@VirginAmerica</td>\n",
              "      <td>-0.390625</td>\n",
              "      <td>0.687500</td>\n",
              "    </tr>\n",
              "    <tr>\n",
              "      <th>3</th>\n",
              "      <td>@VirginAmerica it's really aggressive to blast obnoxious \"entertainment\" in your guests' faces &amp;amp; they have little recourse</td>\n",
              "      <td>@VirginAmerica</td>\n",
              "      <td>0.006250</td>\n",
              "      <td>0.350000</td>\n",
              "    </tr>\n",
              "    <tr>\n",
              "      <th>4</th>\n",
              "      <td>@VirginAmerica and it's a really big bad thing about it</td>\n",
              "      <td>@VirginAmerica</td>\n",
              "      <td>-0.350000</td>\n",
              "      <td>0.383333</td>\n",
              "    </tr>\n",
              "    <tr>\n",
              "      <th>5</th>\n",
              "      <td>@VirginAmerica seriously would pay $30 a flight for seats that didn't have this playing.\\nit's really the only bad thing about flying VA</td>\n",
              "      <td>@VirginAmerica</td>\n",
              "      <td>-0.208333</td>\n",
              "      <td>0.633333</td>\n",
              "    </tr>\n",
              "    <tr>\n",
              "      <th>6</th>\n",
              "      <td>@VirginAmerica yes, nearly every time I fly VX this “ear worm” won’t go away :)</td>\n",
              "      <td>@VirginAmerica</td>\n",
              "      <td>0.466667</td>\n",
              "      <td>0.766667</td>\n",
              "    </tr>\n",
              "    <tr>\n",
              "      <th>7</th>\n",
              "      <td>@VirginAmerica Really missed a prime opportunity for Men Without Hats parody, there. https://t.co/mWpG7grEZP</td>\n",
              "      <td>@VirginAmerica</td>\n",
              "      <td>0.200000</td>\n",
              "      <td>0.200000</td>\n",
              "    </tr>\n",
              "    <tr>\n",
              "      <th>8</th>\n",
              "      <td>@virginamerica Well, I didn't…but NOW I DO! :-D</td>\n",
              "      <td>@virginamerica</td>\n",
              "      <td>1.000000</td>\n",
              "      <td>1.000000</td>\n",
              "    </tr>\n",
              "    <tr>\n",
              "      <th>9</th>\n",
              "      <td>@VirginAmerica it was amazing, and arrived an hour early. You're too good to me.</td>\n",
              "      <td>@VirginAmerica</td>\n",
              "      <td>0.466667</td>\n",
              "      <td>0.600000</td>\n",
              "    </tr>\n",
              "  </tbody>\n",
              "</table>\n",
              "</div>"
            ],
            "text/plain": [
              "                                                                                                                                      Tweet  ... Subjectivity\n",
              "0                                                                                                       @VirginAmerica What @dhepburn said.  ...     0.000000\n",
              "1                                                                  @VirginAmerica plus you've added commercials to the experience... tacky.  ...     0.000000\n",
              "2                                                                   @VirginAmerica I didn't today... Must mean I need to take another trip!  ...     0.687500\n",
              "3            @VirginAmerica it's really aggressive to blast obnoxious \"entertainment\" in your guests' faces &amp; they have little recourse  ...     0.350000\n",
              "4                                                                                   @VirginAmerica and it's a really big bad thing about it  ...     0.383333\n",
              "5  @VirginAmerica seriously would pay $30 a flight for seats that didn't have this playing.\\nit's really the only bad thing about flying VA  ...     0.633333\n",
              "6                                                           @VirginAmerica yes, nearly every time I fly VX this “ear worm” won’t go away :)  ...     0.766667\n",
              "7                              @VirginAmerica Really missed a prime opportunity for Men Without Hats parody, there. https://t.co/mWpG7grEZP  ...     0.200000\n",
              "8                                                                                           @virginamerica Well, I didn't…but NOW I DO! :-D  ...     1.000000\n",
              "9                                                          @VirginAmerica it was amazing, and arrived an hour early. You're too good to me.  ...     0.600000\n",
              "\n",
              "[10 rows x 4 columns]"
            ]
          },
          "metadata": {},
          "execution_count": 28
        }
      ]
    },
    {
      "cell_type": "code",
      "source": [
        "#polarity scores greater than 0.5 as positive, less than or equal to -0.5 as negative and neutral as -0.1 and 0.1\n",
        "positive_tweets=tweets[tweets.Polarity>0.5]\n",
        "negative_tweets=tweets[tweets.Polarity<=-0.5]\n",
        "neutral_tweets=tweets[(tweets.Polarity>-0.1)&(tweets.Polarity<0.1)]\n",
        "\n",
        "positive_tweets\n",
        "\n"
      ],
      "metadata": {
        "colab": {
          "base_uri": "https://localhost:8080/",
          "height": 563
        },
        "id": "s8Jx56sJpRId",
        "outputId": "d23cea10-c971-49c3-fbae-7976fc3083be"
      },
      "execution_count": null,
      "outputs": [
        {
          "output_type": "execute_result",
          "data": {
            "text/html": [
              "<div>\n",
              "<style scoped>\n",
              "    .dataframe tbody tr th:only-of-type {\n",
              "        vertical-align: middle;\n",
              "    }\n",
              "\n",
              "    .dataframe tbody tr th {\n",
              "        vertical-align: top;\n",
              "    }\n",
              "\n",
              "    .dataframe thead th {\n",
              "        text-align: right;\n",
              "    }\n",
              "</style>\n",
              "<table border=\"1\" class=\"dataframe\">\n",
              "  <thead>\n",
              "    <tr style=\"text-align: right;\">\n",
              "      <th></th>\n",
              "      <th>Tweet</th>\n",
              "      <th>At</th>\n",
              "      <th>Polarity</th>\n",
              "      <th>Subjectivity</th>\n",
              "    </tr>\n",
              "  </thead>\n",
              "  <tbody>\n",
              "    <tr>\n",
              "      <th>8</th>\n",
              "      <td>@virginamerica Well, I didn't…but NOW I DO! :-D</td>\n",
              "      <td>@virginamerica</td>\n",
              "      <td>1.000000</td>\n",
              "      <td>1.000000</td>\n",
              "    </tr>\n",
              "    <tr>\n",
              "      <th>19</th>\n",
              "      <td>@VirginAmerica you know what would be amazingly awesome? BOS-FLL PLEASE!!!!!!! I want to fly with only you.</td>\n",
              "      <td>@VirginAmerica</td>\n",
              "      <td>0.600000</td>\n",
              "      <td>0.966667</td>\n",
              "    </tr>\n",
              "    <tr>\n",
              "      <th>22</th>\n",
              "      <td>@VirginAmerica I love the hipster innovation. You are a feel good brand.</td>\n",
              "      <td>@VirginAmerica</td>\n",
              "      <td>0.600000</td>\n",
              "      <td>0.600000</td>\n",
              "    </tr>\n",
              "    <tr>\n",
              "      <th>34</th>\n",
              "      <td>@VirginAmerica this is great news!  America could start flights to Hawaii by end of year http://t.co/r8p2Zy3fe4 via @Pacificbiznews</td>\n",
              "      <td>@VirginAmerica</td>\n",
              "      <td>1.000000</td>\n",
              "      <td>0.750000</td>\n",
              "    </tr>\n",
              "    <tr>\n",
              "      <th>35</th>\n",
              "      <td>Nice RT @VirginAmerica: Vibe with the moodlight from takeoff to touchdown. #MoodlitMonday #ScienceBehindTheExperience http://t.co/Y7O0uNxTQP</td>\n",
              "      <td>NaN</td>\n",
              "      <td>0.600000</td>\n",
              "      <td>1.000000</td>\n",
              "    </tr>\n",
              "    <tr>\n",
              "      <th>...</th>\n",
              "      <td>...</td>\n",
              "      <td>...</td>\n",
              "      <td>...</td>\n",
              "      <td>...</td>\n",
              "    </tr>\n",
              "    <tr>\n",
              "      <th>14566</th>\n",
              "      <td>@AmericanAir i was also told by agents my issues \"aren't their prob\" K fine. I get it. But have some compassion 4 others dealing w/this!!!</td>\n",
              "      <td>@AmericanAir</td>\n",
              "      <td>0.813802</td>\n",
              "      <td>0.500000</td>\n",
              "    </tr>\n",
              "    <tr>\n",
              "      <th>14577</th>\n",
              "      <td>@AmericanAir I have never on all my trips on any airline ever nat'l or int'l ever experienced anything like this!</td>\n",
              "      <td>@AmericanAir</td>\n",
              "      <td>1.000000</td>\n",
              "      <td>0.900000</td>\n",
              "    </tr>\n",
              "    <tr>\n",
              "      <th>14587</th>\n",
              "      <td>@AmericanAir I’ll play it by ear. I know that you are doing your best. Buy some chewey oatmeal cookies for your customer care folks.</td>\n",
              "      <td>@AmericanAir</td>\n",
              "      <td>1.000000</td>\n",
              "      <td>0.300000</td>\n",
              "    </tr>\n",
              "    <tr>\n",
              "      <th>14625</th>\n",
              "      <td>@AmericanAir Flight 236 was great. Fantastic cabin crew. A+ landing. #thankyou #JFK http://t.co/dRW08djHAI</td>\n",
              "      <td>@AmericanAir</td>\n",
              "      <td>0.600000</td>\n",
              "      <td>0.825000</td>\n",
              "    </tr>\n",
              "    <tr>\n",
              "      <th>14632</th>\n",
              "      <td>“@AmericanAir: @TilleyMonsta George, that doesn't look good. Please follow this link to start the refund process: http://t.co/4gr39s91Dl”😂</td>\n",
              "      <td>NaN</td>\n",
              "      <td>0.700000</td>\n",
              "      <td>0.600000</td>\n",
              "    </tr>\n",
              "  </tbody>\n",
              "</table>\n",
              "<p>1046 rows × 4 columns</p>\n",
              "</div>"
            ],
            "text/plain": [
              "                                                                                                                                              Tweet  ... Subjectivity\n",
              "8                                                                                                   @virginamerica Well, I didn't…but NOW I DO! :-D  ...     1.000000\n",
              "19                                      @VirginAmerica you know what would be amazingly awesome? BOS-FLL PLEASE!!!!!!! I want to fly with only you.  ...     0.966667\n",
              "22                                                                         @VirginAmerica I love the hipster innovation. You are a feel good brand.  ...     0.600000\n",
              "34              @VirginAmerica this is great news!  America could start flights to Hawaii by end of year http://t.co/r8p2Zy3fe4 via @Pacificbiznews  ...     0.750000\n",
              "35     Nice RT @VirginAmerica: Vibe with the moodlight from takeoff to touchdown. #MoodlitMonday #ScienceBehindTheExperience http://t.co/Y7O0uNxTQP  ...     1.000000\n",
              "...                                                                                                                                             ...  ...          ...\n",
              "14566    @AmericanAir i was also told by agents my issues \"aren't their prob\" K fine. I get it. But have some compassion 4 others dealing w/this!!!  ...     0.500000\n",
              "14577                             @AmericanAir I have never on all my trips on any airline ever nat'l or int'l ever experienced anything like this!  ...     0.900000\n",
              "14587          @AmericanAir I’ll play it by ear. I know that you are doing your best. Buy some chewey oatmeal cookies for your customer care folks.  ...     0.300000\n",
              "14625                                    @AmericanAir Flight 236 was great. Fantastic cabin crew. A+ landing. #thankyou #JFK http://t.co/dRW08djHAI  ...     0.825000\n",
              "14632    “@AmericanAir: @TilleyMonsta George, that doesn't look good. Please follow this link to start the refund process: http://t.co/4gr39s91Dl”😂  ...     0.600000\n",
              "\n",
              "[1046 rows x 4 columns]"
            ]
          },
          "metadata": {},
          "execution_count": 35
        }
      ]
    },
    {
      "cell_type": "code",
      "source": [
        "negative_tweets"
      ],
      "metadata": {
        "colab": {
          "base_uri": "https://localhost:8080/",
          "height": 597
        },
        "id": "m5Y5u5K4pTST",
        "outputId": "3f1d5790-155f-4eb3-ab73-dcdee9934366"
      },
      "execution_count": null,
      "outputs": [
        {
          "output_type": "execute_result",
          "data": {
            "text/html": [
              "<div>\n",
              "<style scoped>\n",
              "    .dataframe tbody tr th:only-of-type {\n",
              "        vertical-align: middle;\n",
              "    }\n",
              "\n",
              "    .dataframe tbody tr th {\n",
              "        vertical-align: top;\n",
              "    }\n",
              "\n",
              "    .dataframe thead th {\n",
              "        text-align: right;\n",
              "    }\n",
              "</style>\n",
              "<table border=\"1\" class=\"dataframe\">\n",
              "  <thead>\n",
              "    <tr style=\"text-align: right;\">\n",
              "      <th></th>\n",
              "      <th>Tweet</th>\n",
              "      <th>At</th>\n",
              "      <th>Polarity</th>\n",
              "      <th>Subjectivity</th>\n",
              "    </tr>\n",
              "  </thead>\n",
              "  <tbody>\n",
              "    <tr>\n",
              "      <th>33</th>\n",
              "      <td>@VirginAmerica awaiting my return phone call, just would prefer to use your online self-service option :(</td>\n",
              "      <td>@VirginAmerica</td>\n",
              "      <td>-0.750000</td>\n",
              "      <td>1.000000</td>\n",
              "    </tr>\n",
              "    <tr>\n",
              "      <th>84</th>\n",
              "      <td>@VirginAmerica it was a disappointing experience which will be shared with every business traveler I meet. #neverflyvirgin</td>\n",
              "      <td>@VirginAmerica</td>\n",
              "      <td>-0.600000</td>\n",
              "      <td>0.700000</td>\n",
              "    </tr>\n",
              "    <tr>\n",
              "      <th>87</th>\n",
              "      <td>@VirginAmerica Random Q: what's the distribution of elevate avatars? I bet that kitty has a disproportionate share http://t.co/APtZpuROp4</td>\n",
              "      <td>@VirginAmerica</td>\n",
              "      <td>-0.500000</td>\n",
              "      <td>0.500000</td>\n",
              "    </tr>\n",
              "    <tr>\n",
              "      <th>97</th>\n",
              "      <td>@VirginAmerica - Let 2 scanned in passengers leave the plane than told someone to remove their bag from 1st class bin? #uncomfortable</td>\n",
              "      <td>@VirginAmerica</td>\n",
              "      <td>-0.500000</td>\n",
              "      <td>1.000000</td>\n",
              "    </tr>\n",
              "    <tr>\n",
              "      <th>99</th>\n",
              "      <td>@VirginAmerica is anyone doing anything there today?  Website is useless and no one is answering the phone.</td>\n",
              "      <td>@VirginAmerica</td>\n",
              "      <td>-0.500000</td>\n",
              "      <td>0.200000</td>\n",
              "    </tr>\n",
              "    <tr>\n",
              "      <th>...</th>\n",
              "      <td>...</td>\n",
              "      <td>...</td>\n",
              "      <td>...</td>\n",
              "      <td>...</td>\n",
              "    </tr>\n",
              "    <tr>\n",
              "      <th>14483</th>\n",
              "      <td>@AmericanAir The bad weather wasn't a surprise! You should have double/triple staff on hand to handle calls. Way to treat your customers.</td>\n",
              "      <td>@AmericanAir</td>\n",
              "      <td>-0.875000</td>\n",
              "      <td>0.666667</td>\n",
              "    </tr>\n",
              "    <tr>\n",
              "      <th>14507</th>\n",
              "      <td>@AmericanAir i dont believe it, it has been impossible for your agents to get an update from the delivery company since yesterday at 11 am</td>\n",
              "      <td>@AmericanAir</td>\n",
              "      <td>-0.666667</td>\n",
              "      <td>1.000000</td>\n",
              "    </tr>\n",
              "    <tr>\n",
              "      <th>14535</th>\n",
              "      <td>@AmericanAir Flight Cancelled Flighted and rebooked but agent made a mistake and booked wrong date! Been trying to get through via phone for hours!!</td>\n",
              "      <td>@AmericanAir</td>\n",
              "      <td>-0.976562</td>\n",
              "      <td>0.900000</td>\n",
              "    </tr>\n",
              "    <tr>\n",
              "      <th>14568</th>\n",
              "      <td>@AmericanAir i was spoken 2 like I'm an idiot and that is not OK!! I don't need to deal w/ that esp after the travel experience I've had</td>\n",
              "      <td>@AmericanAir</td>\n",
              "      <td>-0.595313</td>\n",
              "      <td>0.650000</td>\n",
              "    </tr>\n",
              "    <tr>\n",
              "      <th>14610</th>\n",
              "      <td>@AmericanAir I understand the weather issue but you can't expect passengers to wait 24 hours inside airports for whatever reason. Outrageous</td>\n",
              "      <td>@AmericanAir</td>\n",
              "      <td>-1.000000</td>\n",
              "      <td>1.000000</td>\n",
              "    </tr>\n",
              "  </tbody>\n",
              "</table>\n",
              "<p>827 rows × 4 columns</p>\n",
              "</div>"
            ],
            "text/plain": [
              "                                                                                                                                                      Tweet  ... Subjectivity\n",
              "33                                                @VirginAmerica awaiting my return phone call, just would prefer to use your online self-service option :(  ...     1.000000\n",
              "84                               @VirginAmerica it was a disappointing experience which will be shared with every business traveler I meet. #neverflyvirgin  ...     0.700000\n",
              "87                @VirginAmerica Random Q: what's the distribution of elevate avatars? I bet that kitty has a disproportionate share http://t.co/APtZpuROp4  ...     0.500000\n",
              "97                    @VirginAmerica - Let 2 scanned in passengers leave the plane than told someone to remove their bag from 1st class bin? #uncomfortable  ...     1.000000\n",
              "99                                              @VirginAmerica is anyone doing anything there today?  Website is useless and no one is answering the phone.  ...     0.200000\n",
              "...                                                                                                                                                     ...  ...          ...\n",
              "14483             @AmericanAir The bad weather wasn't a surprise! You should have double/triple staff on hand to handle calls. Way to treat your customers.  ...     0.666667\n",
              "14507            @AmericanAir i dont believe it, it has been impossible for your agents to get an update from the delivery company since yesterday at 11 am  ...     1.000000\n",
              "14535  @AmericanAir Flight Cancelled Flighted and rebooked but agent made a mistake and booked wrong date! Been trying to get through via phone for hours!!  ...     0.900000\n",
              "14568              @AmericanAir i was spoken 2 like I'm an idiot and that is not OK!! I don't need to deal w/ that esp after the travel experience I've had  ...     0.650000\n",
              "14610          @AmericanAir I understand the weather issue but you can't expect passengers to wait 24 hours inside airports for whatever reason. Outrageous  ...     1.000000\n",
              "\n",
              "[827 rows x 4 columns]"
            ]
          },
          "metadata": {},
          "execution_count": 34
        }
      ]
    },
    {
      "cell_type": "code",
      "source": [
        "neutral_tweets\n"
      ],
      "metadata": {
        "colab": {
          "base_uri": "https://localhost:8080/",
          "height": 510
        },
        "id": "mr3rKyxT0EU6",
        "outputId": "f5fd7ddc-3ef8-4dcd-a1e3-67cf0219f44c"
      },
      "execution_count": null,
      "outputs": [
        {
          "output_type": "execute_result",
          "data": {
            "text/html": [
              "<div>\n",
              "<style scoped>\n",
              "    .dataframe tbody tr th:only-of-type {\n",
              "        vertical-align: middle;\n",
              "    }\n",
              "\n",
              "    .dataframe tbody tr th {\n",
              "        vertical-align: top;\n",
              "    }\n",
              "\n",
              "    .dataframe thead th {\n",
              "        text-align: right;\n",
              "    }\n",
              "</style>\n",
              "<table border=\"1\" class=\"dataframe\">\n",
              "  <thead>\n",
              "    <tr style=\"text-align: right;\">\n",
              "      <th></th>\n",
              "      <th>Tweet</th>\n",
              "      <th>At</th>\n",
              "      <th>Polarity</th>\n",
              "      <th>Subjectivity</th>\n",
              "    </tr>\n",
              "  </thead>\n",
              "  <tbody>\n",
              "    <tr>\n",
              "      <th>0</th>\n",
              "      <td>@VirginAmerica What @dhepburn said.</td>\n",
              "      <td>@VirginAmerica</td>\n",
              "      <td>0.00000</td>\n",
              "      <td>0.00</td>\n",
              "    </tr>\n",
              "    <tr>\n",
              "      <th>1</th>\n",
              "      <td>@VirginAmerica plus you've added commercials to the experience... tacky.</td>\n",
              "      <td>@VirginAmerica</td>\n",
              "      <td>0.00000</td>\n",
              "      <td>0.00</td>\n",
              "    </tr>\n",
              "    <tr>\n",
              "      <th>3</th>\n",
              "      <td>@VirginAmerica it's really aggressive to blast obnoxious \"entertainment\" in your guests' faces &amp;amp; they have little recourse</td>\n",
              "      <td>@VirginAmerica</td>\n",
              "      <td>0.00625</td>\n",
              "      <td>0.35</td>\n",
              "    </tr>\n",
              "    <tr>\n",
              "      <th>10</th>\n",
              "      <td>@VirginAmerica did you know that suicide is the second leading cause of death among teens 10-24</td>\n",
              "      <td>@VirginAmerica</td>\n",
              "      <td>0.00000</td>\n",
              "      <td>0.00</td>\n",
              "    </tr>\n",
              "    <tr>\n",
              "      <th>15</th>\n",
              "      <td>@VirginAmerica SFO-PDX schedule is still MIA.</td>\n",
              "      <td>@VirginAmerica</td>\n",
              "      <td>0.00000</td>\n",
              "      <td>0.00</td>\n",
              "    </tr>\n",
              "    <tr>\n",
              "      <th>...</th>\n",
              "      <td>...</td>\n",
              "      <td>...</td>\n",
              "      <td>...</td>\n",
              "      <td>...</td>\n",
              "    </tr>\n",
              "    <tr>\n",
              "      <th>14626</th>\n",
              "      <td>@AmericanAir Flight 953 NYC-Buenos Aires has been delay since yesterday at 10PM. Is going to take off at 3.30PM now? Give us answers!</td>\n",
              "      <td>@AmericanAir</td>\n",
              "      <td>0.00000</td>\n",
              "      <td>0.00</td>\n",
              "    </tr>\n",
              "    <tr>\n",
              "      <th>14628</th>\n",
              "      <td>Thank you. “@AmericanAir: @jlhalldc Customer Relations will review your concerns and contact you back directly, John.”</td>\n",
              "      <td>NaN</td>\n",
              "      <td>0.05000</td>\n",
              "      <td>0.20</td>\n",
              "    </tr>\n",
              "    <tr>\n",
              "      <th>14633</th>\n",
              "      <td>@AmericanAir my flight was Cancelled Flightled, leaving tomorrow morning. Auto rebooked for a Tuesday night flight but need to arrive Monday.</td>\n",
              "      <td>@AmericanAir</td>\n",
              "      <td>0.00000</td>\n",
              "      <td>0.00</td>\n",
              "    </tr>\n",
              "    <tr>\n",
              "      <th>14635</th>\n",
              "      <td>@AmericanAir thank you we got on a different flight to Chicago.</td>\n",
              "      <td>@AmericanAir</td>\n",
              "      <td>0.00000</td>\n",
              "      <td>0.60</td>\n",
              "    </tr>\n",
              "    <tr>\n",
              "      <th>14637</th>\n",
              "      <td>@AmericanAir Please bring American Airlines to #BlackBerry10</td>\n",
              "      <td>@AmericanAir</td>\n",
              "      <td>0.00000</td>\n",
              "      <td>0.00</td>\n",
              "    </tr>\n",
              "  </tbody>\n",
              "</table>\n",
              "<p>6731 rows × 4 columns</p>\n",
              "</div>"
            ],
            "text/plain": [
              "                                                                                                                                               Tweet  ... Subjectivity\n",
              "0                                                                                                                @VirginAmerica What @dhepburn said.  ...         0.00\n",
              "1                                                                           @VirginAmerica plus you've added commercials to the experience... tacky.  ...         0.00\n",
              "3                     @VirginAmerica it's really aggressive to blast obnoxious \"entertainment\" in your guests' faces &amp; they have little recourse  ...         0.35\n",
              "10                                                   @VirginAmerica did you know that suicide is the second leading cause of death among teens 10-24  ...         0.00\n",
              "15                                                                                                     @VirginAmerica SFO-PDX schedule is still MIA.  ...         0.00\n",
              "...                                                                                                                                              ...  ...          ...\n",
              "14626          @AmericanAir Flight 953 NYC-Buenos Aires has been delay since yesterday at 10PM. Is going to take off at 3.30PM now? Give us answers!  ...         0.00\n",
              "14628                         Thank you. “@AmericanAir: @jlhalldc Customer Relations will review your concerns and contact you back directly, John.”  ...         0.20\n",
              "14633  @AmericanAir my flight was Cancelled Flightled, leaving tomorrow morning. Auto rebooked for a Tuesday night flight but need to arrive Monday.  ...         0.00\n",
              "14635                                                                                @AmericanAir thank you we got on a different flight to Chicago.  ...         0.60\n",
              "14637                                                                                   @AmericanAir Please bring American Airlines to #BlackBerry10  ...         0.00\n",
              "\n",
              "[6731 rows x 4 columns]"
            ]
          },
          "metadata": {},
          "execution_count": 32
        }
      ]
    },
    {
      "cell_type": "markdown",
      "source": [
        "#Understanding Data for Sentiment Analysis"
      ],
      "metadata": {
        "id": "FkPDRr4Tvdwi"
      }
    },
    {
      "cell_type": "code",
      "source": [
        "#Loading Data for Sentiment Analysis\n",
        "#We will load data that could be used to train a sentiment analysis model.\n",
        "# We will be using three datasets namely Amazon, Yelp and IMDB\n"
      ],
      "metadata": {
        "id": "HCpL_Y3y0JOb"
      },
      "execution_count": null,
      "outputs": []
    },
    {
      "cell_type": "code",
      "source": [
        "#import necessary libraries\n",
        "#Import necessary libraries and also sets the display width to 200 characters \n",
        "#so that more of the review text is displayed on the screen.\n",
        "\n",
        "import pandas as pd\n",
        "pd.set_option('display.max_colwidth',200)\n",
        "\n"
      ],
      "metadata": {
        "id": "JOtMPG-0vmfp"
      },
      "execution_count": null,
      "outputs": []
    },
    {
      "cell_type": "code",
      "source": [
        "#load the three different datasets\n",
        "DATA_DIR='/content/'\n",
        "IMDB_DATA_FILE=DATA_DIR+'imdb_labelled.txt'\n",
        "YELP_DATA_FILE=DATA_DIR+'yelp_labelled.txt'\n",
        "AMAZON_DATA_FILE=DATA_DIR+'amazon_cells_labelled.txt'\n",
        "COLUMN_NAMES=['Review','Sentiment']\n"
      ],
      "metadata": {
        "id": "Xe0Nqq5kvpHe"
      },
      "execution_count": null,
      "outputs": []
    },
    {
      "cell_type": "code",
      "source": [
        "#load the IMDB reviews\n",
        "imdb_reviews=pd.read_table(IMDB_DATA_FILE,names=COLUMN_NAMES)\n",
        "imdb_reviews.head(10)\n",
        "\n",
        "#negative reviews have sentiment scores of 0 and positive reviews have the score of 1\n"
      ],
      "metadata": {
        "colab": {
          "base_uri": "https://localhost:8080/",
          "height": 380
        },
        "id": "nKC_nCVEvrqq",
        "outputId": "608756e7-6c62-4583-ad6c-81f947b5a94e"
      },
      "execution_count": null,
      "outputs": [
        {
          "output_type": "execute_result",
          "data": {
            "text/html": [
              "<div>\n",
              "<style scoped>\n",
              "    .dataframe tbody tr th:only-of-type {\n",
              "        vertical-align: middle;\n",
              "    }\n",
              "\n",
              "    .dataframe tbody tr th {\n",
              "        vertical-align: top;\n",
              "    }\n",
              "\n",
              "    .dataframe thead th {\n",
              "        text-align: right;\n",
              "    }\n",
              "</style>\n",
              "<table border=\"1\" class=\"dataframe\">\n",
              "  <thead>\n",
              "    <tr style=\"text-align: right;\">\n",
              "      <th></th>\n",
              "      <th>Review</th>\n",
              "      <th>Sentiment</th>\n",
              "    </tr>\n",
              "  </thead>\n",
              "  <tbody>\n",
              "    <tr>\n",
              "      <th>0</th>\n",
              "      <td>A very, very, very slow-moving, aimless movie about a distressed, drifting young man.</td>\n",
              "      <td>0</td>\n",
              "    </tr>\n",
              "    <tr>\n",
              "      <th>1</th>\n",
              "      <td>Not sure who was more lost - the flat characters or the audience, nearly half of whom walked out.</td>\n",
              "      <td>0</td>\n",
              "    </tr>\n",
              "    <tr>\n",
              "      <th>2</th>\n",
              "      <td>Attempting artiness with black &amp; white and clever camera angles, the movie disappointed - became even more ridiculous - as the acting was poor and the plot and lines almost non-existent.</td>\n",
              "      <td>0</td>\n",
              "    </tr>\n",
              "    <tr>\n",
              "      <th>3</th>\n",
              "      <td>Very little music or anything to speak of.</td>\n",
              "      <td>0</td>\n",
              "    </tr>\n",
              "    <tr>\n",
              "      <th>4</th>\n",
              "      <td>The best scene in the movie was when Gerardo is trying to find a song that keeps running through his head.</td>\n",
              "      <td>1</td>\n",
              "    </tr>\n",
              "    <tr>\n",
              "      <th>5</th>\n",
              "      <td>The rest of the movie lacks art, charm, meaning... If it's about emptiness, it works I guess because it's empty.</td>\n",
              "      <td>0</td>\n",
              "    </tr>\n",
              "    <tr>\n",
              "      <th>6</th>\n",
              "      <td>Wasted two hours.</td>\n",
              "      <td>0</td>\n",
              "    </tr>\n",
              "    <tr>\n",
              "      <th>7</th>\n",
              "      <td>Saw the movie today and thought it was a good effort, good messages for kids.</td>\n",
              "      <td>1</td>\n",
              "    </tr>\n",
              "    <tr>\n",
              "      <th>8</th>\n",
              "      <td>A bit predictable.</td>\n",
              "      <td>0</td>\n",
              "    </tr>\n",
              "    <tr>\n",
              "      <th>9</th>\n",
              "      <td>Loved the casting of Jimmy Buffet as the science teacher.</td>\n",
              "      <td>1</td>\n",
              "    </tr>\n",
              "  </tbody>\n",
              "</table>\n",
              "</div>"
            ],
            "text/plain": [
              "                                                                                                                                                                                         Review  Sentiment\n",
              "0                                                                                                       A very, very, very slow-moving, aimless movie about a distressed, drifting young man.            0\n",
              "1                                                                                           Not sure who was more lost - the flat characters or the audience, nearly half of whom walked out.            0\n",
              "2  Attempting artiness with black & white and clever camera angles, the movie disappointed - became even more ridiculous - as the acting was poor and the plot and lines almost non-existent.            0\n",
              "3                                                                                                                                                  Very little music or anything to speak of.            0\n",
              "4                                                                                  The best scene in the movie was when Gerardo is trying to find a song that keeps running through his head.            1\n",
              "5                                                                            The rest of the movie lacks art, charm, meaning... If it's about emptiness, it works I guess because it's empty.            0\n",
              "6                                                                                                                                                                           Wasted two hours.            0\n",
              "7                                                                                                               Saw the movie today and thought it was a good effort, good messages for kids.            1\n",
              "8                                                                                                                                                                          A bit predictable.            0\n",
              "9                                                                                                                                   Loved the casting of Jimmy Buffet as the science teacher.            1"
            ]
          },
          "metadata": {},
          "execution_count": 6
        }
      ]
    },
    {
      "cell_type": "code",
      "source": [
        "#negative reviews have sentiment scores of 0 and positive reviews have the score of 1"
      ],
      "metadata": {
        "id": "FLhYZ8Nov9Cg"
      },
      "execution_count": null,
      "outputs": []
    },
    {
      "cell_type": "code",
      "source": [
        "#check the total records of the IMDB review file by using value_counts() function\n",
        "imdb_reviews.Sentiment.value_counts()\n"
      ],
      "metadata": {
        "colab": {
          "base_uri": "https://localhost:8080/"
        },
        "id": "eoSnmIddvtdu",
        "outputId": "0bfd2712-104e-4cfe-dd49-a80a06a96e35"
      },
      "execution_count": null,
      "outputs": [
        {
          "output_type": "execute_result",
          "data": {
            "text/plain": [
              "1    386\n",
              "0    362\n",
              "Name: Sentiment, dtype: int64"
            ]
          },
          "metadata": {},
          "execution_count": 9
        }
      ]
    },
    {
      "cell_type": "code",
      "source": [
        "#count the positive and negative sentiments\n",
        "imdb_counts=imdb_reviews.Sentiment.value_counts().to_frame()\n",
        "imdb_counts.index=pd.Series(['Positive','Negative'])\n",
        "imdb_counts\n"
      ],
      "metadata": {
        "colab": {
          "base_uri": "https://localhost:8080/",
          "height": 112
        },
        "id": "meLuxvXjv46w",
        "outputId": "2a6ec150-f184-4b5d-ae60-37363840b378"
      },
      "execution_count": null,
      "outputs": [
        {
          "output_type": "execute_result",
          "data": {
            "text/html": [
              "<div>\n",
              "<style scoped>\n",
              "    .dataframe tbody tr th:only-of-type {\n",
              "        vertical-align: middle;\n",
              "    }\n",
              "\n",
              "    .dataframe tbody tr th {\n",
              "        vertical-align: top;\n",
              "    }\n",
              "\n",
              "    .dataframe thead th {\n",
              "        text-align: right;\n",
              "    }\n",
              "</style>\n",
              "<table border=\"1\" class=\"dataframe\">\n",
              "  <thead>\n",
              "    <tr style=\"text-align: right;\">\n",
              "      <th></th>\n",
              "      <th>Sentiment</th>\n",
              "    </tr>\n",
              "  </thead>\n",
              "  <tbody>\n",
              "    <tr>\n",
              "      <th>Positive</th>\n",
              "      <td>386</td>\n",
              "    </tr>\n",
              "    <tr>\n",
              "      <th>Negative</th>\n",
              "      <td>362</td>\n",
              "    </tr>\n",
              "  </tbody>\n",
              "</table>\n",
              "</div>"
            ],
            "text/plain": [
              "          Sentiment\n",
              "Positive        386\n",
              "Negative        362"
            ]
          },
          "metadata": {},
          "execution_count": 10
        }
      ]
    },
    {
      "cell_type": "code",
      "source": [
        "#load the amazon and yelp reviews\n",
        "amazon_reviews=pd.read_table(AMAZON_DATA_FILE,names=COLUMN_NAMES)\n",
        "amazon_reviews.head(10)\n",
        "\n"
      ],
      "metadata": {
        "colab": {
          "base_uri": "https://localhost:8080/",
          "height": 363
        },
        "id": "D5LbsSJvwBoh",
        "outputId": "15b993b5-6e76-42bc-ab92-6afd9c591979"
      },
      "execution_count": null,
      "outputs": [
        {
          "output_type": "execute_result",
          "data": {
            "text/html": [
              "<div>\n",
              "<style scoped>\n",
              "    .dataframe tbody tr th:only-of-type {\n",
              "        vertical-align: middle;\n",
              "    }\n",
              "\n",
              "    .dataframe tbody tr th {\n",
              "        vertical-align: top;\n",
              "    }\n",
              "\n",
              "    .dataframe thead th {\n",
              "        text-align: right;\n",
              "    }\n",
              "</style>\n",
              "<table border=\"1\" class=\"dataframe\">\n",
              "  <thead>\n",
              "    <tr style=\"text-align: right;\">\n",
              "      <th></th>\n",
              "      <th>Review</th>\n",
              "      <th>Sentiment</th>\n",
              "    </tr>\n",
              "  </thead>\n",
              "  <tbody>\n",
              "    <tr>\n",
              "      <th>0</th>\n",
              "      <td>So there is no way for me to plug it in here in the US unless I go by a converter.</td>\n",
              "      <td>0</td>\n",
              "    </tr>\n",
              "    <tr>\n",
              "      <th>1</th>\n",
              "      <td>Good case, Excellent value.</td>\n",
              "      <td>1</td>\n",
              "    </tr>\n",
              "    <tr>\n",
              "      <th>2</th>\n",
              "      <td>Great for the jawbone.</td>\n",
              "      <td>1</td>\n",
              "    </tr>\n",
              "    <tr>\n",
              "      <th>3</th>\n",
              "      <td>Tied to charger for conversations lasting more than 45 minutes.MAJOR PROBLEMS!!</td>\n",
              "      <td>0</td>\n",
              "    </tr>\n",
              "    <tr>\n",
              "      <th>4</th>\n",
              "      <td>The mic is great.</td>\n",
              "      <td>1</td>\n",
              "    </tr>\n",
              "    <tr>\n",
              "      <th>5</th>\n",
              "      <td>I have to jiggle the plug to get it to line up right to get decent volume.</td>\n",
              "      <td>0</td>\n",
              "    </tr>\n",
              "    <tr>\n",
              "      <th>6</th>\n",
              "      <td>If you have several dozen or several hundred contacts, then imagine the fun of sending each of them one by one.</td>\n",
              "      <td>0</td>\n",
              "    </tr>\n",
              "    <tr>\n",
              "      <th>7</th>\n",
              "      <td>If you are Razr owner...you must have this!</td>\n",
              "      <td>1</td>\n",
              "    </tr>\n",
              "    <tr>\n",
              "      <th>8</th>\n",
              "      <td>Needless to say, I wasted my money.</td>\n",
              "      <td>0</td>\n",
              "    </tr>\n",
              "    <tr>\n",
              "      <th>9</th>\n",
              "      <td>What a waste of money and time!.</td>\n",
              "      <td>0</td>\n",
              "    </tr>\n",
              "  </tbody>\n",
              "</table>\n",
              "</div>"
            ],
            "text/plain": [
              "                                                                                                            Review  Sentiment\n",
              "0                               So there is no way for me to plug it in here in the US unless I go by a converter.          0\n",
              "1                                                                                      Good case, Excellent value.          1\n",
              "2                                                                                           Great for the jawbone.          1\n",
              "3                                  Tied to charger for conversations lasting more than 45 minutes.MAJOR PROBLEMS!!          0\n",
              "4                                                                                                The mic is great.          1\n",
              "5                                       I have to jiggle the plug to get it to line up right to get decent volume.          0\n",
              "6  If you have several dozen or several hundred contacts, then imagine the fun of sending each of them one by one.          0\n",
              "7                                                                      If you are Razr owner...you must have this!          1\n",
              "8                                                                              Needless to say, I wasted my money.          0\n",
              "9                                                                                 What a waste of money and time!.          0"
            ]
          },
          "metadata": {},
          "execution_count": 14
        }
      ]
    },
    {
      "cell_type": "code",
      "source": [
        "yelp_reviews=pd.read_table(YELP_DATA_FILE,names=COLUMN_NAMES)\n",
        "yelp_reviews.head(10)\n"
      ],
      "metadata": {
        "colab": {
          "base_uri": "https://localhost:8080/",
          "height": 363
        },
        "id": "CmfrOq4YwYTJ",
        "outputId": "a0908724-1f21-4537-9451-4002a0f88318"
      },
      "execution_count": null,
      "outputs": [
        {
          "output_type": "execute_result",
          "data": {
            "text/html": [
              "<div>\n",
              "<style scoped>\n",
              "    .dataframe tbody tr th:only-of-type {\n",
              "        vertical-align: middle;\n",
              "    }\n",
              "\n",
              "    .dataframe tbody tr th {\n",
              "        vertical-align: top;\n",
              "    }\n",
              "\n",
              "    .dataframe thead th {\n",
              "        text-align: right;\n",
              "    }\n",
              "</style>\n",
              "<table border=\"1\" class=\"dataframe\">\n",
              "  <thead>\n",
              "    <tr style=\"text-align: right;\">\n",
              "      <th></th>\n",
              "      <th>Review</th>\n",
              "      <th>Sentiment</th>\n",
              "    </tr>\n",
              "  </thead>\n",
              "  <tbody>\n",
              "    <tr>\n",
              "      <th>0</th>\n",
              "      <td>Wow... Loved this place.</td>\n",
              "      <td>1</td>\n",
              "    </tr>\n",
              "    <tr>\n",
              "      <th>1</th>\n",
              "      <td>Crust is not good.</td>\n",
              "      <td>0</td>\n",
              "    </tr>\n",
              "    <tr>\n",
              "      <th>2</th>\n",
              "      <td>Not tasty and the texture was just nasty.</td>\n",
              "      <td>0</td>\n",
              "    </tr>\n",
              "    <tr>\n",
              "      <th>3</th>\n",
              "      <td>Stopped by during the late May bank holiday off Rick Steve recommendation and loved it.</td>\n",
              "      <td>1</td>\n",
              "    </tr>\n",
              "    <tr>\n",
              "      <th>4</th>\n",
              "      <td>The selection on the menu was great and so were the prices.</td>\n",
              "      <td>1</td>\n",
              "    </tr>\n",
              "    <tr>\n",
              "      <th>5</th>\n",
              "      <td>Now I am getting angry and I want my damn pho.</td>\n",
              "      <td>0</td>\n",
              "    </tr>\n",
              "    <tr>\n",
              "      <th>6</th>\n",
              "      <td>Honeslty it didn't taste THAT fresh.)</td>\n",
              "      <td>0</td>\n",
              "    </tr>\n",
              "    <tr>\n",
              "      <th>7</th>\n",
              "      <td>The potatoes were like rubber and you could tell they had been made up ahead of time being kept under a warmer.</td>\n",
              "      <td>0</td>\n",
              "    </tr>\n",
              "    <tr>\n",
              "      <th>8</th>\n",
              "      <td>The fries were great too.</td>\n",
              "      <td>1</td>\n",
              "    </tr>\n",
              "    <tr>\n",
              "      <th>9</th>\n",
              "      <td>A great touch.</td>\n",
              "      <td>1</td>\n",
              "    </tr>\n",
              "  </tbody>\n",
              "</table>\n",
              "</div>"
            ],
            "text/plain": [
              "                                                                                                            Review  Sentiment\n",
              "0                                                                                         Wow... Loved this place.          1\n",
              "1                                                                                               Crust is not good.          0\n",
              "2                                                                        Not tasty and the texture was just nasty.          0\n",
              "3                          Stopped by during the late May bank holiday off Rick Steve recommendation and loved it.          1\n",
              "4                                                      The selection on the menu was great and so were the prices.          1\n",
              "5                                                                   Now I am getting angry and I want my damn pho.          0\n",
              "6                                                                            Honeslty it didn't taste THAT fresh.)          0\n",
              "7  The potatoes were like rubber and you could tell they had been made up ahead of time being kept under a warmer.          0\n",
              "8                                                                                        The fries were great too.          1\n",
              "9                                                                                                   A great touch.          1"
            ]
          },
          "metadata": {},
          "execution_count": 15
        }
      ]
    },
    {
      "cell_type": "markdown",
      "source": [
        "#Training Sentiment Models"
      ],
      "metadata": {
        "id": "-ZtrMjCMwJOR"
      }
    },
    {
      "cell_type": "code",
      "source": [
        "#import necessary libraries\n",
        "import pandas as pd\n",
        "pd.set_option('display.max_colwidth',200)\n",
        "\n"
      ],
      "metadata": {
        "id": "k3fEKumSwExf"
      },
      "execution_count": null,
      "outputs": []
    },
    {
      "cell_type": "code",
      "source": [
        "#load all three datasets\n",
        "DATA_DIR='/content/'\n",
        "IMDB_DATA_FILE=DATA_DIR+'imdb_labelled.txt'\n",
        "YELP_DATA_FILE=DATA_DIR+'yelp_labelled.txt'\n",
        "AMAZON_DATA_FILE=DATA_DIR+'amazon_cells_labelled.txt'\n",
        "COLUMN_NAMES=['Review','Sentiment']\n",
        "imdb_reviews=pd.read_table(IMDB_DATA_FILE,names=COLUMN_NAMES)\n",
        "amazon_reviews=pd.read_table(AMAZON_DATA_FILE,names=COLUMN_NAMES)\n",
        "yelp_reviews=pd.read_table(YELP_DATA_FILE,names=COLUMN_NAMES)\n"
      ],
      "metadata": {
        "id": "O32YJoiJwhwi"
      },
      "execution_count": null,
      "outputs": []
    },
    {
      "cell_type": "code",
      "source": [
        "#concatenate the different datasets into one dataset using the concat() function\n",
        "review_data=pd.concat([amazon_reviews,imdb_reviews,yelp_reviews])\n",
        "\n"
      ],
      "metadata": {
        "id": "o_IA83JSwj0J"
      },
      "execution_count": null,
      "outputs": []
    },
    {
      "cell_type": "code",
      "source": [
        "#we combined the data from three separate files, sample() function returns a random selection from the dataset. This will allow to see the reviews from different files.\n",
        "review_data.sample(10)\n",
        "\n"
      ],
      "metadata": {
        "colab": {
          "base_uri": "https://localhost:8080/",
          "height": 380
        },
        "id": "C8eSiNXfwmam",
        "outputId": "e9a2ecb3-69ac-4ebb-9873-733d7e15ed87"
      },
      "execution_count": null,
      "outputs": [
        {
          "output_type": "execute_result",
          "data": {
            "text/html": [
              "<div>\n",
              "<style scoped>\n",
              "    .dataframe tbody tr th:only-of-type {\n",
              "        vertical-align: middle;\n",
              "    }\n",
              "\n",
              "    .dataframe tbody tr th {\n",
              "        vertical-align: top;\n",
              "    }\n",
              "\n",
              "    .dataframe thead th {\n",
              "        text-align: right;\n",
              "    }\n",
              "</style>\n",
              "<table border=\"1\" class=\"dataframe\">\n",
              "  <thead>\n",
              "    <tr style=\"text-align: right;\">\n",
              "      <th></th>\n",
              "      <th>Review</th>\n",
              "      <th>Sentiment</th>\n",
              "    </tr>\n",
              "  </thead>\n",
              "  <tbody>\n",
              "    <tr>\n",
              "      <th>792</th>\n",
              "      <td>Great Phone.</td>\n",
              "      <td>1</td>\n",
              "    </tr>\n",
              "    <tr>\n",
              "      <th>566</th>\n",
              "      <td>This movie is also revealing.</td>\n",
              "      <td>1</td>\n",
              "    </tr>\n",
              "    <tr>\n",
              "      <th>286</th>\n",
              "      <td>I wouldn't recommend buying this product.</td>\n",
              "      <td>0</td>\n",
              "    </tr>\n",
              "    <tr>\n",
              "      <th>650</th>\n",
              "      <td>As for the killer, don't expect anything original or even remotely frightening.</td>\n",
              "      <td>0</td>\n",
              "    </tr>\n",
              "    <tr>\n",
              "      <th>837</th>\n",
              "      <td>I have never had such bland food which surprised me considering the article we read focused so much on their spices and flavor.</td>\n",
              "      <td>0</td>\n",
              "    </tr>\n",
              "    <tr>\n",
              "      <th>272</th>\n",
              "      <td>Unreliable - I'm giving up.</td>\n",
              "      <td>0</td>\n",
              "    </tr>\n",
              "    <tr>\n",
              "      <th>525</th>\n",
              "      <td>REALLY UGLY.</td>\n",
              "      <td>0</td>\n",
              "    </tr>\n",
              "    <tr>\n",
              "      <th>95</th>\n",
              "      <td>Will order from them again!</td>\n",
              "      <td>1</td>\n",
              "    </tr>\n",
              "    <tr>\n",
              "      <th>105</th>\n",
              "      <td>This is a bad film, with bad writing, and good actors....an ugly cartoon crafted by Paul Haggis for people who can't handle anything but the bold strokes in storytelling....a picture painted with ...</td>\n",
              "      <td>0</td>\n",
              "    </tr>\n",
              "    <tr>\n",
              "      <th>538</th>\n",
              "      <td>That was done in the second movie.</td>\n",
              "      <td>0</td>\n",
              "    </tr>\n",
              "  </tbody>\n",
              "</table>\n",
              "</div>"
            ],
            "text/plain": [
              "                                                                                                                                                                                                      Review  Sentiment\n",
              "792                                                                                                                                                                                             Great Phone.          1\n",
              "566                                                                                                                                                                          This movie is also revealing.            1\n",
              "286                                                                                                                                                                I wouldn't recommend buying this product.          0\n",
              "650                                                                                                                        As for the killer, don't expect anything original or even remotely frightening.            0\n",
              "837                                                                          I have never had such bland food which surprised me considering the article we read focused so much on their spices and flavor.          0\n",
              "272                                                                                                                                                                              Unreliable - I'm giving up.          0\n",
              "525                                                                                                                                                                                             REALLY UGLY.          0\n",
              "95                                                                                                                                                                               Will order from them again!          1\n",
              "105  This is a bad film, with bad writing, and good actors....an ugly cartoon crafted by Paul Haggis for people who can't handle anything but the bold strokes in storytelling....a picture painted with ...          0\n",
              "538                                                                                                                                                                     That was done in the second movie.            0"
            ]
          },
          "metadata": {},
          "execution_count": 19
        }
      ]
    },
    {
      "cell_type": "code",
      "source": [
        "#do the pre-processing using clean() function\n",
        "import re\n",
        "def clean(text):\n",
        "  text=re.sub(r'[\\W]+',' ',text.lower())\n",
        "  text=text.replace('hadn t','had not').replace('wasn t','was not').replace('didn t','did not')\n",
        "  return text\n"
      ],
      "metadata": {
        "id": "8E3M6Vm4woLw"
      },
      "execution_count": null,
      "outputs": []
    },
    {
      "cell_type": "code",
      "source": [
        "#once the function is defined, we can clean and tokenize\n",
        "review_model_data=review_data.copy()\n",
        "review_model_data.Review=review_data.Review.apply(clean)\n",
        "\n",
        "review_model_data.sample(10)\n",
        "\n"
      ],
      "metadata": {
        "colab": {
          "base_uri": "https://localhost:8080/",
          "height": 363
        },
        "id": "HhrO2HuHwsfk",
        "outputId": "822f1db8-44d6-47ec-92de-89aeadc6fca2"
      },
      "execution_count": null,
      "outputs": [
        {
          "output_type": "execute_result",
          "data": {
            "text/html": [
              "<div>\n",
              "<style scoped>\n",
              "    .dataframe tbody tr th:only-of-type {\n",
              "        vertical-align: middle;\n",
              "    }\n",
              "\n",
              "    .dataframe tbody tr th {\n",
              "        vertical-align: top;\n",
              "    }\n",
              "\n",
              "    .dataframe thead th {\n",
              "        text-align: right;\n",
              "    }\n",
              "</style>\n",
              "<table border=\"1\" class=\"dataframe\">\n",
              "  <thead>\n",
              "    <tr style=\"text-align: right;\">\n",
              "      <th></th>\n",
              "      <th>Review</th>\n",
              "      <th>Sentiment</th>\n",
              "    </tr>\n",
              "  </thead>\n",
              "  <tbody>\n",
              "    <tr>\n",
              "      <th>194</th>\n",
              "      <td>not impressed</td>\n",
              "      <td>0</td>\n",
              "    </tr>\n",
              "    <tr>\n",
              "      <th>348</th>\n",
              "      <td>5 stars for the brick oven bread app</td>\n",
              "      <td>1</td>\n",
              "    </tr>\n",
              "    <tr>\n",
              "      <th>525</th>\n",
              "      <td>similarly the delivery man did not say a word of apology when our food was 45 minutes late</td>\n",
              "      <td>0</td>\n",
              "    </tr>\n",
              "    <tr>\n",
              "      <th>218</th>\n",
              "      <td>worst phone ever</td>\n",
              "      <td>0</td>\n",
              "    </tr>\n",
              "    <tr>\n",
              "      <th>942</th>\n",
              "      <td>very slow at seating even with reservation</td>\n",
              "      <td>0</td>\n",
              "    </tr>\n",
              "    <tr>\n",
              "      <th>501</th>\n",
              "      <td>this battery is an excellent bargain</td>\n",
              "      <td>1</td>\n",
              "    </tr>\n",
              "    <tr>\n",
              "      <th>529</th>\n",
              "      <td>razr battery good buy</td>\n",
              "      <td>1</td>\n",
              "    </tr>\n",
              "    <tr>\n",
              "      <th>812</th>\n",
              "      <td>this place is overpriced not consistent with their boba and it really is overpriced</td>\n",
              "      <td>0</td>\n",
              "    </tr>\n",
              "    <tr>\n",
              "      <th>640</th>\n",
              "      <td>end of days is one of the worst big budget action movies i ve ever seen</td>\n",
              "      <td>0</td>\n",
              "    </tr>\n",
              "    <tr>\n",
              "      <th>827</th>\n",
              "      <td>for that price i can think of a few place i would have much rather gone</td>\n",
              "      <td>0</td>\n",
              "    </tr>\n",
              "  </tbody>\n",
              "</table>\n",
              "</div>"
            ],
            "text/plain": [
              "                                                                                          Review  Sentiment\n",
              "194                                                                               not impressed           0\n",
              "348                                                        5 stars for the brick oven bread app           1\n",
              "525  similarly the delivery man did not say a word of apology when our food was 45 minutes late           0\n",
              "218                                                                            worst phone ever           0\n",
              "942                                                  very slow at seating even with reservation           0\n",
              "501                                                        this battery is an excellent bargain           1\n",
              "529                                                                       razr battery good buy           1\n",
              "812         this place is overpriced not consistent with their boba and it really is overpriced           0\n",
              "640                     end of days is one of the worst big budget action movies i ve ever seen           0\n",
              "827                     for that price i can think of a few place i would have much rather gone           0"
            ]
          },
          "metadata": {},
          "execution_count": 21
        }
      ]
    },
    {
      "cell_type": "code",
      "source": [
        "''''develop the model we use TfidfVectorizer to convert each review into TFIDF vector. \n",
        "It will capture the relationship between the words in a review’s text and their presence in the entire dataset. \n",
        "Logistic Regression is a machine learning algorithms that is used to train sentiment classification models.'''\n",
        "\n",
        "\n",
        "from sklearn.feature_extraction.text import TfidfVectorizer\n",
        "from sklearn.pipeline import Pipeline\n",
        "from sklearn.model_selection import train_test_split\n",
        "from sklearn.linear_model import LogisticRegression\n"
      ],
      "metadata": {
        "id": "_skFjL6Iwvq9"
      },
      "execution_count": null,
      "outputs": []
    },
    {
      "cell_type": "code",
      "source": [
        "#combineTfidfVectorizer and LogisticRegression in a pipeline object, \n",
        "#which is a way to run a series of algorithms in a single pipeline\n",
        "\n",
        "tfidf=TfidfVectorizer(strip_accents=None,preprocessor=None,lowercase=False)\n",
        "log_reg=LogisticRegression(random_state=0,solver='lbfgs')\n",
        "log_tfidf=Pipeline([('vect',tfidf),('clf',log_reg)])\n"
      ],
      "metadata": {
        "id": "BpM8wyYQw5Jp"
      },
      "execution_count": null,
      "outputs": []
    },
    {
      "cell_type": "code",
      "source": [
        "#split the train and test sets, split 70% for training and 30% for testing by using train_test_split() function\n",
        "X_train,X_test,y_train,y_test=train_test_split(review_model_data.Review,review_model_data.Sentiment,test_size=0.3,random_state=42)\n"
      ],
      "metadata": {
        "id": "4AUA9cRkw8U8"
      },
      "execution_count": null,
      "outputs": []
    },
    {
      "cell_type": "code",
      "source": [
        "#fit the training data to the training pipeline by using fit() function\n",
        "log_tfidf.fit(X_train.values,y_train.values)\n",
        "\n"
      ],
      "metadata": {
        "colab": {
          "base_uri": "https://localhost:8080/"
        },
        "id": "BMLyJWmyw-zE",
        "outputId": "407dca37-3a6e-4e25-82f7-fd2dbc7b002b"
      },
      "execution_count": null,
      "outputs": [
        {
          "output_type": "execute_result",
          "data": {
            "text/plain": [
              "Pipeline(steps=[('vect', TfidfVectorizer(lowercase=False)),\n",
              "                ('clf', LogisticRegression(random_state=0))])"
            ]
          },
          "metadata": {},
          "execution_count": 25
        }
      ]
    },
    {
      "cell_type": "code",
      "source": [
        "#check our model’s accuracy by using score() function\n",
        "test_accuracy=log_tfidf.score(X_test.values,y_test.values)\n",
        "'the model has a test accuracy of {:0%}'.format(test_accuracy)\n"
      ],
      "metadata": {
        "colab": {
          "base_uri": "https://localhost:8080/",
          "height": 35
        },
        "id": "0TCLlBiTw_7d",
        "outputId": "e053ac09-9652-4913-e3d8-b16498dfe1ac"
      },
      "execution_count": null,
      "outputs": [
        {
          "output_type": "execute_result",
          "data": {
            "application/vnd.google.colaboratory.intrinsic+json": {
              "type": "string"
            },
            "text/plain": [
              "'the model has a test accuracy of 81.090909%'"
            ]
          },
          "metadata": {},
          "execution_count": 26
        }
      ]
    },
    {
      "cell_type": "code",
      "source": [
        "#to predict the sentiment of sentences by using predict() function and \n",
        "#it returns a score of 1 for positive test sentence and returns score of 0 for negative test sentence.\n",
        "log_tfidf.predict(['I loved this place','I hated this place'])\n",
        "\n"
      ],
      "metadata": {
        "colab": {
          "base_uri": "https://localhost:8080/"
        },
        "id": "Thc30PaAxCA1",
        "outputId": "c43b92c1-dfa2-4051-95a2-68e730df4053"
      },
      "execution_count": null,
      "outputs": [
        {
          "output_type": "execute_result",
          "data": {
            "text/plain": [
              "array([1, 0])"
            ]
          },
          "metadata": {},
          "execution_count": 27
        }
      ]
    },
    {
      "cell_type": "code",
      "source": [],
      "metadata": {
        "id": "NKvI0BaJxFy6"
      },
      "execution_count": null,
      "outputs": []
    }
  ]
}