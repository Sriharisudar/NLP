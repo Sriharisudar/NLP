{
  "nbformat": 4,
  "nbformat_minor": 0,
  "metadata": {
    "colab": {
      "provenance": []
    },
    "kernelspec": {
      "name": "python3",
      "display_name": "Python 3"
    },
    "language_info": {
      "name": "python"
    }
  },
  "cells": [
    {
      "cell_type": "markdown",
      "source": [
        "#text summarization"
      ],
      "metadata": {
        "id": "jJ36xFh7EAAo"
      }
    },
    {
      "cell_type": "code",
      "source": [
        "#Contractions are shortened version of words or syllables.\n",
        "!pip install contractions"
      ],
      "metadata": {
        "colab": {
          "base_uri": "https://localhost:8080/"
        },
        "id": "1pdLIErPVQ5P",
        "outputId": "350fbd42-76f5-4c1e-d734-db96b76ffcad"
      },
      "execution_count": null,
      "outputs": [
        {
          "output_type": "stream",
          "name": "stdout",
          "text": [
            "Requirement already satisfied: contractions in /usr/local/lib/python3.7/dist-packages (0.0.58)\n",
            "Requirement already satisfied: textsearch>=0.0.21 in /usr/local/lib/python3.7/dist-packages (from contractions) (0.0.21)\n",
            "Requirement already satisfied: pyahocorasick in /usr/local/lib/python3.7/dist-packages (from textsearch>=0.0.21->contractions) (1.4.2)\n",
            "Requirement already satisfied: anyascii in /usr/local/lib/python3.7/dist-packages (from textsearch>=0.0.21->contractions) (0.3.0)\n"
          ]
        }
      ]
    },
    {
      "cell_type": "code",
      "execution_count": null,
      "metadata": {
        "colab": {
          "base_uri": "https://localhost:8080/"
        },
        "id": "nJIbOu4WRntl",
        "outputId": "0e2da29c-f7b3-406b-dad5-266221466c8f"
      },
      "outputs": [
        {
          "output_type": "stream",
          "name": "stdout",
          "text": [
            "[nltk_data] Downloading package punkt to /root/nltk_data...\n",
            "[nltk_data]   Package punkt is already up-to-date!\n"
          ]
        }
      ],
      "source": [
        "import numpy as np\n",
        "import pandas as pd\n",
        "import nltk\n",
        "import re\n",
        "import contractions\n",
        "nltk.download('punkt')\n",
        "pd.set_option('display.max_colwidth',1000)"
      ]
    },
    {
      "cell_type": "code",
      "source": [
        "#after extract glove vectors load them into dictionary and find the vector for each word\n",
        "import numpy as np\n",
        "def load_glove_vectors(fn):\n",
        "  print(\"Loading Glove Model\")\n",
        "  with open(fn,'r',encoding='utf8') as glove_vector_file:\n",
        "    model={}\n",
        "    for line in glove_vector_file:\n",
        "      parts=line.split()\n",
        "      word=parts[0]\n",
        "      embedding=np.array([float(val) for val in parts[1:]])\n",
        "      model[word]=embedding\n",
        "    print(\"Loaded {} words\".format(len(model)))\n",
        "  return model"
      ],
      "metadata": {
        "id": "ppQ5o1DeXS1_"
      },
      "execution_count": null,
      "outputs": []
    },
    {
      "cell_type": "code",
      "source": [
        "glove_vectors=load_glove_vectors('/content/glove.6B.50d.txt')"
      ],
      "metadata": {
        "colab": {
          "base_uri": "https://localhost:8080/"
        },
        "id": "quTG8zdLaU9i",
        "outputId": "995bb489-e7df-47c3-d96e-92a0733497d0"
      },
      "execution_count": null,
      "outputs": [
        {
          "output_type": "stream",
          "name": "stdout",
          "text": [
            "Loading Glove Model\n",
            "Loaded 7349 words\n"
          ]
        }
      ]
    },
    {
      "cell_type": "code",
      "source": [
        "articles=pd.read_csv(\"/content/tennis_articles_v4.csv\")\n",
        "articles.head(5)"
      ],
      "metadata": {
        "colab": {
          "base_uri": "https://localhost:8080/",
          "height": 1000
        },
        "id": "UiAV9S5U7qyW",
        "outputId": "cd212d48-1729-4e28-efc8-97e8e7e35e61"
      },
      "execution_count": null,
      "outputs": [
        {
          "output_type": "execute_result",
          "data": {
            "text/html": [
              "<div>\n",
              "<style scoped>\n",
              "    .dataframe tbody tr th:only-of-type {\n",
              "        vertical-align: middle;\n",
              "    }\n",
              "\n",
              "    .dataframe tbody tr th {\n",
              "        vertical-align: top;\n",
              "    }\n",
              "\n",
              "    .dataframe thead th {\n",
              "        text-align: right;\n",
              "    }\n",
              "</style>\n",
              "<table border=\"1\" class=\"dataframe\">\n",
              "  <thead>\n",
              "    <tr style=\"text-align: right;\">\n",
              "      <th></th>\n",
              "      <th>article_id</th>\n",
              "      <th>article_text</th>\n",
              "      <th>source</th>\n",
              "    </tr>\n",
              "  </thead>\n",
              "  <tbody>\n",
              "    <tr>\n",
              "      <th>0</th>\n",
              "      <td>1</td>\n",
              "      <td>Maria Sharapova has basically no friends as tennis players on the WTA Tour. The Russian player has no problems in openly speaking about it and in a recent interview she said: 'I don't really hide any feelings too much. I think everyone knows this is my job here. When I'm on the courts or when I'm on the court playing, I'm a competitor and I want to beat every single person whether they're in the locker room or across the net.So I'm not the one to strike up a conversation about the weather and know that in the next few minutes I have to go and try to win a tennis match. I'm a pretty competitive girl. I say my hellos, but I'm not sending any players flowers as well. Uhm, I'm not really friendly or close to many players. I have not a lot of friends away from the courts.' When she said she is not really close to a lot of players, is that something strategic that she is doing? Is it different on the men's tour than the women's tour? 'No, not at all. I think just because you're in the sa...</td>\n",
              "      <td>https://www.tennisworldusa.org/tennis/news/Maria_Sharapova/62220/i-do-not-have-friends-in-tennis-says-maria-sharapova/</td>\n",
              "    </tr>\n",
              "    <tr>\n",
              "      <th>1</th>\n",
              "      <td>2</td>\n",
              "      <td>BASEL, Switzerland (AP), Roger Federer advanced to the 14th Swiss Indoors final of his career by beating seventh-seeded Daniil Medvedev 6-1, 6-4 on Saturday. Seeking a ninth title at his hometown event, and a 99th overall, Federer will play 93th-ranked Marius Copil on Sunday. Federer dominated the 20th-ranked Medvedev and had his first match-point chance to break serve again at 5-1. He then dropped his serve to love, and let another match point slip in Medvedev's next service game by netting a backhand. He clinched on his fourth chance when Medvedev netted from the baseline. Copil upset expectations of a Federer final against Alexander Zverev in a 6-3, 6-7 (6), 6-4 win over the fifth-ranked German in the earlier semifinal. The Romanian aims for a first title after arriving at Basel without a career win over a top-10 opponent. Copil has two after also beating No. 6 Marin Cilic in the second round. Copil fired 26 aces past Zverev and never dropped serve, clinching after 2 1/2 hours w...</td>\n",
              "      <td>http://www.tennis.com/pro-game/2018/10/copil-stuns-5th-ranked-zverev-to-reach-swiss-indoors-final/77721/</td>\n",
              "    </tr>\n",
              "    <tr>\n",
              "      <th>2</th>\n",
              "      <td>3</td>\n",
              "      <td>Roger Federer has revealed that organisers of the re-launched and condensed Davis Cup gave him three days to decide if he would commit to the controversial competition. Speaking at the Swiss Indoors tournament where he will play in Sundays final against Romanian qualifier Marius Copil, the world number three said that given the impossibly short time frame to make a decision, he opted out of any commitment. \"They only left me three days to decide\", Federer said. \"I didn't to have time to consult with all the people I had to consult. \"I could not make a decision in that time, so I told them to do what they wanted.\" The 20-time Grand Slam champion has voiced doubts about the wisdom of the one-week format to be introduced by organisers Kosmos, who have promised the International Tennis Federation up to $3 billion in prize money over the next quarter-century. The competition is set to feature 18 countries in the November 18-24 finals in Madrid next year, and will replace the classic hom...</td>\n",
              "      <td>https://scroll.in/field/899938/tennis-roger-federer-ignored-deadline-set-by-new-davis-cup</td>\n",
              "    </tr>\n",
              "    <tr>\n",
              "      <th>3</th>\n",
              "      <td>4</td>\n",
              "      <td>Kei Nishikori will try to end his long losing streak in ATP finals and Kevin Anderson will go for his second title of the year at the Erste Bank Open on Sunday. The fifth-seeded Nishikori reached his third final of 2018 after beating Mikhail Kukushkin of Kazakhstan 6-4, 6-3 in the semifinals. A winner of 11 ATP events, Nishikori hasn't triumphed since winning in Memphis in February 2016. He has lost eight straight finals since. The second-seeded Anderson defeated Fernando Verdasco 6-3, 3-6, 6-4. Anderson has a shot at a fifth career title and second of the year after winning in New York in February. Nishikori leads Anderson 4-2 on career matchups, but the South African won their only previous meeting this year. With a victory on Sunday, Anderson will qualify for the ATP Finals. Currently in ninth place, Nishikori with a win could move to within 125 points of the cut for the eight-man event in London next month. Nishikori held serve throughout against Kukushkin, who came through qua...</td>\n",
              "      <td>http://www.tennis.com/pro-game/2018/10/nishikori-beats-kukushkin-in-vienna-for-3rd-final-of-season/77719/</td>\n",
              "    </tr>\n",
              "    <tr>\n",
              "      <th>4</th>\n",
              "      <td>5</td>\n",
              "      <td>Federer, 37, first broke through on tour over two decades ago and he has since gone on to enjoy a glittering career. The 20-time Grand Slam winner is chasing his 99th ATP title at the Swiss Indoors this week and he faces Jan-Lennard Struff in the second round on Thursday (6pm BST). Davenport enjoyed most of her success in the late 1990s and her third and final major tournament win came at the 2000 Australian Open. But she claims the mentality of professional tennis players slowly began to change after the new millennium. \"It seems pretty friendly right now,\" said Davenport. \"I think there is a really nice environment and a great atmosphere, especially between some of the veteran players helping some of the younger players out. \"It's a very pleasant atmosphere, I'd have to say, around the locker rooms. \"I felt like the best weeks that I had to get to know players when I was playing were the Fed Cup weeks or the Olympic weeks, not necessarily during the tournaments. \"And even though ...</td>\n",
              "      <td>https://www.express.co.uk/sport/tennis/1036101/Roger-Federer-Swiss-Indoors-Jan-Lennard-Struff-Lindsay-Davenport</td>\n",
              "    </tr>\n",
              "  </tbody>\n",
              "</table>\n",
              "</div>"
            ],
            "text/plain": [
              "   article_id  ...                                                                                                                  source\n",
              "0           1  ...  https://www.tennisworldusa.org/tennis/news/Maria_Sharapova/62220/i-do-not-have-friends-in-tennis-says-maria-sharapova/\n",
              "1           2  ...                http://www.tennis.com/pro-game/2018/10/copil-stuns-5th-ranked-zverev-to-reach-swiss-indoors-final/77721/\n",
              "2           3  ...                               https://scroll.in/field/899938/tennis-roger-federer-ignored-deadline-set-by-new-davis-cup\n",
              "3           4  ...               http://www.tennis.com/pro-game/2018/10/nishikori-beats-kukushkin-in-vienna-for-3rd-final-of-season/77719/\n",
              "4           5  ...         https://www.express.co.uk/sport/tennis/1036101/Roger-Federer-Swiss-Indoors-Jan-Lennard-Struff-Lindsay-Davenport\n",
              "\n",
              "[5 rows x 3 columns]"
            ]
          },
          "metadata": {},
          "execution_count": 41
        }
      ]
    },
    {
      "cell_type": "code",
      "source": [
        "nltk.download('stopwords')\n",
        "from nltk.corpus import stopwords \n",
        "stop_words = stopwords.words('english')"
      ],
      "metadata": {
        "colab": {
          "base_uri": "https://localhost:8080/"
        },
        "id": "gKV5I1MCaoz8",
        "outputId": "72fefa2f-8bdb-4d55-b89c-0741b99f7b40"
      },
      "execution_count": null,
      "outputs": [
        {
          "output_type": "stream",
          "name": "stdout",
          "text": [
            "[nltk_data] Downloading package stopwords to /root/nltk_data...\n",
            "[nltk_data]   Package stopwords is already up-to-date!\n"
          ]
        }
      ]
    },
    {
      "cell_type": "code",
      "source": [
        "from nltk.tokenize import sent_tokenize, word_tokenize\n",
        "nltk.download('punkt')"
      ],
      "metadata": {
        "colab": {
          "base_uri": "https://localhost:8080/"
        },
        "id": "ZDFdxaTS-Ngc",
        "outputId": "a610454f-a211-4b70-f015-7f109290cf11"
      },
      "execution_count": null,
      "outputs": [
        {
          "output_type": "stream",
          "name": "stdout",
          "text": [
            "[nltk_data] Downloading package punkt to /root/nltk_data...\n",
            "[nltk_data]   Package punkt is already up-to-date!\n"
          ]
        },
        {
          "output_type": "execute_result",
          "data": {
            "text/plain": [
              "True"
            ]
          },
          "metadata": {},
          "execution_count": 43
        }
      ]
    },
    {
      "cell_type": "code",
      "source": [
        "CLEAN_PATTERN=r'[^a-zA-Z\\s]'\n",
        "def clean(word):\n",
        "  return re.sub(CLEAN_PATTERN,'',word)"
      ],
      "metadata": {
        "id": "NdLdbZm--W04"
      },
      "execution_count": null,
      "outputs": []
    },
    {
      "cell_type": "code",
      "source": [
        "def clean_sentence(sentence):\n",
        "  sentence=[clean(word) for word in sentence]\n",
        "  return [word for word in sentence if word]"
      ],
      "metadata": {
        "id": "zGiBtlLt-uBO"
      },
      "execution_count": null,
      "outputs": []
    },
    {
      "cell_type": "code",
      "source": [
        "def clean_sentences(sentences):\n",
        "  return [clean_sentence(sentence) for sentence in sentences]"
      ],
      "metadata": {
        "id": "90F0k0IP_Bbl"
      },
      "execution_count": null,
      "outputs": []
    },
    {
      "cell_type": "code",
      "source": [
        "def lower(sentence):\n",
        "  return [word.lower() for word in sentence]"
      ],
      "metadata": {
        "id": "k1hzamE0A0uq"
      },
      "execution_count": null,
      "outputs": []
    },
    {
      "cell_type": "code",
      "source": [
        "def remove_stopwords(sentence):\n",
        "  words = [word for word in sentence if word not in stop_words]\n",
        "  return[word for word in words if len(word)>0]"
      ],
      "metadata": {
        "id": "xH2nizcwA9Sv"
      },
      "execution_count": null,
      "outputs": []
    },
    {
      "cell_type": "code",
      "source": [
        "def tokenize_words(sentences):\n",
        "  return [word_tokenize(sentence) for sentence in sentences]"
      ],
      "metadata": {
        "id": "YrqsMLPuBg9r"
      },
      "execution_count": null,
      "outputs": []
    },
    {
      "cell_type": "code",
      "source": [
        "def fix_contractions(sentences):\n",
        "  return [contractions.fix(sentence) for sentence in sentences]"
      ],
      "metadata": {
        "id": "T_BX9LW5Bv9Q"
      },
      "execution_count": null,
      "outputs": []
    },
    {
      "cell_type": "code",
      "source": [
        "#apply all preprocessing functions to the articles\n",
        "articles['SentencesInArticle']=articles.article_text.apply(sent_tokenize)\n",
        "articles['WordInSentences']=articles.SentencesInArticle \\\n",
        ".apply(fix_contractions) \\\n",
        ".apply(lower) \\\n",
        ".apply(tokenize_words) \\\n",
        ".apply(remove_stopwords) \\\n",
        ".apply(clean_sentences)"
      ],
      "metadata": {
        "id": "7q9GQXdmytV2"
      },
      "execution_count": null,
      "outputs": []
    },
    {
      "cell_type": "code",
      "source": [
        "#print the articles\n",
        "articles=articles[['SentencesInArticle','WordInSentences']]\n",
        "articles.head(2)"
      ],
      "metadata": {
        "id": "twGSbF4Czmzl",
        "colab": {
          "base_uri": "https://localhost:8080/",
          "height": 563
        },
        "outputId": "931b5f50-7192-4d7e-a5cf-8beb8896eedd"
      },
      "execution_count": null,
      "outputs": [
        {
          "output_type": "execute_result",
          "data": {
            "text/html": [
              "<div>\n",
              "<style scoped>\n",
              "    .dataframe tbody tr th:only-of-type {\n",
              "        vertical-align: middle;\n",
              "    }\n",
              "\n",
              "    .dataframe tbody tr th {\n",
              "        vertical-align: top;\n",
              "    }\n",
              "\n",
              "    .dataframe thead th {\n",
              "        text-align: right;\n",
              "    }\n",
              "</style>\n",
              "<table border=\"1\" class=\"dataframe\">\n",
              "  <thead>\n",
              "    <tr style=\"text-align: right;\">\n",
              "      <th></th>\n",
              "      <th>SentencesInArticle</th>\n",
              "      <th>WordInSentences</th>\n",
              "    </tr>\n",
              "  </thead>\n",
              "  <tbody>\n",
              "    <tr>\n",
              "      <th>0</th>\n",
              "      <td>[Maria Sharapova has basically no friends as tennis players on the WTA Tour., The Russian player has no problems in openly speaking about it and in a recent interview she said: 'I don't really hide any feelings too much., I think everyone knows this is my job here., When I'm on the courts or when I'm on the court playing, I'm a competitor and I want to beat every single person whether they're in the locker room or across the net.So I'm not the one to strike up a conversation about the weather and know that in the next few minutes I have to go and try to win a tennis match., I'm a pretty competitive girl., I say my hellos, but I'm not sending any players flowers as well., Uhm, I'm not really friendly or close to many players., I have not a lot of friends away from the courts.', When she said she is not really close to a lot of players, is that something strategic that she is doing?, Is it different on the men's tour than the women's tour?, 'No, not at all., I think just because you'...</td>\n",
              "      <td>[[maria, sharapova, has, basically, no, friends, as, tennis, players, on, the, wta, tour], [the, russian, player, has, no, problems, in, openly, speaking, about, it, and, in, a, recent, interview, she, said, i, do, not, really, hide, any, feelings, too, much], [i, think, everyone, knows, this, is, my, job, here], [when, i, am, on, the, courts, or, when, i, am, on, the, court, playing, i, am, a, competitor, and, i, want, to, beat, every, single, person, whether, they, are, in, the, locker, room, or, across, the, netso, i, am, not, the, one, to, strike, up, a, conversation, about, the, weather, and, know, that, in, the, next, few, minutes, i, have, to, go, and, try, to, win, a, tennis, match], [i, am, a, pretty, competitive, girl], [i, say, my, hellos, but, i, am, not, sending, any, players, flowers, as, well], [uhm, i, am, not, really, friendly, or, close, to, many, players], [i, have, not, a, lot, of, friends, away, from, the, courts], [when, she, said, she, is, not, really, close,...</td>\n",
              "    </tr>\n",
              "    <tr>\n",
              "      <th>1</th>\n",
              "      <td>[BASEL, Switzerland (AP), Roger Federer advanced to the 14th Swiss Indoors final of his career by beating seventh-seeded Daniil Medvedev 6-1, 6-4 on Saturday., Seeking a ninth title at his hometown event, and a 99th overall, Federer will play 93th-ranked Marius Copil on Sunday., Federer dominated the 20th-ranked Medvedev and had his first match-point chance to break serve again at 5-1., He then dropped his serve to love, and let another match point slip in Medvedev's next service game by netting a backhand., He clinched on his fourth chance when Medvedev netted from the baseline., Copil upset expectations of a Federer final against Alexander Zverev in a 6-3, 6-7 (6), 6-4 win over the fifth-ranked German in the earlier semifinal., The Romanian aims for a first title after arriving at Basel without a career win over a top-10 opponent., Copil has two after also beating No., 6 Marin Cilic in the second round., Copil fired 26 aces past Zverev and never dropped serve, clinching after 2 1...</td>\n",
              "      <td>[[basel, switzerland, ap, roger, federer, advanced, to, the, th, swiss, indoors, final, of, his, career, by, beating, seventhseeded, daniil, medvedev, on, saturday], [seeking, a, ninth, title, at, his, hometown, event, and, a, th, overall, federer, will, play, thranked, marius, copil, on, sunday], [federer, dominated, the, thranked, medvedev, and, had, his, first, matchpoint, chance, to, break, serve, again, at], [he, then, dropped, his, serve, to, love, and, let, another, match, point, slip, in, medvedev, s, next, service, game, by, netting, a, backhand], [he, clinched, on, his, fourth, chance, when, medvedev, netted, from, the, baseline], [copil, upset, expectations, of, a, federer, final, against, alexander, zverev, in, a, win, over, the, fifthranked, german, in, the, earlier, semifinal], [the, romanian, aims, for, a, first, title, after, arriving, at, basel, without, a, career, win, over, a, top, opponent], [copil, has, two, after, also, beating, no], [marin, cilic, in, the, se...</td>\n",
              "    </tr>\n",
              "  </tbody>\n",
              "</table>\n",
              "</div>"
            ],
            "text/plain": [
              "                                                                                                                                                                                                                                                                                                                                                                                                                                                                                                                                                                                                                                                                                                                                                                                                                                                                                                                                                                                                                        SentencesInArticle                                                                                                                                                                                                                                                                                                                                                                                                                                                                                                                                                                                                                                                                                                                                                                                                                                                                                                                                                                                                                          WordInSentences\n",
              "0  [Maria Sharapova has basically no friends as tennis players on the WTA Tour., The Russian player has no problems in openly speaking about it and in a recent interview she said: 'I don't really hide any feelings too much., I think everyone knows this is my job here., When I'm on the courts or when I'm on the court playing, I'm a competitor and I want to beat every single person whether they're in the locker room or across the net.So I'm not the one to strike up a conversation about the weather and know that in the next few minutes I have to go and try to win a tennis match., I'm a pretty competitive girl., I say my hellos, but I'm not sending any players flowers as well., Uhm, I'm not really friendly or close to many players., I have not a lot of friends away from the courts.', When she said she is not really close to a lot of players, is that something strategic that she is doing?, Is it different on the men's tour than the women's tour?, 'No, not at all., I think just because you'...  [[maria, sharapova, has, basically, no, friends, as, tennis, players, on, the, wta, tour], [the, russian, player, has, no, problems, in, openly, speaking, about, it, and, in, a, recent, interview, she, said, i, do, not, really, hide, any, feelings, too, much], [i, think, everyone, knows, this, is, my, job, here], [when, i, am, on, the, courts, or, when, i, am, on, the, court, playing, i, am, a, competitor, and, i, want, to, beat, every, single, person, whether, they, are, in, the, locker, room, or, across, the, netso, i, am, not, the, one, to, strike, up, a, conversation, about, the, weather, and, know, that, in, the, next, few, minutes, i, have, to, go, and, try, to, win, a, tennis, match], [i, am, a, pretty, competitive, girl], [i, say, my, hellos, but, i, am, not, sending, any, players, flowers, as, well], [uhm, i, am, not, really, friendly, or, close, to, many, players], [i, have, not, a, lot, of, friends, away, from, the, courts], [when, she, said, she, is, not, really, close,...\n",
              "1  [BASEL, Switzerland (AP), Roger Federer advanced to the 14th Swiss Indoors final of his career by beating seventh-seeded Daniil Medvedev 6-1, 6-4 on Saturday., Seeking a ninth title at his hometown event, and a 99th overall, Federer will play 93th-ranked Marius Copil on Sunday., Federer dominated the 20th-ranked Medvedev and had his first match-point chance to break serve again at 5-1., He then dropped his serve to love, and let another match point slip in Medvedev's next service game by netting a backhand., He clinched on his fourth chance when Medvedev netted from the baseline., Copil upset expectations of a Federer final against Alexander Zverev in a 6-3, 6-7 (6), 6-4 win over the fifth-ranked German in the earlier semifinal., The Romanian aims for a first title after arriving at Basel without a career win over a top-10 opponent., Copil has two after also beating No., 6 Marin Cilic in the second round., Copil fired 26 aces past Zverev and never dropped serve, clinching after 2 1...  [[basel, switzerland, ap, roger, federer, advanced, to, the, th, swiss, indoors, final, of, his, career, by, beating, seventhseeded, daniil, medvedev, on, saturday], [seeking, a, ninth, title, at, his, hometown, event, and, a, th, overall, federer, will, play, thranked, marius, copil, on, sunday], [federer, dominated, the, thranked, medvedev, and, had, his, first, matchpoint, chance, to, break, serve, again, at], [he, then, dropped, his, serve, to, love, and, let, another, match, point, slip, in, medvedev, s, next, service, game, by, netting, a, backhand], [he, clinched, on, his, fourth, chance, when, medvedev, netted, from, the, baseline], [copil, upset, expectations, of, a, federer, final, against, alexander, zverev, in, a, win, over, the, fifthranked, german, in, the, earlier, semifinal], [the, romanian, aims, for, a, first, title, after, arriving, at, basel, without, a, career, win, over, a, top, opponent], [copil, has, two, after, also, beating, no], [marin, cilic, in, the, se..."
            ]
          },
          "metadata": {},
          "execution_count": 52
        }
      ]
    },
    {
      "cell_type": "code",
      "source": [
        "#create the sentence vectors use the vector size as 50\n",
        "VECTOR_SIZE=50\n",
        "EMPTY_VECTOR=np.zeros(VECTOR_SIZE)\n",
        "def sentence_vector(sentence):\n",
        "  return sum([glove_vectors.get(word,EMPTY_VECTOR) for word in sentence])/len(sentence)\n",
        "\n",
        "def sentences_to_vectors(sentences):\n",
        "  return [sentence_vector(sentence) for sentence in sentences]"
      ],
      "metadata": {
        "id": "ZiOqbDhL0pkl"
      },
      "execution_count": null,
      "outputs": []
    },
    {
      "cell_type": "code",
      "source": [
        "#add the sentence vectors to data frame colums\n",
        "articles['SentenceVector']=articles.WordInSentences.apply(sentences_to_vectors)\n",
        "articles.head(2)"
      ],
      "metadata": {
        "id": "ujqQdei52m23",
        "colab": {
          "base_uri": "https://localhost:8080/",
          "height": 911
        },
        "outputId": "42af1db8-bf7f-45a7-b4a5-f69c28cac144"
      },
      "execution_count": null,
      "outputs": [
        {
          "output_type": "execute_result",
          "data": {
            "text/html": [
              "<div>\n",
              "<style scoped>\n",
              "    .dataframe tbody tr th:only-of-type {\n",
              "        vertical-align: middle;\n",
              "    }\n",
              "\n",
              "    .dataframe tbody tr th {\n",
              "        vertical-align: top;\n",
              "    }\n",
              "\n",
              "    .dataframe thead th {\n",
              "        text-align: right;\n",
              "    }\n",
              "</style>\n",
              "<table border=\"1\" class=\"dataframe\">\n",
              "  <thead>\n",
              "    <tr style=\"text-align: right;\">\n",
              "      <th></th>\n",
              "      <th>SentencesInArticle</th>\n",
              "      <th>WordInSentences</th>\n",
              "      <th>SentenceVector</th>\n",
              "    </tr>\n",
              "  </thead>\n",
              "  <tbody>\n",
              "    <tr>\n",
              "      <th>0</th>\n",
              "      <td>[Maria Sharapova has basically no friends as tennis players on the WTA Tour., The Russian player has no problems in openly speaking about it and in a recent interview she said: 'I don't really hide any feelings too much., I think everyone knows this is my job here., When I'm on the courts or when I'm on the court playing, I'm a competitor and I want to beat every single person whether they're in the locker room or across the net.So I'm not the one to strike up a conversation about the weather and know that in the next few minutes I have to go and try to win a tennis match., I'm a pretty competitive girl., I say my hellos, but I'm not sending any players flowers as well., Uhm, I'm not really friendly or close to many players., I have not a lot of friends away from the courts.', When she said she is not really close to a lot of players, is that something strategic that she is doing?, Is it different on the men's tour than the women's tour?, 'No, not at all., I think just because you'...</td>\n",
              "      <td>[[maria, sharapova, has, basically, no, friends, as, tennis, players, on, the, wta, tour], [the, russian, player, has, no, problems, in, openly, speaking, about, it, and, in, a, recent, interview, she, said, i, do, not, really, hide, any, feelings, too, much], [i, think, everyone, knows, this, is, my, job, here], [when, i, am, on, the, courts, or, when, i, am, on, the, court, playing, i, am, a, competitor, and, i, want, to, beat, every, single, person, whether, they, are, in, the, locker, room, or, across, the, netso, i, am, not, the, one, to, strike, up, a, conversation, about, the, weather, and, know, that, in, the, next, few, minutes, i, have, to, go, and, try, to, win, a, tennis, match], [i, am, a, pretty, competitive, girl], [i, say, my, hellos, but, i, am, not, sending, any, players, flowers, as, well], [uhm, i, am, not, really, friendly, or, close, to, many, players], [i, have, not, a, lot, of, friends, away, from, the, courts], [when, she, said, she, is, not, really, close,...</td>\n",
              "      <td>[[0.1167223076923077, 0.4063360769230769, -0.22941638461538463, 0.20659461538461538, 0.06465623076923079, -0.012712076923076902, -0.5354130769230768, 0.1439180923076923, -0.28019771000000004, -0.07768099999999999, 0.12215084615384615, 0.03461561538461539, -0.5285661153846154, 0.02120523076923076, 0.6156508076923076, 0.03995723076923077, -0.004163992307692311, 0.06988646153846154, -0.20026515384615384, -0.26636123076923074, -0.19738043076923079, 0.31345507692307695, 0.0655576923076923, 0.20654023076923078, 0.1344476923076923, -1.208393076923077, -0.25244123076923075, -0.009461000000000004, -0.15925684615384617, -0.27231369230769226, 2.585153846153846, 0.22050769230769232, -0.145055, -0.08953853846153843, 0.027583071538461533, 0.01877691538461537, 0.20098992307692307, 0.27145246153846153, -0.06865685384615385, -0.3419247692307692, -0.10813030769230766, -0.013238076923076915, 0.015804692307692315, 0.06288646153846154, 0.07351776923076925, -0.023515076923076923, -0.20059329999999997, -...</td>\n",
              "    </tr>\n",
              "    <tr>\n",
              "      <th>1</th>\n",
              "      <td>[BASEL, Switzerland (AP), Roger Federer advanced to the 14th Swiss Indoors final of his career by beating seventh-seeded Daniil Medvedev 6-1, 6-4 on Saturday., Seeking a ninth title at his hometown event, and a 99th overall, Federer will play 93th-ranked Marius Copil on Sunday., Federer dominated the 20th-ranked Medvedev and had his first match-point chance to break serve again at 5-1., He then dropped his serve to love, and let another match point slip in Medvedev's next service game by netting a backhand., He clinched on his fourth chance when Medvedev netted from the baseline., Copil upset expectations of a Federer final against Alexander Zverev in a 6-3, 6-7 (6), 6-4 win over the fifth-ranked German in the earlier semifinal., The Romanian aims for a first title after arriving at Basel without a career win over a top-10 opponent., Copil has two after also beating No., 6 Marin Cilic in the second round., Copil fired 26 aces past Zverev and never dropped serve, clinching after 2 1...</td>\n",
              "      <td>[[basel, switzerland, ap, roger, federer, advanced, to, the, th, swiss, indoors, final, of, his, career, by, beating, seventhseeded, daniil, medvedev, on, saturday], [seeking, a, ninth, title, at, his, hometown, event, and, a, th, overall, federer, will, play, thranked, marius, copil, on, sunday], [federer, dominated, the, thranked, medvedev, and, had, his, first, matchpoint, chance, to, break, serve, again, at], [he, then, dropped, his, serve, to, love, and, let, another, match, point, slip, in, medvedev, s, next, service, game, by, netting, a, backhand], [he, clinched, on, his, fourth, chance, when, medvedev, netted, from, the, baseline], [copil, upset, expectations, of, a, federer, final, against, alexander, zverev, in, a, win, over, the, fifthranked, german, in, the, earlier, semifinal], [the, romanian, aims, for, a, first, title, after, arriving, at, basel, without, a, career, win, over, a, top, opponent], [copil, has, two, after, also, beating, no], [marin, cilic, in, the, se...</td>\n",
              "      <td>[[-0.047858045454545445, 0.2465801818181818, -0.10127713636363639, 0.2598739545454546, 0.0465069740909091, 0.01847381818181818, -0.31967914090909094, 0.31476995454545453, -0.24270951045454545, -0.10213718181818181, 0.07454409090909091, -0.19168704545454543, -0.5921913636363636, -0.05454277272727271, 0.41800775000000007, -0.1459655, -0.06648209090909091, -0.38568935, -0.5590150454545454, 0.017850384090909097, 0.05161793181818181, 0.08271022727272727, 0.012466318181818177, -0.05004795454545454, -0.03163138636363636, -1.09362, -0.029202045454545453, -0.21069231818181822, -0.2291896818181818, -0.09015209090909092, 2.0077909090909087, 0.05504731818181819, -0.03681771363636363, -0.06119145454545454, -0.027413775909090908, -0.07462857727272729, 0.09461986363636363, 0.4440144545454546, 0.07457928636363637, -0.2567498181818182, 0.15918195454545458, 0.020730181818181818, 0.2137701363636363, -0.14283328636363637, 0.040826999999999995, 0.11164381818181818, -0.014309095454545461, -0.13603295454...</td>\n",
              "    </tr>\n",
              "  </tbody>\n",
              "</table>\n",
              "</div>"
            ],
            "text/plain": [
              "                                                                                                                                                                                                                                                                                                                                                                                                                                                                                                                                                                                                                                                                                                                                                                                                                                                                                                                                                                                                                        SentencesInArticle  ...                                                                                                                                                                                                                                                                                                                                                                                                                                                                                                                                                                                                                                                                                                                                                                                                                                                                                                                                                                                                                           SentenceVector\n",
              "0  [Maria Sharapova has basically no friends as tennis players on the WTA Tour., The Russian player has no problems in openly speaking about it and in a recent interview she said: 'I don't really hide any feelings too much., I think everyone knows this is my job here., When I'm on the courts or when I'm on the court playing, I'm a competitor and I want to beat every single person whether they're in the locker room or across the net.So I'm not the one to strike up a conversation about the weather and know that in the next few minutes I have to go and try to win a tennis match., I'm a pretty competitive girl., I say my hellos, but I'm not sending any players flowers as well., Uhm, I'm not really friendly or close to many players., I have not a lot of friends away from the courts.', When she said she is not really close to a lot of players, is that something strategic that she is doing?, Is it different on the men's tour than the women's tour?, 'No, not at all., I think just because you'...  ...  [[0.1167223076923077, 0.4063360769230769, -0.22941638461538463, 0.20659461538461538, 0.06465623076923079, -0.012712076923076902, -0.5354130769230768, 0.1439180923076923, -0.28019771000000004, -0.07768099999999999, 0.12215084615384615, 0.03461561538461539, -0.5285661153846154, 0.02120523076923076, 0.6156508076923076, 0.03995723076923077, -0.004163992307692311, 0.06988646153846154, -0.20026515384615384, -0.26636123076923074, -0.19738043076923079, 0.31345507692307695, 0.0655576923076923, 0.20654023076923078, 0.1344476923076923, -1.208393076923077, -0.25244123076923075, -0.009461000000000004, -0.15925684615384617, -0.27231369230769226, 2.585153846153846, 0.22050769230769232, -0.145055, -0.08953853846153843, 0.027583071538461533, 0.01877691538461537, 0.20098992307692307, 0.27145246153846153, -0.06865685384615385, -0.3419247692307692, -0.10813030769230766, -0.013238076923076915, 0.015804692307692315, 0.06288646153846154, 0.07351776923076925, -0.023515076923076923, -0.20059329999999997, -...\n",
              "1  [BASEL, Switzerland (AP), Roger Federer advanced to the 14th Swiss Indoors final of his career by beating seventh-seeded Daniil Medvedev 6-1, 6-4 on Saturday., Seeking a ninth title at his hometown event, and a 99th overall, Federer will play 93th-ranked Marius Copil on Sunday., Federer dominated the 20th-ranked Medvedev and had his first match-point chance to break serve again at 5-1., He then dropped his serve to love, and let another match point slip in Medvedev's next service game by netting a backhand., He clinched on his fourth chance when Medvedev netted from the baseline., Copil upset expectations of a Federer final against Alexander Zverev in a 6-3, 6-7 (6), 6-4 win over the fifth-ranked German in the earlier semifinal., The Romanian aims for a first title after arriving at Basel without a career win over a top-10 opponent., Copil has two after also beating No., 6 Marin Cilic in the second round., Copil fired 26 aces past Zverev and never dropped serve, clinching after 2 1...  ...  [[-0.047858045454545445, 0.2465801818181818, -0.10127713636363639, 0.2598739545454546, 0.0465069740909091, 0.01847381818181818, -0.31967914090909094, 0.31476995454545453, -0.24270951045454545, -0.10213718181818181, 0.07454409090909091, -0.19168704545454543, -0.5921913636363636, -0.05454277272727271, 0.41800775000000007, -0.1459655, -0.06648209090909091, -0.38568935, -0.5590150454545454, 0.017850384090909097, 0.05161793181818181, 0.08271022727272727, 0.012466318181818177, -0.05004795454545454, -0.03163138636363636, -1.09362, -0.029202045454545453, -0.21069231818181822, -0.2291896818181818, -0.09015209090909092, 2.0077909090909087, 0.05504731818181819, -0.03681771363636363, -0.06119145454545454, -0.027413775909090908, -0.07462857727272729, 0.09461986363636363, 0.4440144545454546, 0.07457928636363637, -0.2567498181818182, 0.15918195454545458, 0.020730181818181818, 0.2137701363636363, -0.14283328636363637, 0.040826999999999995, 0.11164381818181818, -0.014309095454545461, -0.13603295454...\n",
              "\n",
              "[2 rows x 3 columns]"
            ]
          },
          "metadata": {},
          "execution_count": 54
        }
      ]
    },
    {
      "cell_type": "code",
      "source": [
        "#create the similarity matrix for capturing the degree to which one sentence is similar to another for a given article\n",
        "from sklearn.metrics.pairwise import cosine_similarity\n",
        "def similarity_matrix(sentence_vectors):\n",
        "  sim_mat=np.zeros([len(sentence_vectors),len(sentence_vectors)])\n",
        "  for i in range(len(sentence_vectors)):\n",
        "    for j in range(len(sentence_vectors)):\n",
        "      element_i=sentence_vectors[i].reshape(1,VECTOR_SIZE)\n",
        "      element_j=sentence_vectors[j].reshape(1,VECTOR_SIZE)\n",
        "      sim_mat[i][j]=cosine_similarity(element_i,element_j)[0,0]\n",
        "  return sim_mat"
      ],
      "metadata": {
        "id": "qAsDoudz4wtl"
      },
      "execution_count": null,
      "outputs": []
    },
    {
      "cell_type": "code",
      "source": [
        "articles['SimMatrix']=articles['SimMatrix']=articles.SentenceVector.apply(similarity_matrix)\n",
        "articles.head(2)"
      ],
      "metadata": {
        "id": "16iYQY3k8PFI",
        "colab": {
          "base_uri": "https://localhost:8080/",
          "height": 1000
        },
        "outputId": "6f2c45e2-2538-4f0d-df18-78980db0b4e2"
      },
      "execution_count": null,
      "outputs": [
        {
          "output_type": "execute_result",
          "data": {
            "text/html": [
              "<div>\n",
              "<style scoped>\n",
              "    .dataframe tbody tr th:only-of-type {\n",
              "        vertical-align: middle;\n",
              "    }\n",
              "\n",
              "    .dataframe tbody tr th {\n",
              "        vertical-align: top;\n",
              "    }\n",
              "\n",
              "    .dataframe thead th {\n",
              "        text-align: right;\n",
              "    }\n",
              "</style>\n",
              "<table border=\"1\" class=\"dataframe\">\n",
              "  <thead>\n",
              "    <tr style=\"text-align: right;\">\n",
              "      <th></th>\n",
              "      <th>SentencesInArticle</th>\n",
              "      <th>WordInSentences</th>\n",
              "      <th>SentenceVector</th>\n",
              "      <th>SimMatrix</th>\n",
              "    </tr>\n",
              "  </thead>\n",
              "  <tbody>\n",
              "    <tr>\n",
              "      <th>0</th>\n",
              "      <td>[Maria Sharapova has basically no friends as tennis players on the WTA Tour., The Russian player has no problems in openly speaking about it and in a recent interview she said: 'I don't really hide any feelings too much., I think everyone knows this is my job here., When I'm on the courts or when I'm on the court playing, I'm a competitor and I want to beat every single person whether they're in the locker room or across the net.So I'm not the one to strike up a conversation about the weather and know that in the next few minutes I have to go and try to win a tennis match., I'm a pretty competitive girl., I say my hellos, but I'm not sending any players flowers as well., Uhm, I'm not really friendly or close to many players., I have not a lot of friends away from the courts.', When she said she is not really close to a lot of players, is that something strategic that she is doing?, Is it different on the men's tour than the women's tour?, 'No, not at all., I think just because you'...</td>\n",
              "      <td>[[maria, sharapova, has, basically, no, friends, as, tennis, players, on, the, wta, tour], [the, russian, player, has, no, problems, in, openly, speaking, about, it, and, in, a, recent, interview, she, said, i, do, not, really, hide, any, feelings, too, much], [i, think, everyone, knows, this, is, my, job, here], [when, i, am, on, the, courts, or, when, i, am, on, the, court, playing, i, am, a, competitor, and, i, want, to, beat, every, single, person, whether, they, are, in, the, locker, room, or, across, the, netso, i, am, not, the, one, to, strike, up, a, conversation, about, the, weather, and, know, that, in, the, next, few, minutes, i, have, to, go, and, try, to, win, a, tennis, match], [i, am, a, pretty, competitive, girl], [i, say, my, hellos, but, i, am, not, sending, any, players, flowers, as, well], [uhm, i, am, not, really, friendly, or, close, to, many, players], [i, have, not, a, lot, of, friends, away, from, the, courts], [when, she, said, she, is, not, really, close,...</td>\n",
              "      <td>[[0.1167223076923077, 0.4063360769230769, -0.22941638461538463, 0.20659461538461538, 0.06465623076923079, -0.012712076923076902, -0.5354130769230768, 0.1439180923076923, -0.28019771000000004, -0.07768099999999999, 0.12215084615384615, 0.03461561538461539, -0.5285661153846154, 0.02120523076923076, 0.6156508076923076, 0.03995723076923077, -0.004163992307692311, 0.06988646153846154, -0.20026515384615384, -0.26636123076923074, -0.19738043076923079, 0.31345507692307695, 0.0655576923076923, 0.20654023076923078, 0.1344476923076923, -1.208393076923077, -0.25244123076923075, -0.009461000000000004, -0.15925684615384617, -0.27231369230769226, 2.585153846153846, 0.22050769230769232, -0.145055, -0.08953853846153843, 0.027583071538461533, 0.01877691538461537, 0.20098992307692307, 0.27145246153846153, -0.06865685384615385, -0.3419247692307692, -0.10813030769230766, -0.013238076923076915, 0.015804692307692315, 0.06288646153846154, 0.07351776923076925, -0.023515076923076923, -0.20059329999999997, -...</td>\n",
              "      <td>[[1.0000000000000004, 0.9382047046716642, 0.8906674185624467, 0.9534079157654521, 0.8730802000521264, 0.920166897287559, 0.9252142716465906, 0.9418525202668128, 0.9346779597945384, 0.9530697221130239, 0.9193549309394723, 0.9395087572862298, 0.89750747345922, 0.9247220870582532, 0.9309262244289104, 0.9373385735153894, 0.8892590870433071], [0.9382047046716642, 1.0, 0.9408964676641777, 0.9692089007895616, 0.8942781393973297, 0.9684561242087786, 0.9604423528378846, 0.973077387499519, 0.987312380978821, 0.9125283526364881, 0.9594498058208407, 0.9647444870487831, 0.9632944418681554, 0.9732690670320119, 0.9616582246780773, 0.974151095849337, 0.9564473923061919], [0.8906674185624467, 0.9408964676641777, 1.0000000000000002, 0.9288954591623451, 0.9448434579223794, 0.9630133613729603, 0.9420209523788802, 0.9183752804522206, 0.9549370028865451, 0.840775322936442, 0.9105576429589423, 0.956508721812466, 0.9563604609626245, 0.9106663731073267, 0.9699327533307837, 0.9504200626490288, 0.91175028446...</td>\n",
              "    </tr>\n",
              "    <tr>\n",
              "      <th>1</th>\n",
              "      <td>[BASEL, Switzerland (AP), Roger Federer advanced to the 14th Swiss Indoors final of his career by beating seventh-seeded Daniil Medvedev 6-1, 6-4 on Saturday., Seeking a ninth title at his hometown event, and a 99th overall, Federer will play 93th-ranked Marius Copil on Sunday., Federer dominated the 20th-ranked Medvedev and had his first match-point chance to break serve again at 5-1., He then dropped his serve to love, and let another match point slip in Medvedev's next service game by netting a backhand., He clinched on his fourth chance when Medvedev netted from the baseline., Copil upset expectations of a Federer final against Alexander Zverev in a 6-3, 6-7 (6), 6-4 win over the fifth-ranked German in the earlier semifinal., The Romanian aims for a first title after arriving at Basel without a career win over a top-10 opponent., Copil has two after also beating No., 6 Marin Cilic in the second round., Copil fired 26 aces past Zverev and never dropped serve, clinching after 2 1...</td>\n",
              "      <td>[[basel, switzerland, ap, roger, federer, advanced, to, the, th, swiss, indoors, final, of, his, career, by, beating, seventhseeded, daniil, medvedev, on, saturday], [seeking, a, ninth, title, at, his, hometown, event, and, a, th, overall, federer, will, play, thranked, marius, copil, on, sunday], [federer, dominated, the, thranked, medvedev, and, had, his, first, matchpoint, chance, to, break, serve, again, at], [he, then, dropped, his, serve, to, love, and, let, another, match, point, slip, in, medvedev, s, next, service, game, by, netting, a, backhand], [he, clinched, on, his, fourth, chance, when, medvedev, netted, from, the, baseline], [copil, upset, expectations, of, a, federer, final, against, alexander, zverev, in, a, win, over, the, fifthranked, german, in, the, earlier, semifinal], [the, romanian, aims, for, a, first, title, after, arriving, at, basel, without, a, career, win, over, a, top, opponent], [copil, has, two, after, also, beating, no], [marin, cilic, in, the, se...</td>\n",
              "      <td>[[-0.047858045454545445, 0.2465801818181818, -0.10127713636363639, 0.2598739545454546, 0.0465069740909091, 0.01847381818181818, -0.31967914090909094, 0.31476995454545453, -0.24270951045454545, -0.10213718181818181, 0.07454409090909091, -0.19168704545454543, -0.5921913636363636, -0.05454277272727271, 0.41800775000000007, -0.1459655, -0.06648209090909091, -0.38568935, -0.5590150454545454, 0.017850384090909097, 0.05161793181818181, 0.08271022727272727, 0.012466318181818177, -0.05004795454545454, -0.03163138636363636, -1.09362, -0.029202045454545453, -0.21069231818181822, -0.2291896818181818, -0.09015209090909092, 2.0077909090909087, 0.05504731818181819, -0.03681771363636363, -0.06119145454545454, -0.027413775909090908, -0.07462857727272729, 0.09461986363636363, 0.4440144545454546, 0.07457928636363637, -0.2567498181818182, 0.15918195454545458, 0.020730181818181818, 0.2137701363636363, -0.14283328636363637, 0.040826999999999995, 0.11164381818181818, -0.014309095454545461, -0.13603295454...</td>\n",
              "      <td>[[1.0000000000000002, 0.9571992990055314, 0.9517411006100643, 0.9267000776350137, 0.9308813279911095, 0.9737922604690102, 0.9497445048009223, 0.9358424693669746, 0.9461534848869871, 0.9532686619109972, 0.949074069055899, 0.9536668695095681], [0.9571992990055314, 0.9999999999999998, 0.9678928302288673, 0.9596931678959499, 0.9560386522081761, 0.9652519695895955, 0.9797782654487696, 0.9336279453057658, 0.9601332806537793, 0.9716211265754007, 0.9651655151624128, 0.9650010674703816], [0.9517411006100643, 0.9678928302288673, 1.0000000000000002, 0.9750165209638691, 0.9782012604100264, 0.9535866693534241, 0.965564239335117, 0.9529351425670123, 0.9394499417410659, 0.9856824336995497, 0.9695273065202104, 0.9763454540533313], [0.9267000776350137, 0.9596931678959499, 0.9750165209638691, 1.0000000000000002, 0.9785437431778288, 0.9359270004169693, 0.9644292835916424, 0.954169557620835, 0.9234116548591256, 0.9810333805637511, 0.9621855486586945, 0.968120697584829], [0.9308813279911095, 0.95603865...</td>\n",
              "    </tr>\n",
              "  </tbody>\n",
              "</table>\n",
              "</div>"
            ],
            "text/plain": [
              "                                                                                                                                                                                                                                                                                                                                                                                                                                                                                                                                                                                                                                                                                                                                                                                                                                                                                                                                                                                                                        SentencesInArticle  ...                                                                                                                                                                                                                                                                                                                                                                                                                                                                                                                                                                                                                                                                                                                                                                                                                                                                                                                                                                                                                                SimMatrix\n",
              "0  [Maria Sharapova has basically no friends as tennis players on the WTA Tour., The Russian player has no problems in openly speaking about it and in a recent interview she said: 'I don't really hide any feelings too much., I think everyone knows this is my job here., When I'm on the courts or when I'm on the court playing, I'm a competitor and I want to beat every single person whether they're in the locker room or across the net.So I'm not the one to strike up a conversation about the weather and know that in the next few minutes I have to go and try to win a tennis match., I'm a pretty competitive girl., I say my hellos, but I'm not sending any players flowers as well., Uhm, I'm not really friendly or close to many players., I have not a lot of friends away from the courts.', When she said she is not really close to a lot of players, is that something strategic that she is doing?, Is it different on the men's tour than the women's tour?, 'No, not at all., I think just because you'...  ...  [[1.0000000000000004, 0.9382047046716642, 0.8906674185624467, 0.9534079157654521, 0.8730802000521264, 0.920166897287559, 0.9252142716465906, 0.9418525202668128, 0.9346779597945384, 0.9530697221130239, 0.9193549309394723, 0.9395087572862298, 0.89750747345922, 0.9247220870582532, 0.9309262244289104, 0.9373385735153894, 0.8892590870433071], [0.9382047046716642, 1.0, 0.9408964676641777, 0.9692089007895616, 0.8942781393973297, 0.9684561242087786, 0.9604423528378846, 0.973077387499519, 0.987312380978821, 0.9125283526364881, 0.9594498058208407, 0.9647444870487831, 0.9632944418681554, 0.9732690670320119, 0.9616582246780773, 0.974151095849337, 0.9564473923061919], [0.8906674185624467, 0.9408964676641777, 1.0000000000000002, 0.9288954591623451, 0.9448434579223794, 0.9630133613729603, 0.9420209523788802, 0.9183752804522206, 0.9549370028865451, 0.840775322936442, 0.9105576429589423, 0.956508721812466, 0.9563604609626245, 0.9106663731073267, 0.9699327533307837, 0.9504200626490288, 0.91175028446...\n",
              "1  [BASEL, Switzerland (AP), Roger Federer advanced to the 14th Swiss Indoors final of his career by beating seventh-seeded Daniil Medvedev 6-1, 6-4 on Saturday., Seeking a ninth title at his hometown event, and a 99th overall, Federer will play 93th-ranked Marius Copil on Sunday., Federer dominated the 20th-ranked Medvedev and had his first match-point chance to break serve again at 5-1., He then dropped his serve to love, and let another match point slip in Medvedev's next service game by netting a backhand., He clinched on his fourth chance when Medvedev netted from the baseline., Copil upset expectations of a Federer final against Alexander Zverev in a 6-3, 6-7 (6), 6-4 win over the fifth-ranked German in the earlier semifinal., The Romanian aims for a first title after arriving at Basel without a career win over a top-10 opponent., Copil has two after also beating No., 6 Marin Cilic in the second round., Copil fired 26 aces past Zverev and never dropped serve, clinching after 2 1...  ...  [[1.0000000000000002, 0.9571992990055314, 0.9517411006100643, 0.9267000776350137, 0.9308813279911095, 0.9737922604690102, 0.9497445048009223, 0.9358424693669746, 0.9461534848869871, 0.9532686619109972, 0.949074069055899, 0.9536668695095681], [0.9571992990055314, 0.9999999999999998, 0.9678928302288673, 0.9596931678959499, 0.9560386522081761, 0.9652519695895955, 0.9797782654487696, 0.9336279453057658, 0.9601332806537793, 0.9716211265754007, 0.9651655151624128, 0.9650010674703816], [0.9517411006100643, 0.9678928302288673, 1.0000000000000002, 0.9750165209638691, 0.9782012604100264, 0.9535866693534241, 0.965564239335117, 0.9529351425670123, 0.9394499417410659, 0.9856824336995497, 0.9695273065202104, 0.9763454540533313], [0.9267000776350137, 0.9596931678959499, 0.9750165209638691, 1.0000000000000002, 0.9785437431778288, 0.9359270004169693, 0.9644292835916424, 0.954169557620835, 0.9234116548591256, 0.9810333805637511, 0.9621855486586945, 0.968120697584829], [0.9308813279911095, 0.95603865...\n",
              "\n",
              "[2 rows x 4 columns]"
            ]
          },
          "metadata": {},
          "execution_count": 57
        }
      ]
    },
    {
      "cell_type": "code",
      "source": [
        "#create a graph for similarity matrix using networkx python library\n",
        "import networkx as nx\n",
        "def compute_graph(sim_matrix):\n",
        "  nx_graph=nx.from_numpy_array(sim_matrix)\n",
        "  scores=nx.pagerank(nx_graph)\n",
        "  return scores"
      ],
      "metadata": {
        "id": "Ag50Gteb8kcD"
      },
      "execution_count": null,
      "outputs": []
    },
    {
      "cell_type": "code",
      "source": [
        "articles['Graph']=articles.SimMatrix.apply(compute_graph)"
      ],
      "metadata": {
        "id": "Cf9g-HQX9Ek8"
      },
      "execution_count": null,
      "outputs": []
    },
    {
      "cell_type": "code",
      "source": [
        "articles.head(2)"
      ],
      "metadata": {
        "id": "CHC4iMlY9Ne0",
        "colab": {
          "base_uri": "https://localhost:8080/",
          "height": 1000
        },
        "outputId": "209a6a0a-1e49-4bbb-f2dd-28ce54bc2e74"
      },
      "execution_count": null,
      "outputs": [
        {
          "output_type": "execute_result",
          "data": {
            "text/html": [
              "<div>\n",
              "<style scoped>\n",
              "    .dataframe tbody tr th:only-of-type {\n",
              "        vertical-align: middle;\n",
              "    }\n",
              "\n",
              "    .dataframe tbody tr th {\n",
              "        vertical-align: top;\n",
              "    }\n",
              "\n",
              "    .dataframe thead th {\n",
              "        text-align: right;\n",
              "    }\n",
              "</style>\n",
              "<table border=\"1\" class=\"dataframe\">\n",
              "  <thead>\n",
              "    <tr style=\"text-align: right;\">\n",
              "      <th></th>\n",
              "      <th>SentencesInArticle</th>\n",
              "      <th>WordInSentences</th>\n",
              "      <th>SentenceVector</th>\n",
              "      <th>SimMatrix</th>\n",
              "      <th>Graph</th>\n",
              "    </tr>\n",
              "  </thead>\n",
              "  <tbody>\n",
              "    <tr>\n",
              "      <th>0</th>\n",
              "      <td>[Maria Sharapova has basically no friends as tennis players on the WTA Tour., The Russian player has no problems in openly speaking about it and in a recent interview she said: 'I don't really hide any feelings too much., I think everyone knows this is my job here., When I'm on the courts or when I'm on the court playing, I'm a competitor and I want to beat every single person whether they're in the locker room or across the net.So I'm not the one to strike up a conversation about the weather and know that in the next few minutes I have to go and try to win a tennis match., I'm a pretty competitive girl., I say my hellos, but I'm not sending any players flowers as well., Uhm, I'm not really friendly or close to many players., I have not a lot of friends away from the courts.', When she said she is not really close to a lot of players, is that something strategic that she is doing?, Is it different on the men's tour than the women's tour?, 'No, not at all., I think just because you'...</td>\n",
              "      <td>[[maria, sharapova, has, basically, no, friends, as, tennis, players, on, the, wta, tour], [the, russian, player, has, no, problems, in, openly, speaking, about, it, and, in, a, recent, interview, she, said, i, do, not, really, hide, any, feelings, too, much], [i, think, everyone, knows, this, is, my, job, here], [when, i, am, on, the, courts, or, when, i, am, on, the, court, playing, i, am, a, competitor, and, i, want, to, beat, every, single, person, whether, they, are, in, the, locker, room, or, across, the, netso, i, am, not, the, one, to, strike, up, a, conversation, about, the, weather, and, know, that, in, the, next, few, minutes, i, have, to, go, and, try, to, win, a, tennis, match], [i, am, a, pretty, competitive, girl], [i, say, my, hellos, but, i, am, not, sending, any, players, flowers, as, well], [uhm, i, am, not, really, friendly, or, close, to, many, players], [i, have, not, a, lot, of, friends, away, from, the, courts], [when, she, said, she, is, not, really, close,...</td>\n",
              "      <td>[[0.1167223076923077, 0.4063360769230769, -0.22941638461538463, 0.20659461538461538, 0.06465623076923079, -0.012712076923076902, -0.5354130769230768, 0.1439180923076923, -0.28019771000000004, -0.07768099999999999, 0.12215084615384615, 0.03461561538461539, -0.5285661153846154, 0.02120523076923076, 0.6156508076923076, 0.03995723076923077, -0.004163992307692311, 0.06988646153846154, -0.20026515384615384, -0.26636123076923074, -0.19738043076923079, 0.31345507692307695, 0.0655576923076923, 0.20654023076923078, 0.1344476923076923, -1.208393076923077, -0.25244123076923075, -0.009461000000000004, -0.15925684615384617, -0.27231369230769226, 2.585153846153846, 0.22050769230769232, -0.145055, -0.08953853846153843, 0.027583071538461533, 0.01877691538461537, 0.20098992307692307, 0.27145246153846153, -0.06865685384615385, -0.3419247692307692, -0.10813030769230766, -0.013238076923076915, 0.015804692307692315, 0.06288646153846154, 0.07351776923076925, -0.023515076923076923, -0.20059329999999997, -...</td>\n",
              "      <td>[[1.0000000000000004, 0.9382047046716642, 0.8906674185624467, 0.9534079157654521, 0.8730802000521264, 0.920166897287559, 0.9252142716465906, 0.9418525202668128, 0.9346779597945384, 0.9530697221130239, 0.9193549309394723, 0.9395087572862298, 0.89750747345922, 0.9247220870582532, 0.9309262244289104, 0.9373385735153894, 0.8892590870433071], [0.9382047046716642, 1.0, 0.9408964676641777, 0.9692089007895616, 0.8942781393973297, 0.9684561242087786, 0.9604423528378846, 0.973077387499519, 0.987312380978821, 0.9125283526364881, 0.9594498058208407, 0.9647444870487831, 0.9632944418681554, 0.9732690670320119, 0.9616582246780773, 0.974151095849337, 0.9564473923061919], [0.8906674185624467, 0.9408964676641777, 1.0000000000000002, 0.9288954591623451, 0.9448434579223794, 0.9630133613729603, 0.9420209523788802, 0.9183752804522206, 0.9549370028865451, 0.840775322936442, 0.9105576429589423, 0.956508721812466, 0.9563604609626245, 0.9106663731073267, 0.9699327533307837, 0.9504200626490288, 0.91175028446...</td>\n",
              "      <td>{0: 0.057837626503462816, 1: 0.05947735465337831, 2: 0.05821410617978895, 3: 0.059476475491960244, 4: 0.05623153698517529, 5: 0.05943122526038316, 6: 0.05935657485337546, 7: 0.05934044557788754, 8: 0.059453290285576735, 9: 0.05670039604606934, 10: 0.058908481683836396, 11: 0.05977276916483677, 12: 0.05910544970023771, 13: 0.05902943101056601, 14: 0.059524447705451004, 15: 0.05959371412828332, 16: 0.05854667476973096}</td>\n",
              "    </tr>\n",
              "    <tr>\n",
              "      <th>1</th>\n",
              "      <td>[BASEL, Switzerland (AP), Roger Federer advanced to the 14th Swiss Indoors final of his career by beating seventh-seeded Daniil Medvedev 6-1, 6-4 on Saturday., Seeking a ninth title at his hometown event, and a 99th overall, Federer will play 93th-ranked Marius Copil on Sunday., Federer dominated the 20th-ranked Medvedev and had his first match-point chance to break serve again at 5-1., He then dropped his serve to love, and let another match point slip in Medvedev's next service game by netting a backhand., He clinched on his fourth chance when Medvedev netted from the baseline., Copil upset expectations of a Federer final against Alexander Zverev in a 6-3, 6-7 (6), 6-4 win over the fifth-ranked German in the earlier semifinal., The Romanian aims for a first title after arriving at Basel without a career win over a top-10 opponent., Copil has two after also beating No., 6 Marin Cilic in the second round., Copil fired 26 aces past Zverev and never dropped serve, clinching after 2 1...</td>\n",
              "      <td>[[basel, switzerland, ap, roger, federer, advanced, to, the, th, swiss, indoors, final, of, his, career, by, beating, seventhseeded, daniil, medvedev, on, saturday], [seeking, a, ninth, title, at, his, hometown, event, and, a, th, overall, federer, will, play, thranked, marius, copil, on, sunday], [federer, dominated, the, thranked, medvedev, and, had, his, first, matchpoint, chance, to, break, serve, again, at], [he, then, dropped, his, serve, to, love, and, let, another, match, point, slip, in, medvedev, s, next, service, game, by, netting, a, backhand], [he, clinched, on, his, fourth, chance, when, medvedev, netted, from, the, baseline], [copil, upset, expectations, of, a, federer, final, against, alexander, zverev, in, a, win, over, the, fifthranked, german, in, the, earlier, semifinal], [the, romanian, aims, for, a, first, title, after, arriving, at, basel, without, a, career, win, over, a, top, opponent], [copil, has, two, after, also, beating, no], [marin, cilic, in, the, se...</td>\n",
              "      <td>[[-0.047858045454545445, 0.2465801818181818, -0.10127713636363639, 0.2598739545454546, 0.0465069740909091, 0.01847381818181818, -0.31967914090909094, 0.31476995454545453, -0.24270951045454545, -0.10213718181818181, 0.07454409090909091, -0.19168704545454543, -0.5921913636363636, -0.05454277272727271, 0.41800775000000007, -0.1459655, -0.06648209090909091, -0.38568935, -0.5590150454545454, 0.017850384090909097, 0.05161793181818181, 0.08271022727272727, 0.012466318181818177, -0.05004795454545454, -0.03163138636363636, -1.09362, -0.029202045454545453, -0.21069231818181822, -0.2291896818181818, -0.09015209090909092, 2.0077909090909087, 0.05504731818181819, -0.03681771363636363, -0.06119145454545454, -0.027413775909090908, -0.07462857727272729, 0.09461986363636363, 0.4440144545454546, 0.07457928636363637, -0.2567498181818182, 0.15918195454545458, 0.020730181818181818, 0.2137701363636363, -0.14283328636363637, 0.040826999999999995, 0.11164381818181818, -0.014309095454545461, -0.13603295454...</td>\n",
              "      <td>[[1.0000000000000002, 0.9571992990055314, 0.9517411006100643, 0.9267000776350137, 0.9308813279911095, 0.9737922604690102, 0.9497445048009223, 0.9358424693669746, 0.9461534848869871, 0.9532686619109972, 0.949074069055899, 0.9536668695095681], [0.9571992990055314, 0.9999999999999998, 0.9678928302288673, 0.9596931678959499, 0.9560386522081761, 0.9652519695895955, 0.9797782654487696, 0.9336279453057658, 0.9601332806537793, 0.9716211265754007, 0.9651655151624128, 0.9650010674703816], [0.9517411006100643, 0.9678928302288673, 1.0000000000000002, 0.9750165209638691, 0.9782012604100264, 0.9535866693534241, 0.965564239335117, 0.9529351425670123, 0.9394499417410659, 0.9856824336995497, 0.9695273065202104, 0.9763454540533313], [0.9267000776350137, 0.9596931678959499, 0.9750165209638691, 1.0000000000000002, 0.9785437431778288, 0.9359270004169693, 0.9644292835916424, 0.954169557620835, 0.9234116548591256, 0.9810333805637511, 0.9621855486586945, 0.968120697584829], [0.9308813279911095, 0.95603865...</td>\n",
              "      <td>{0: 0.08254473907781915, 1: 0.08348366862416592, 2: 0.08369491894941557, 3: 0.0831632950290797, 4: 0.08323388729318155, 5: 0.08314024800037872, 6: 0.08368691045142121, 7: 0.08274129645052199, 8: 0.08235553863087611, 9: 0.0843249442852083, 10: 0.08378585956527629, 11: 0.08384469364265526}</td>\n",
              "    </tr>\n",
              "  </tbody>\n",
              "</table>\n",
              "</div>"
            ],
            "text/plain": [
              "                                                                                                                                                                                                                                                                                                                                                                                                                                                                                                                                                                                                                                                                                                                                                                                                                                                                                                                                                                                                                        SentencesInArticle  ...                                                                                                                                                                                                                                                                                                                                                                                                                                 Graph\n",
              "0  [Maria Sharapova has basically no friends as tennis players on the WTA Tour., The Russian player has no problems in openly speaking about it and in a recent interview she said: 'I don't really hide any feelings too much., I think everyone knows this is my job here., When I'm on the courts or when I'm on the court playing, I'm a competitor and I want to beat every single person whether they're in the locker room or across the net.So I'm not the one to strike up a conversation about the weather and know that in the next few minutes I have to go and try to win a tennis match., I'm a pretty competitive girl., I say my hellos, but I'm not sending any players flowers as well., Uhm, I'm not really friendly or close to many players., I have not a lot of friends away from the courts.', When she said she is not really close to a lot of players, is that something strategic that she is doing?, Is it different on the men's tour than the women's tour?, 'No, not at all., I think just because you'...  ...  {0: 0.057837626503462816, 1: 0.05947735465337831, 2: 0.05821410617978895, 3: 0.059476475491960244, 4: 0.05623153698517529, 5: 0.05943122526038316, 6: 0.05935657485337546, 7: 0.05934044557788754, 8: 0.059453290285576735, 9: 0.05670039604606934, 10: 0.058908481683836396, 11: 0.05977276916483677, 12: 0.05910544970023771, 13: 0.05902943101056601, 14: 0.059524447705451004, 15: 0.05959371412828332, 16: 0.05854667476973096}\n",
              "1  [BASEL, Switzerland (AP), Roger Federer advanced to the 14th Swiss Indoors final of his career by beating seventh-seeded Daniil Medvedev 6-1, 6-4 on Saturday., Seeking a ninth title at his hometown event, and a 99th overall, Federer will play 93th-ranked Marius Copil on Sunday., Federer dominated the 20th-ranked Medvedev and had his first match-point chance to break serve again at 5-1., He then dropped his serve to love, and let another match point slip in Medvedev's next service game by netting a backhand., He clinched on his fourth chance when Medvedev netted from the baseline., Copil upset expectations of a Federer final against Alexander Zverev in a 6-3, 6-7 (6), 6-4 win over the fifth-ranked German in the earlier semifinal., The Romanian aims for a first title after arriving at Basel without a career win over a top-10 opponent., Copil has two after also beating No., 6 Marin Cilic in the second round., Copil fired 26 aces past Zverev and never dropped serve, clinching after 2 1...  ...                                                                                                                                      {0: 0.08254473907781915, 1: 0.08348366862416592, 2: 0.08369491894941557, 3: 0.0831632950290797, 4: 0.08323388729318155, 5: 0.08314024800037872, 6: 0.08368691045142121, 7: 0.08274129645052199, 8: 0.08235553863087611, 9: 0.0843249442852083, 10: 0.08378585956527629, 11: 0.08384469364265526}\n",
              "\n",
              "[2 rows x 5 columns]"
            ]
          },
          "metadata": {},
          "execution_count": 60
        }
      ]
    },
    {
      "cell_type": "code",
      "source": [
        "#rank the scores and return the top n sentences by using graph scores\n",
        "def get_ranked_sentences(sentences,scores,n=3):\n",
        "  top_scores=sorted(((scores[i],s) for i,s in enumerate(sentences)),reverse=True)\n",
        "  top_n_sentences=[sentence for score, sentence in top_scores[:n]]\n",
        "  return \"\".join(top_n_sentences)"
      ],
      "metadata": {
        "id": "eId9iIxL9RBq"
      },
      "execution_count": null,
      "outputs": []
    },
    {
      "cell_type": "code",
      "source": [
        "#summary of the document\n",
        "articles['Summary']=articles.apply(lambda d:get_ranked_sentences(d.SentencesInArticle,d.Graph),axis=1)\n",
        "articles.loc[0].Summary"
      ],
      "metadata": {
        "id": "T3sInxtc-Jq2",
        "colab": {
          "base_uri": "https://localhost:8080/",
          "height": 91
        },
        "outputId": "ae5efcd7-f1ca-43db-a929-41a729c59b30"
      },
      "execution_count": null,
      "outputs": [
        {
          "output_type": "execute_result",
          "data": {
            "application/vnd.google.colaboratory.intrinsic+json": {
              "type": "string"
            },
            "text/plain": [
              "\"I think just because you're in the same sport doesn't mean that you have to be friends with everyone just because you're categorized, you're a tennis player, so you're going to get along with tennis players.But ultimately tennis is just a very small part of what we do.I think everyone just thinks because we're tennis players we should be the greatest of friends.\""
            ]
          },
          "metadata": {},
          "execution_count": 62
        }
      ]
    },
    {
      "cell_type": "code",
      "source": [
        "articles.loc[10].Summary"
      ],
      "metadata": {
        "colab": {
          "base_uri": "https://localhost:8080/",
          "height": 91
        },
        "id": "kkeTSL0ndg04",
        "outputId": "a14a2f47-5fb7-47fb-e62a-97e0be8becb1"
      },
      "execution_count": null,
      "outputs": [
        {
          "output_type": "execute_result",
          "data": {
            "application/vnd.google.colaboratory.intrinsic+json": {
              "type": "string"
            },
            "text/plain": [
              "\"Copil fired 26 aces past Zverev and never dropped serve, clinching after 2 1/2 hours with a forehand volley winner to break Zverev for the second time in the semifinal.Federer had an easier time than in his only previous match against Medvedev, a three-setter at Shanghai two weeks ago.He came through two rounds of qualifying last weekend to reach the Basel main draw, including beating Zverev's older brother, Mischa.\""
            ]
          },
          "metadata": {},
          "execution_count": 63
        }
      ]
    }
  ]
}