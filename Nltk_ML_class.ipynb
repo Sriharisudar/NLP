{
  "nbformat": 4,
  "nbformat_minor": 0,
  "metadata": {
    "colab": {
      "provenance": []
    },
    "kernelspec": {
      "name": "python3",
      "display_name": "Python 3"
    },
    "language_info": {
      "name": "python"
    }
  },
  "cells": [
    {
      "cell_type": "markdown",
      "source": [
        "**Machine Learning Overview**"
      ],
      "metadata": {
        "id": "bpQO4dMLm2tF"
      }
    },
    {
      "cell_type": "code",
      "execution_count": null,
      "metadata": {
        "colab": {
          "base_uri": "https://localhost:8080/"
        },
        "id": "XNiolD8Bmymf",
        "outputId": "ea46913a-5421-4400-c43c-b3f391ca779b"
      },
      "outputs": [
        {
          "output_type": "stream",
          "name": "stdout",
          "text": [
            "[nltk_data] Downloading package punkt to /root/nltk_data...\n",
            "[nltk_data]   Package punkt is already up-to-date!\n",
            "[nltk_data] Downloading package wordnet to /root/nltk_data...\n",
            "[nltk_data]   Package wordnet is already up-to-date!\n"
          ]
        }
      ],
      "source": [
        "#import all packages\n",
        "import pandas as pd\n",
        "import matplotlib.pyplot as plt\n",
        "import re\n",
        "import string\n",
        "import nltk\n",
        "from nltk import word_tokenize\n",
        "from nltk.stem import WordNetLemmatizer\n",
        "from sklearn.feature_extraction.text import TfidfVectorizer\n",
        "from collections import Counter\n",
        "from pylab import *\n",
        "nltk.download('punkt')\n",
        "nltk.download('wordnet')\n",
        "import warnings\n",
        "warnings.filterwarnings('ignore')\n"
      ]
    },
    {
      "cell_type": "markdown",
      "source": [
        "**read the valid data**"
      ],
      "metadata": {
        "id": "kXxQzJeloPWg"
      }
    },
    {
      "cell_type": "code",
      "source": [
        "#read the json data\n",
        "review_data = pd.read_json('Musical_Instruments_5.json')\n",
        "review_data[['reviewText','overall']].head()\n"
      ],
      "metadata": {
        "colab": {
          "base_uri": "https://localhost:8080/",
          "height": 206
        },
        "id": "qB7-f1PBm8Fe",
        "outputId": "710b07ae-09de-41af-ae89-c8ca08f5be42"
      },
      "execution_count": null,
      "outputs": [
        {
          "output_type": "execute_result",
          "data": {
            "text/html": [
              "<div>\n",
              "<style scoped>\n",
              "    .dataframe tbody tr th:only-of-type {\n",
              "        vertical-align: middle;\n",
              "    }\n",
              "\n",
              "    .dataframe tbody tr th {\n",
              "        vertical-align: top;\n",
              "    }\n",
              "\n",
              "    .dataframe thead th {\n",
              "        text-align: right;\n",
              "    }\n",
              "</style>\n",
              "<table border=\"1\" class=\"dataframe\">\n",
              "  <thead>\n",
              "    <tr style=\"text-align: right;\">\n",
              "      <th></th>\n",
              "      <th>reviewText</th>\n",
              "      <th>overall</th>\n",
              "    </tr>\n",
              "  </thead>\n",
              "  <tbody>\n",
              "    <tr>\n",
              "      <th>0</th>\n",
              "      <td>Not much to write about here, but it does exac...</td>\n",
              "      <td>5</td>\n",
              "    </tr>\n",
              "    <tr>\n",
              "      <th>1</th>\n",
              "      <td>The product does exactly as it should and is q...</td>\n",
              "      <td>5</td>\n",
              "    </tr>\n",
              "    <tr>\n",
              "      <th>2</th>\n",
              "      <td>The primary job of this device is to block the...</td>\n",
              "      <td>5</td>\n",
              "    </tr>\n",
              "    <tr>\n",
              "      <th>3</th>\n",
              "      <td>Nice windscreen protects my MXL mic and preven...</td>\n",
              "      <td>5</td>\n",
              "    </tr>\n",
              "    <tr>\n",
              "      <th>4</th>\n",
              "      <td>This pop filter is great. It looks and perform...</td>\n",
              "      <td>5</td>\n",
              "    </tr>\n",
              "  </tbody>\n",
              "</table>\n",
              "</div>"
            ],
            "text/plain": [
              "                                          reviewText  overall\n",
              "0  Not much to write about here, but it does exac...        5\n",
              "1  The product does exactly as it should and is q...        5\n",
              "2  The primary job of this device is to block the...        5\n",
              "3  Nice windscreen protects my MXL mic and preven...        5\n",
              "4  This pop filter is great. It looks and perform...        5"
            ]
          },
          "metadata": {},
          "execution_count": 5
        }
      ]
    },
    {
      "cell_type": "markdown",
      "source": [
        "**do the lemmatization, tokenization and cleaning data**"
      ],
      "metadata": {
        "id": "YPExL8ZuoMqY"
      }
    },
    {
      "cell_type": "code",
      "source": [
        "#do the lemmatization, tokenization and cleaning data\n",
        "lemmatizer=WordNetLemmatizer()\n",
        "review_data['cleaned_review_text']=review_data['reviewText'].apply(lambda x :' '.join([lemmatizer.lemmatize(word.lower()) for word in word_tokenize(re.sub(r'([^\\s\\w]|_)+',' ',str(x)))]))\n",
        "\n",
        "#print the new cleaned data\n",
        "review_data[['cleaned_review_text','reviewText','overall']].head()\n"
      ],
      "metadata": {
        "colab": {
          "base_uri": "https://localhost:8080/",
          "height": 206
        },
        "id": "SQZcB0GLoHmq",
        "outputId": "ac448a60-2c75-4bae-ef8e-f248b7e47bb8"
      },
      "execution_count": null,
      "outputs": [
        {
          "output_type": "execute_result",
          "data": {
            "text/html": [
              "<div>\n",
              "<style scoped>\n",
              "    .dataframe tbody tr th:only-of-type {\n",
              "        vertical-align: middle;\n",
              "    }\n",
              "\n",
              "    .dataframe tbody tr th {\n",
              "        vertical-align: top;\n",
              "    }\n",
              "\n",
              "    .dataframe thead th {\n",
              "        text-align: right;\n",
              "    }\n",
              "</style>\n",
              "<table border=\"1\" class=\"dataframe\">\n",
              "  <thead>\n",
              "    <tr style=\"text-align: right;\">\n",
              "      <th></th>\n",
              "      <th>cleaned_review_text</th>\n",
              "      <th>reviewText</th>\n",
              "      <th>overall</th>\n",
              "    </tr>\n",
              "  </thead>\n",
              "  <tbody>\n",
              "    <tr>\n",
              "      <th>0</th>\n",
              "      <td>not much to write about here but it doe exactl...</td>\n",
              "      <td>Not much to write about here, but it does exac...</td>\n",
              "      <td>5</td>\n",
              "    </tr>\n",
              "    <tr>\n",
              "      <th>1</th>\n",
              "      <td>the product doe exactly a it should and is qui...</td>\n",
              "      <td>The product does exactly as it should and is q...</td>\n",
              "      <td>5</td>\n",
              "    </tr>\n",
              "    <tr>\n",
              "      <th>2</th>\n",
              "      <td>the primary job of this device is to block the...</td>\n",
              "      <td>The primary job of this device is to block the...</td>\n",
              "      <td>5</td>\n",
              "    </tr>\n",
              "    <tr>\n",
              "      <th>3</th>\n",
              "      <td>nice windscreen protects my mxl mic and preven...</td>\n",
              "      <td>Nice windscreen protects my MXL mic and preven...</td>\n",
              "      <td>5</td>\n",
              "    </tr>\n",
              "    <tr>\n",
              "      <th>4</th>\n",
              "      <td>this pop filter is great it look and performs ...</td>\n",
              "      <td>This pop filter is great. It looks and perform...</td>\n",
              "      <td>5</td>\n",
              "    </tr>\n",
              "  </tbody>\n",
              "</table>\n",
              "</div>"
            ],
            "text/plain": [
              "                                 cleaned_review_text  ... overall\n",
              "0  not much to write about here but it doe exactl...  ...       5\n",
              "1  the product doe exactly a it should and is qui...  ...       5\n",
              "2  the primary job of this device is to block the...  ...       5\n",
              "3  nice windscreen protects my mxl mic and preven...  ...       5\n",
              "4  this pop filter is great it look and performs ...  ...       5\n",
              "\n",
              "[5 rows x 3 columns]"
            ]
          },
          "metadata": {},
          "execution_count": 6
        }
      ]
    },
    {
      "cell_type": "markdown",
      "source": [
        "**create the TF-IDF frequency**"
      ],
      "metadata": {
        "id": "nZwCtRYFoy_2"
      }
    },
    {
      "cell_type": "code",
      "source": [
        "#create the TF-IDF frequency\n",
        "tfidf_model=TfidfVectorizer(max_features=500)\n",
        "tfidf_df=pd.DataFrame(tfidf_model.fit_transform(review_data['cleaned_review_text']).todense())\n",
        "tfidf_df.columns=sorted(tfidf_model.vocabulary_)\n",
        "tfidf_df.head()\n"
      ],
      "metadata": {
        "colab": {
          "base_uri": "https://localhost:8080/",
          "height": 256
        },
        "id": "nfnCWfqEosMy",
        "outputId": "5e581a42-1f5c-4d7d-b5ef-01b590fb11e6"
      },
      "execution_count": null,
      "outputs": [
        {
          "output_type": "execute_result",
          "data": {
            "text/html": [
              "<div>\n",
              "<style scoped>\n",
              "    .dataframe tbody tr th:only-of-type {\n",
              "        vertical-align: middle;\n",
              "    }\n",
              "\n",
              "    .dataframe tbody tr th {\n",
              "        vertical-align: top;\n",
              "    }\n",
              "\n",
              "    .dataframe thead th {\n",
              "        text-align: right;\n",
              "    }\n",
              "</style>\n",
              "<table border=\"1\" class=\"dataframe\">\n",
              "  <thead>\n",
              "    <tr style=\"text-align: right;\">\n",
              "      <th></th>\n",
              "      <th>10</th>\n",
              "      <th>100</th>\n",
              "      <th>12</th>\n",
              "      <th>20</th>\n",
              "      <th>able</th>\n",
              "      <th>about</th>\n",
              "      <th>accurate</th>\n",
              "      <th>acoustic</th>\n",
              "      <th>actually</th>\n",
              "      <th>adapter</th>\n",
              "      <th>add</th>\n",
              "      <th>after</th>\n",
              "      <th>again</th>\n",
              "      <th>all</th>\n",
              "      <th>almost</th>\n",
              "      <th>already</th>\n",
              "      <th>also</th>\n",
              "      <th>although</th>\n",
              "      <th>always</th>\n",
              "      <th>am</th>\n",
              "      <th>amazing</th>\n",
              "      <th>amazon</th>\n",
              "      <th>amp</th>\n",
              "      <th>an</th>\n",
              "      <th>and</th>\n",
              "      <th>another</th>\n",
              "      <th>any</th>\n",
              "      <th>anyone</th>\n",
              "      <th>anything</th>\n",
              "      <th>are</th>\n",
              "      <th>around</th>\n",
              "      <th>at</th>\n",
              "      <th>audio</th>\n",
              "      <th>away</th>\n",
              "      <th>awesome</th>\n",
              "      <th>back</th>\n",
              "      <th>bad</th>\n",
              "      <th>bag</th>\n",
              "      <th>ball</th>\n",
              "      <th>band</th>\n",
              "      <th>...</th>\n",
              "      <th>used</th>\n",
              "      <th>using</th>\n",
              "      <th>value</th>\n",
              "      <th>very</th>\n",
              "      <th>vocal</th>\n",
              "      <th>volume</th>\n",
              "      <th>wa</th>\n",
              "      <th>want</th>\n",
              "      <th>wanted</th>\n",
              "      <th>wave</th>\n",
              "      <th>way</th>\n",
              "      <th>we</th>\n",
              "      <th>week</th>\n",
              "      <th>weight</th>\n",
              "      <th>well</th>\n",
              "      <th>went</th>\n",
              "      <th>were</th>\n",
              "      <th>what</th>\n",
              "      <th>when</th>\n",
              "      <th>where</th>\n",
              "      <th>which</th>\n",
              "      <th>while</th>\n",
              "      <th>who</th>\n",
              "      <th>why</th>\n",
              "      <th>will</th>\n",
              "      <th>with</th>\n",
              "      <th>without</th>\n",
              "      <th>wont</th>\n",
              "      <th>work</th>\n",
              "      <th>worked</th>\n",
              "      <th>worth</th>\n",
              "      <th>would</th>\n",
              "      <th>wouldnt</th>\n",
              "      <th>wrong</th>\n",
              "      <th>year</th>\n",
              "      <th>yet</th>\n",
              "      <th>you</th>\n",
              "      <th>youll</th>\n",
              "      <th>your</th>\n",
              "      <th>youre</th>\n",
              "    </tr>\n",
              "  </thead>\n",
              "  <tbody>\n",
              "    <tr>\n",
              "      <th>0</th>\n",
              "      <td>0.0</td>\n",
              "      <td>0.0</td>\n",
              "      <td>0.0</td>\n",
              "      <td>0.0</td>\n",
              "      <td>0.000000</td>\n",
              "      <td>0.158756</td>\n",
              "      <td>0.0</td>\n",
              "      <td>0.0</td>\n",
              "      <td>0.0</td>\n",
              "      <td>0.0</td>\n",
              "      <td>0.0</td>\n",
              "      <td>0.000000</td>\n",
              "      <td>0.0</td>\n",
              "      <td>0.0</td>\n",
              "      <td>0.0</td>\n",
              "      <td>0.0</td>\n",
              "      <td>0.0</td>\n",
              "      <td>0.0</td>\n",
              "      <td>0.0</td>\n",
              "      <td>0.0</td>\n",
              "      <td>0.0</td>\n",
              "      <td>0.235722</td>\n",
              "      <td>0.0</td>\n",
              "      <td>0.000000</td>\n",
              "      <td>0.000000</td>\n",
              "      <td>0.0</td>\n",
              "      <td>0.0</td>\n",
              "      <td>0.0</td>\n",
              "      <td>0.0</td>\n",
              "      <td>0.117475</td>\n",
              "      <td>0.0</td>\n",
              "      <td>0.0</td>\n",
              "      <td>0.0</td>\n",
              "      <td>0.0</td>\n",
              "      <td>0.0</td>\n",
              "      <td>0.0</td>\n",
              "      <td>0.0</td>\n",
              "      <td>0.0</td>\n",
              "      <td>0.0</td>\n",
              "      <td>0.0</td>\n",
              "      <td>...</td>\n",
              "      <td>0.000000</td>\n",
              "      <td>0.0</td>\n",
              "      <td>0.0</td>\n",
              "      <td>0.0</td>\n",
              "      <td>0.000000</td>\n",
              "      <td>0.00000</td>\n",
              "      <td>0.000000</td>\n",
              "      <td>0.0</td>\n",
              "      <td>0.0</td>\n",
              "      <td>0.0</td>\n",
              "      <td>0.0</td>\n",
              "      <td>0.0</td>\n",
              "      <td>0.0</td>\n",
              "      <td>0.0</td>\n",
              "      <td>0.134747</td>\n",
              "      <td>0.0</td>\n",
              "      <td>0.0</td>\n",
              "      <td>0.155677</td>\n",
              "      <td>0.000000</td>\n",
              "      <td>0.000000</td>\n",
              "      <td>0.0</td>\n",
              "      <td>0.000000</td>\n",
              "      <td>0.0</td>\n",
              "      <td>0.0</td>\n",
              "      <td>0.000000</td>\n",
              "      <td>0.000000</td>\n",
              "      <td>0.0</td>\n",
              "      <td>0.0</td>\n",
              "      <td>0.134249</td>\n",
              "      <td>0.0</td>\n",
              "      <td>0.0</td>\n",
              "      <td>0.000000</td>\n",
              "      <td>0.0</td>\n",
              "      <td>0.0</td>\n",
              "      <td>0.0</td>\n",
              "      <td>0.0</td>\n",
              "      <td>0.000000</td>\n",
              "      <td>0.0</td>\n",
              "      <td>0.000000</td>\n",
              "      <td>0.000000</td>\n",
              "    </tr>\n",
              "    <tr>\n",
              "      <th>1</th>\n",
              "      <td>0.0</td>\n",
              "      <td>0.0</td>\n",
              "      <td>0.0</td>\n",
              "      <td>0.0</td>\n",
              "      <td>0.000000</td>\n",
              "      <td>0.000000</td>\n",
              "      <td>0.0</td>\n",
              "      <td>0.0</td>\n",
              "      <td>0.0</td>\n",
              "      <td>0.0</td>\n",
              "      <td>0.0</td>\n",
              "      <td>0.129292</td>\n",
              "      <td>0.0</td>\n",
              "      <td>0.0</td>\n",
              "      <td>0.0</td>\n",
              "      <td>0.0</td>\n",
              "      <td>0.0</td>\n",
              "      <td>0.0</td>\n",
              "      <td>0.0</td>\n",
              "      <td>0.0</td>\n",
              "      <td>0.0</td>\n",
              "      <td>0.000000</td>\n",
              "      <td>0.0</td>\n",
              "      <td>0.198901</td>\n",
              "      <td>0.136620</td>\n",
              "      <td>0.0</td>\n",
              "      <td>0.0</td>\n",
              "      <td>0.0</td>\n",
              "      <td>0.0</td>\n",
              "      <td>0.000000</td>\n",
              "      <td>0.0</td>\n",
              "      <td>0.0</td>\n",
              "      <td>0.0</td>\n",
              "      <td>0.0</td>\n",
              "      <td>0.0</td>\n",
              "      <td>0.0</td>\n",
              "      <td>0.0</td>\n",
              "      <td>0.0</td>\n",
              "      <td>0.0</td>\n",
              "      <td>0.0</td>\n",
              "      <td>...</td>\n",
              "      <td>0.111728</td>\n",
              "      <td>0.0</td>\n",
              "      <td>0.0</td>\n",
              "      <td>0.0</td>\n",
              "      <td>0.000000</td>\n",
              "      <td>0.00000</td>\n",
              "      <td>0.184319</td>\n",
              "      <td>0.0</td>\n",
              "      <td>0.0</td>\n",
              "      <td>0.0</td>\n",
              "      <td>0.0</td>\n",
              "      <td>0.0</td>\n",
              "      <td>0.0</td>\n",
              "      <td>0.0</td>\n",
              "      <td>0.091629</td>\n",
              "      <td>0.0</td>\n",
              "      <td>0.0</td>\n",
              "      <td>0.000000</td>\n",
              "      <td>0.000000</td>\n",
              "      <td>0.000000</td>\n",
              "      <td>0.0</td>\n",
              "      <td>0.000000</td>\n",
              "      <td>0.0</td>\n",
              "      <td>0.0</td>\n",
              "      <td>0.097955</td>\n",
              "      <td>0.066964</td>\n",
              "      <td>0.0</td>\n",
              "      <td>0.0</td>\n",
              "      <td>0.091290</td>\n",
              "      <td>0.0</td>\n",
              "      <td>0.0</td>\n",
              "      <td>0.000000</td>\n",
              "      <td>0.0</td>\n",
              "      <td>0.0</td>\n",
              "      <td>0.0</td>\n",
              "      <td>0.0</td>\n",
              "      <td>0.073158</td>\n",
              "      <td>0.0</td>\n",
              "      <td>0.000000</td>\n",
              "      <td>0.000000</td>\n",
              "    </tr>\n",
              "    <tr>\n",
              "      <th>2</th>\n",
              "      <td>0.0</td>\n",
              "      <td>0.0</td>\n",
              "      <td>0.0</td>\n",
              "      <td>0.0</td>\n",
              "      <td>0.000000</td>\n",
              "      <td>0.000000</td>\n",
              "      <td>0.0</td>\n",
              "      <td>0.0</td>\n",
              "      <td>0.0</td>\n",
              "      <td>0.0</td>\n",
              "      <td>0.0</td>\n",
              "      <td>0.000000</td>\n",
              "      <td>0.0</td>\n",
              "      <td>0.0</td>\n",
              "      <td>0.0</td>\n",
              "      <td>0.0</td>\n",
              "      <td>0.0</td>\n",
              "      <td>0.0</td>\n",
              "      <td>0.0</td>\n",
              "      <td>0.0</td>\n",
              "      <td>0.0</td>\n",
              "      <td>0.000000</td>\n",
              "      <td>0.0</td>\n",
              "      <td>0.000000</td>\n",
              "      <td>0.050836</td>\n",
              "      <td>0.0</td>\n",
              "      <td>0.0</td>\n",
              "      <td>0.0</td>\n",
              "      <td>0.0</td>\n",
              "      <td>0.000000</td>\n",
              "      <td>0.0</td>\n",
              "      <td>0.0</td>\n",
              "      <td>0.0</td>\n",
              "      <td>0.0</td>\n",
              "      <td>0.0</td>\n",
              "      <td>0.0</td>\n",
              "      <td>0.0</td>\n",
              "      <td>0.0</td>\n",
              "      <td>0.0</td>\n",
              "      <td>0.0</td>\n",
              "      <td>...</td>\n",
              "      <td>0.000000</td>\n",
              "      <td>0.0</td>\n",
              "      <td>0.0</td>\n",
              "      <td>0.0</td>\n",
              "      <td>0.000000</td>\n",
              "      <td>0.17473</td>\n",
              "      <td>0.000000</td>\n",
              "      <td>0.0</td>\n",
              "      <td>0.0</td>\n",
              "      <td>0.0</td>\n",
              "      <td>0.0</td>\n",
              "      <td>0.0</td>\n",
              "      <td>0.0</td>\n",
              "      <td>0.0</td>\n",
              "      <td>0.000000</td>\n",
              "      <td>0.0</td>\n",
              "      <td>0.0</td>\n",
              "      <td>0.000000</td>\n",
              "      <td>0.000000</td>\n",
              "      <td>0.165882</td>\n",
              "      <td>0.0</td>\n",
              "      <td>0.149601</td>\n",
              "      <td>0.0</td>\n",
              "      <td>0.0</td>\n",
              "      <td>0.000000</td>\n",
              "      <td>0.149503</td>\n",
              "      <td>0.0</td>\n",
              "      <td>0.0</td>\n",
              "      <td>0.000000</td>\n",
              "      <td>0.0</td>\n",
              "      <td>0.0</td>\n",
              "      <td>0.115105</td>\n",
              "      <td>0.0</td>\n",
              "      <td>0.0</td>\n",
              "      <td>0.0</td>\n",
              "      <td>0.0</td>\n",
              "      <td>0.081666</td>\n",
              "      <td>0.0</td>\n",
              "      <td>0.111465</td>\n",
              "      <td>0.000000</td>\n",
              "    </tr>\n",
              "    <tr>\n",
              "      <th>3</th>\n",
              "      <td>0.0</td>\n",
              "      <td>0.0</td>\n",
              "      <td>0.0</td>\n",
              "      <td>0.0</td>\n",
              "      <td>0.338287</td>\n",
              "      <td>0.000000</td>\n",
              "      <td>0.0</td>\n",
              "      <td>0.0</td>\n",
              "      <td>0.0</td>\n",
              "      <td>0.0</td>\n",
              "      <td>0.0</td>\n",
              "      <td>0.000000</td>\n",
              "      <td>0.0</td>\n",
              "      <td>0.0</td>\n",
              "      <td>0.0</td>\n",
              "      <td>0.0</td>\n",
              "      <td>0.0</td>\n",
              "      <td>0.0</td>\n",
              "      <td>0.0</td>\n",
              "      <td>0.0</td>\n",
              "      <td>0.0</td>\n",
              "      <td>0.000000</td>\n",
              "      <td>0.0</td>\n",
              "      <td>0.000000</td>\n",
              "      <td>0.184313</td>\n",
              "      <td>0.0</td>\n",
              "      <td>0.0</td>\n",
              "      <td>0.0</td>\n",
              "      <td>0.0</td>\n",
              "      <td>0.000000</td>\n",
              "      <td>0.0</td>\n",
              "      <td>0.0</td>\n",
              "      <td>0.0</td>\n",
              "      <td>0.0</td>\n",
              "      <td>0.0</td>\n",
              "      <td>0.0</td>\n",
              "      <td>0.0</td>\n",
              "      <td>0.0</td>\n",
              "      <td>0.0</td>\n",
              "      <td>0.0</td>\n",
              "      <td>...</td>\n",
              "      <td>0.000000</td>\n",
              "      <td>0.0</td>\n",
              "      <td>0.0</td>\n",
              "      <td>0.0</td>\n",
              "      <td>0.000000</td>\n",
              "      <td>0.00000</td>\n",
              "      <td>0.000000</td>\n",
              "      <td>0.0</td>\n",
              "      <td>0.0</td>\n",
              "      <td>0.0</td>\n",
              "      <td>0.0</td>\n",
              "      <td>0.0</td>\n",
              "      <td>0.0</td>\n",
              "      <td>0.0</td>\n",
              "      <td>0.000000</td>\n",
              "      <td>0.0</td>\n",
              "      <td>0.0</td>\n",
              "      <td>0.000000</td>\n",
              "      <td>0.000000</td>\n",
              "      <td>0.000000</td>\n",
              "      <td>0.0</td>\n",
              "      <td>0.000000</td>\n",
              "      <td>0.0</td>\n",
              "      <td>0.0</td>\n",
              "      <td>0.000000</td>\n",
              "      <td>0.000000</td>\n",
              "      <td>0.0</td>\n",
              "      <td>0.0</td>\n",
              "      <td>0.000000</td>\n",
              "      <td>0.0</td>\n",
              "      <td>0.0</td>\n",
              "      <td>0.000000</td>\n",
              "      <td>0.0</td>\n",
              "      <td>0.0</td>\n",
              "      <td>0.0</td>\n",
              "      <td>0.0</td>\n",
              "      <td>0.000000</td>\n",
              "      <td>0.0</td>\n",
              "      <td>0.000000</td>\n",
              "      <td>0.000000</td>\n",
              "    </tr>\n",
              "    <tr>\n",
              "      <th>4</th>\n",
              "      <td>0.0</td>\n",
              "      <td>0.0</td>\n",
              "      <td>0.0</td>\n",
              "      <td>0.0</td>\n",
              "      <td>0.000000</td>\n",
              "      <td>0.000000</td>\n",
              "      <td>0.0</td>\n",
              "      <td>0.0</td>\n",
              "      <td>0.0</td>\n",
              "      <td>0.0</td>\n",
              "      <td>0.0</td>\n",
              "      <td>0.000000</td>\n",
              "      <td>0.0</td>\n",
              "      <td>0.0</td>\n",
              "      <td>0.0</td>\n",
              "      <td>0.0</td>\n",
              "      <td>0.0</td>\n",
              "      <td>0.0</td>\n",
              "      <td>0.0</td>\n",
              "      <td>0.0</td>\n",
              "      <td>0.0</td>\n",
              "      <td>0.000000</td>\n",
              "      <td>0.0</td>\n",
              "      <td>0.000000</td>\n",
              "      <td>0.098768</td>\n",
              "      <td>0.0</td>\n",
              "      <td>0.0</td>\n",
              "      <td>0.0</td>\n",
              "      <td>0.0</td>\n",
              "      <td>0.000000</td>\n",
              "      <td>0.0</td>\n",
              "      <td>0.0</td>\n",
              "      <td>0.0</td>\n",
              "      <td>0.0</td>\n",
              "      <td>0.0</td>\n",
              "      <td>0.0</td>\n",
              "      <td>0.0</td>\n",
              "      <td>0.0</td>\n",
              "      <td>0.0</td>\n",
              "      <td>0.0</td>\n",
              "      <td>...</td>\n",
              "      <td>0.000000</td>\n",
              "      <td>0.0</td>\n",
              "      <td>0.0</td>\n",
              "      <td>0.0</td>\n",
              "      <td>0.420188</td>\n",
              "      <td>0.00000</td>\n",
              "      <td>0.000000</td>\n",
              "      <td>0.0</td>\n",
              "      <td>0.0</td>\n",
              "      <td>0.0</td>\n",
              "      <td>0.0</td>\n",
              "      <td>0.0</td>\n",
              "      <td>0.0</td>\n",
              "      <td>0.0</td>\n",
              "      <td>0.000000</td>\n",
              "      <td>0.0</td>\n",
              "      <td>0.0</td>\n",
              "      <td>0.000000</td>\n",
              "      <td>0.215812</td>\n",
              "      <td>0.000000</td>\n",
              "      <td>0.0</td>\n",
              "      <td>0.000000</td>\n",
              "      <td>0.0</td>\n",
              "      <td>0.0</td>\n",
              "      <td>0.212445</td>\n",
              "      <td>0.000000</td>\n",
              "      <td>0.0</td>\n",
              "      <td>0.0</td>\n",
              "      <td>0.000000</td>\n",
              "      <td>0.0</td>\n",
              "      <td>0.0</td>\n",
              "      <td>0.000000</td>\n",
              "      <td>0.0</td>\n",
              "      <td>0.0</td>\n",
              "      <td>0.0</td>\n",
              "      <td>0.0</td>\n",
              "      <td>0.158665</td>\n",
              "      <td>0.0</td>\n",
              "      <td>0.000000</td>\n",
              "      <td>0.320765</td>\n",
              "    </tr>\n",
              "  </tbody>\n",
              "</table>\n",
              "<p>5 rows × 500 columns</p>\n",
              "</div>"
            ],
            "text/plain": [
              "    10  100   12   20      able  ...  yet       you  youll      your     youre\n",
              "0  0.0  0.0  0.0  0.0  0.000000  ...  0.0  0.000000    0.0  0.000000  0.000000\n",
              "1  0.0  0.0  0.0  0.0  0.000000  ...  0.0  0.073158    0.0  0.000000  0.000000\n",
              "2  0.0  0.0  0.0  0.0  0.000000  ...  0.0  0.081666    0.0  0.111465  0.000000\n",
              "3  0.0  0.0  0.0  0.0  0.338287  ...  0.0  0.000000    0.0  0.000000  0.000000\n",
              "4  0.0  0.0  0.0  0.0  0.000000  ...  0.0  0.158665    0.0  0.000000  0.320765\n",
              "\n",
              "[5 rows x 500 columns]"
            ]
          },
          "metadata": {},
          "execution_count": 98
        }
      ]
    },
    {
      "cell_type": "code",
      "source": [
        "#set the target data\n",
        "review_data['target'] = review_data['overall'].apply(lambda x:0 if x<=4 else 1)\n",
        "review_data['target'].value_counts()\n"
      ],
      "metadata": {
        "colab": {
          "base_uri": "https://localhost:8080/"
        },
        "id": "yzUXQAfzoz1a",
        "outputId": "fca0fd13-1481-4319-9a0d-88095b654f30"
      },
      "execution_count": null,
      "outputs": [
        {
          "output_type": "execute_result",
          "data": {
            "text/plain": [
              "1    6938\n",
              "0    3323\n",
              "Name: target, dtype: int64"
            ]
          },
          "metadata": {},
          "execution_count": 99
        }
      ]
    },
    {
      "cell_type": "markdown",
      "source": [
        "**implement Logistic Regression**"
      ],
      "metadata": {
        "id": "vM-Y72XSpRtc"
      }
    },
    {
      "cell_type": "code",
      "source": [
        "#implement Logistic Regression\n",
        "from sklearn.linear_model import LogisticRegression\n",
        "logreg=LogisticRegression()\n",
        "logreg.fit(tfidf_df,review_data['target'])\n",
        "predicted_labels=logreg.predict(tfidf_df)\n",
        "logreg.predict_proba(tfidf_df)[:,1]\n",
        "\n",
        "\n"
      ],
      "metadata": {
        "colab": {
          "base_uri": "https://localhost:8080/"
        },
        "id": "vTzqbNsLo-qT",
        "outputId": "bcc93587-1bee-4417-a007-9b6832c8e55d"
      },
      "execution_count": null,
      "outputs": [
        {
          "output_type": "execute_result",
          "data": {
            "text/plain": [
              "array([0.58721164, 0.62672131, 0.53073566, ..., 0.66908551, 0.55763822,\n",
              "       0.24135068])"
            ]
          },
          "metadata": {},
          "execution_count": 100
        }
      ]
    },
    {
      "cell_type": "markdown",
      "source": [
        "**compare the result of classification using crosstab**"
      ],
      "metadata": {
        "id": "XgPuVeqBpUPT"
      }
    },
    {
      "cell_type": "code",
      "source": [
        "#compare the result of classification using crosstab\n",
        "review_data['predicted_labels']=predicted_labels\n",
        "pd.crosstab(review_data['target'],review_data['predicted_labels'])"
      ],
      "metadata": {
        "colab": {
          "base_uri": "https://localhost:8080/",
          "height": 143
        },
        "id": "WszrbaezpU59",
        "outputId": "e59e37a6-7cb5-4a51-e538-21fd2ac3ec27"
      },
      "execution_count": null,
      "outputs": [
        {
          "output_type": "execute_result",
          "data": {
            "text/html": [
              "<div>\n",
              "<style scoped>\n",
              "    .dataframe tbody tr th:only-of-type {\n",
              "        vertical-align: middle;\n",
              "    }\n",
              "\n",
              "    .dataframe tbody tr th {\n",
              "        vertical-align: top;\n",
              "    }\n",
              "\n",
              "    .dataframe thead th {\n",
              "        text-align: right;\n",
              "    }\n",
              "</style>\n",
              "<table border=\"1\" class=\"dataframe\">\n",
              "  <thead>\n",
              "    <tr style=\"text-align: right;\">\n",
              "      <th>predicted_labels</th>\n",
              "      <th>0</th>\n",
              "      <th>1</th>\n",
              "    </tr>\n",
              "    <tr>\n",
              "      <th>target</th>\n",
              "      <th></th>\n",
              "      <th></th>\n",
              "    </tr>\n",
              "  </thead>\n",
              "  <tbody>\n",
              "    <tr>\n",
              "      <th>0</th>\n",
              "      <td>1507</td>\n",
              "      <td>1816</td>\n",
              "    </tr>\n",
              "    <tr>\n",
              "      <th>1</th>\n",
              "      <td>620</td>\n",
              "      <td>6318</td>\n",
              "    </tr>\n",
              "  </tbody>\n",
              "</table>\n",
              "</div>"
            ],
            "text/plain": [
              "predicted_labels     0     1\n",
              "target                      \n",
              "0                 1507  1816\n",
              "1                  620  6318"
            ]
          },
          "metadata": {},
          "execution_count": 101
        }
      ]
    },
    {
      "cell_type": "markdown",
      "source": [
        "**implement NaiveBayes**"
      ],
      "metadata": {
        "id": "VhPFHmoPpjRz"
      }
    },
    {
      "cell_type": "code",
      "source": [
        "#implement NaiveBayes\n",
        "from sklearn.naive_bayes import GaussianNB\n",
        "nb=GaussianNB()\n",
        "nb.fit(tfidf_df,review_data['target'])\n",
        "predicted_labels=nb.predict(tfidf_df)\n",
        "nb.predict_proba(tfidf_df)[:,1]\n"
      ],
      "metadata": {
        "colab": {
          "base_uri": "https://localhost:8080/"
        },
        "id": "C_vymRKdpc_5",
        "outputId": "75113868-07e8-4fdd-ff19-b75d7274df2f"
      },
      "execution_count": null,
      "outputs": [
        {
          "output_type": "execute_result",
          "data": {
            "text/plain": [
              "array([9.99003326e-01, 1.05421334e-08, 1.10486128e-07, ...,\n",
              "       1.00774767e-01, 9.78390087e-08, 7.69330206e-23])"
            ]
          },
          "metadata": {},
          "execution_count": 102
        }
      ]
    },
    {
      "cell_type": "markdown",
      "source": [
        "**compare the result of classification using crosstab**"
      ],
      "metadata": {
        "id": "bwN6QROhppx8"
      }
    },
    {
      "cell_type": "code",
      "source": [
        "#compare the result of classification using crosstab\n",
        "review_data['predicted_labels_nb']=predicted_labels\n",
        "pd.crosstab(review_data['target'],review_data['predicted_labels_nb'])\n"
      ],
      "metadata": {
        "colab": {
          "base_uri": "https://localhost:8080/",
          "height": 143
        },
        "id": "zqhi90tspkLQ",
        "outputId": "7fedb7b3-d89d-405f-acf8-926a13274a8f"
      },
      "execution_count": null,
      "outputs": [
        {
          "output_type": "execute_result",
          "data": {
            "text/html": [
              "<div>\n",
              "<style scoped>\n",
              "    .dataframe tbody tr th:only-of-type {\n",
              "        vertical-align: middle;\n",
              "    }\n",
              "\n",
              "    .dataframe tbody tr th {\n",
              "        vertical-align: top;\n",
              "    }\n",
              "\n",
              "    .dataframe thead th {\n",
              "        text-align: right;\n",
              "    }\n",
              "</style>\n",
              "<table border=\"1\" class=\"dataframe\">\n",
              "  <thead>\n",
              "    <tr style=\"text-align: right;\">\n",
              "      <th>predicted_labels_nb</th>\n",
              "      <th>0</th>\n",
              "      <th>1</th>\n",
              "    </tr>\n",
              "    <tr>\n",
              "      <th>target</th>\n",
              "      <th></th>\n",
              "      <th></th>\n",
              "    </tr>\n",
              "  </thead>\n",
              "  <tbody>\n",
              "    <tr>\n",
              "      <th>0</th>\n",
              "      <td>2314</td>\n",
              "      <td>1009</td>\n",
              "    </tr>\n",
              "    <tr>\n",
              "      <th>1</th>\n",
              "      <td>2393</td>\n",
              "      <td>4545</td>\n",
              "    </tr>\n",
              "  </tbody>\n",
              "</table>\n",
              "</div>"
            ],
            "text/plain": [
              "predicted_labels_nb     0     1\n",
              "target                         \n",
              "0                    2314  1009\n",
              "1                    2393  4545"
            ]
          },
          "metadata": {},
          "execution_count": 103
        }
      ]
    },
    {
      "cell_type": "markdown",
      "source": [
        "**implement KNN and compare result**"
      ],
      "metadata": {
        "id": "WdlewNLUqDaF"
      }
    },
    {
      "cell_type": "code",
      "source": [
        "#implement KNN and compare result\n",
        "from sklearn.neighbors import KNeighborsClassifier\n",
        "knn=KNeighborsClassifier(n_neighbors=3)\n",
        "knn.fit(tfidf_df,review_data['target'])\n",
        "review_data['predicted_labels_knn']=knn.predict(tfidf_df)\n",
        "pd.crosstab(review_data['target'],review_data['predicted_labels_knn'])\n"
      ],
      "metadata": {
        "colab": {
          "base_uri": "https://localhost:8080/",
          "height": 143
        },
        "id": "wBD1Gl4xpqrX",
        "outputId": "9fda1abb-eb23-428b-874d-924c1deb6ae6"
      },
      "execution_count": null,
      "outputs": [
        {
          "output_type": "execute_result",
          "data": {
            "text/html": [
              "<div>\n",
              "<style scoped>\n",
              "    .dataframe tbody tr th:only-of-type {\n",
              "        vertical-align: middle;\n",
              "    }\n",
              "\n",
              "    .dataframe tbody tr th {\n",
              "        vertical-align: top;\n",
              "    }\n",
              "\n",
              "    .dataframe thead th {\n",
              "        text-align: right;\n",
              "    }\n",
              "</style>\n",
              "<table border=\"1\" class=\"dataframe\">\n",
              "  <thead>\n",
              "    <tr style=\"text-align: right;\">\n",
              "      <th>predicted_labels_knn</th>\n",
              "      <th>0</th>\n",
              "      <th>1</th>\n",
              "    </tr>\n",
              "    <tr>\n",
              "      <th>target</th>\n",
              "      <th></th>\n",
              "      <th></th>\n",
              "    </tr>\n",
              "  </thead>\n",
              "  <tbody>\n",
              "    <tr>\n",
              "      <th>0</th>\n",
              "      <td>2637</td>\n",
              "      <td>686</td>\n",
              "    </tr>\n",
              "    <tr>\n",
              "      <th>1</th>\n",
              "      <td>273</td>\n",
              "      <td>6665</td>\n",
              "    </tr>\n",
              "  </tbody>\n",
              "</table>\n",
              "</div>"
            ],
            "text/plain": [
              "predicted_labels_knn     0     1\n",
              "target                          \n",
              "0                     2637   686\n",
              "1                      273  6665"
            ]
          },
          "metadata": {},
          "execution_count": 104
        }
      ]
    },
    {
      "cell_type": "markdown",
      "source": [
        "**implement Linear Regression and compare result**"
      ],
      "metadata": {
        "id": "s-talMbNqKYb"
      }
    },
    {
      "cell_type": "code",
      "source": [
        "#implement Linear Regression and compare result\n",
        "from sklearn.linear_model import LinearRegression\n",
        "linreg=LinearRegression()\n",
        "linreg.fit(tfidf_df,review_data['overall'])\n",
        "linreg.coef_\n"
      ],
      "metadata": {
        "colab": {
          "base_uri": "https://localhost:8080/"
        },
        "id": "UW1xbi64qERE",
        "outputId": "b4523bb0-ca5c-4dfd-e0ae-23835624f43d"
      },
      "execution_count": null,
      "outputs": [
        {
          "output_type": "execute_result",
          "data": {
            "text/plain": [
              "array([ 1.22649447e-01,  4.40931711e-01,  3.23271023e-01, -2.33162401e-01,\n",
              "        3.61114510e-01,  4.34718878e-01,  5.50682826e-01,  2.99511704e-01,\n",
              "        4.62252743e-01,  5.93508646e-01,  7.20542839e-01, -3.42577396e-01,\n",
              "       -2.52994615e-01,  3.81456696e-01, -6.65937244e-01, -9.47907152e-02,\n",
              "        1.40799851e-01, -1.24491775e-01,  4.88601337e-01,  1.77830437e-01,\n",
              "        8.10385480e-01, -4.08209372e-01,  1.11693628e-01, -3.79111146e-02,\n",
              "        4.87290716e-01, -3.25573590e-01,  2.98768816e-01,  1.02962600e-01,\n",
              "       -3.04871209e-01, -1.11659312e-01, -3.99392894e-02, -1.56503462e-01,\n",
              "        2.53272469e-01, -7.51188824e-02,  1.01363158e+00, -1.18361969e+00,\n",
              "       -1.08977857e+00,  1.79173769e-01, -5.24901116e-01,  2.45126478e-01,\n",
              "        1.22103655e-01, -6.79357748e-02, -1.40192387e-03,  1.11696462e+00,\n",
              "        6.23379499e-03,  1.79762994e-01, -7.09365348e-02,  7.86166962e-02,\n",
              "        1.35545654e-01,  1.16308438e+00, -4.05823638e-01,  6.33110938e-02,\n",
              "        5.06443704e-02,  1.88810619e-02,  3.51023453e-01,  2.33616094e-01,\n",
              "        1.22119599e-01, -1.56429275e-01,  1.36452775e-01, -3.65944442e-01,\n",
              "       -1.67642120e-01, -2.79445938e-01,  1.11279079e-02,  1.84959351e-01,\n",
              "        1.34517314e-01,  1.74045361e-01,  6.37061301e-02, -1.14620814e-01,\n",
              "        3.16105574e-01,  2.46308665e-01, -1.28520859e+00,  3.91163498e-01,\n",
              "        2.99380070e-01,  2.80365320e-01, -1.65548816e-01,  7.65117848e-02,\n",
              "        5.16232751e-01,  7.57681308e-01, -1.74060440e-01,  8.31597720e-02,\n",
              "        5.53197908e-02,  5.37219076e-01,  1.21601554e-01, -8.19548037e-01,\n",
              "        1.19426743e-01,  3.26333584e-01, -8.25226996e-02, -4.78032092e-01,\n",
              "        2.46777018e-01,  4.36198339e-01,  6.78032481e-01, -8.56316577e-02,\n",
              "        2.84201836e-01,  1.25010548e-01,  3.25258806e-01, -3.03132255e-02,\n",
              "        3.40435803e-01, -5.32925304e-01,  1.10951446e-02, -3.55165972e-01,\n",
              "        1.46811794e-01, -4.33749949e-01,  3.38030442e-01, -1.07395889e+00,\n",
              "        1.09662232e+00,  2.95505532e-01,  2.45657090e-01, -2.27249237e-01,\n",
              "       -2.25623544e-01, -4.41865776e-01, -7.86666710e-01,  4.48676603e-01,\n",
              "        2.74539542e-01, -3.87856919e-01,  2.01885277e-01,  2.58333271e-01,\n",
              "       -1.06396121e+00,  1.77389480e-01, -5.69590113e-01,  2.66249667e-01,\n",
              "        2.59100211e-01,  3.74152294e-01, -1.73780771e-01,  4.67730801e-01,\n",
              "        4.49162460e-01,  6.36584737e-01,  4.30853053e-01,  7.59162715e-01,\n",
              "       -1.04043301e-01, -1.59229536e-01, -1.32798310e-01,  1.07649822e-01,\n",
              "       -2.58771687e-01, -7.61417634e-03,  4.02014148e-01,  4.02780442e-01,\n",
              "       -8.36030726e-01,  3.63390831e-01,  3.66139511e-01,  5.75954569e-01,\n",
              "        8.37978408e-01,  9.70719019e-01, -1.10985499e-01,  2.07230326e-01,\n",
              "        3.74442179e-01, -4.81931499e-02, -2.32696856e-01, -3.01097560e-02,\n",
              "        3.84311202e-01,  4.86293813e-01,  4.83118438e-01, -2.21746243e-01,\n",
              "        3.30905588e-01, -4.49531233e-02,  1.01418107e-02,  5.07240279e-02,\n",
              "       -1.29908198e-01,  4.41648239e-01,  2.36851815e-01,  6.57953888e-02,\n",
              "       -8.53788377e-02, -8.86798079e-02, -1.32594325e-01, -3.90265688e-01,\n",
              "        4.05338758e-01, -2.19522718e-02, -4.84089503e-01, -1.58222160e-01,\n",
              "       -6.64108625e-01, -4.67871407e-01,  7.45561652e-02,  4.97266353e-01,\n",
              "       -4.38681200e-02, -1.28079392e-02,  3.38207482e-01, -1.88489576e-01,\n",
              "        1.22586988e+00,  1.24547745e-02,  5.57883553e-01,  1.01064785e-01,\n",
              "        3.59938618e-02,  2.03170315e-01,  5.87014227e-01, -6.70076192e-01,\n",
              "       -1.23082083e-01,  4.53394294e-01,  5.50981525e-02,  2.44967020e-01,\n",
              "        2.23073776e-03, -5.59659651e-02,  7.87570636e-02, -4.48208357e-01,\n",
              "        6.15796105e-01, -8.93494850e-02,  1.78008330e-02,  6.33234328e-02,\n",
              "        9.36309011e-01,  8.79845002e-02,  7.21740355e-02,  3.16108705e-01,\n",
              "       -3.58900031e-01,  3.32420626e-01, -1.36265638e+00,  4.62999858e-02,\n",
              "       -6.08494384e-01, -4.36677885e-01,  9.42088653e-02,  2.01106231e-01,\n",
              "        1.63978942e-01, -8.31123876e-03, -4.12236676e-01,  3.35378155e-01,\n",
              "       -1.55424702e-01, -1.08973945e-01, -3.63974251e-01,  1.44441308e-01,\n",
              "       -2.51975701e-01, -4.59985482e-01, -5.71470727e-01,  5.86390740e-01,\n",
              "       -2.27428726e-01,  2.39167456e-01, -8.46687843e-02,  2.01500426e-01,\n",
              "       -4.14712724e-01,  1.14181531e-01,  5.03462582e-01, -7.74377364e-02,\n",
              "        1.92215141e-01, -3.74884748e-01,  4.62521449e-02, -2.66393032e-01,\n",
              "        5.06427696e-02,  2.65606370e-01,  5.73451661e-01, -2.28178788e-01,\n",
              "        2.86470781e-01, -2.67391788e-01,  1.34999740e-01,  8.43563607e-02,\n",
              "       -3.08981362e-01,  4.93192343e-01,  5.51800263e-01,  1.90980842e-01,\n",
              "        1.36081271e-01,  1.88613966e-01,  3.16988423e-01,  9.67487646e-01,\n",
              "       -3.46798771e-01,  1.92431837e-01,  4.08202787e-03,  6.12698276e-01,\n",
              "        6.09534980e-02, -4.36082113e-01, -1.22084764e+00, -6.53540953e-02,\n",
              "       -6.57549734e-01,  4.44834635e-02,  7.63295460e-02,  4.63633839e-01,\n",
              "        5.90907961e-02, -3.09087296e-01, -1.75274746e-01, -1.98450880e-02,\n",
              "       -2.03537386e-01, -8.19710486e-01, -6.66029633e-01,  3.64929548e-02,\n",
              "        2.25013297e-01, -1.19855252e-01,  3.26025372e-01,  4.08529657e-01,\n",
              "       -7.98131132e-02,  3.77334612e-01,  5.07321419e-01, -2.54160887e-01,\n",
              "        5.46006747e-01,  7.27283876e-01, -5.60886120e-02,  2.39705542e-01,\n",
              "        1.45425958e-01,  5.18603450e-01,  2.17094616e-01, -1.26435750e-01,\n",
              "       -1.66866889e+00,  1.17511365e-01, -3.39463689e-01,  1.24249469e-02,\n",
              "       -5.28621649e-02, -5.43491006e-01, -1.97400559e+00,  1.61839250e-01,\n",
              "        2.58305710e-01, -1.59074256e-01,  2.96665145e-01, -5.28527930e-01,\n",
              "       -5.72769182e-02, -4.78448694e-02,  2.17650513e-01, -4.90463002e-01,\n",
              "       -3.94423146e-01, -5.15178259e-01, -3.12322449e-01,  1.55253130e-01,\n",
              "       -1.45456790e-01, -8.02314936e-01,  6.52258610e-01,  8.16875771e-02,\n",
              "        3.39544175e-01,  1.21760481e-01,  3.58971178e-01, -9.89366322e-01,\n",
              "        1.52952952e-01,  3.69735098e-02,  1.07586462e+00,  1.20242550e+00,\n",
              "        2.84811741e-01, -2.52666693e-01, -7.97406126e-01, -2.01912667e-01,\n",
              "       -4.71706906e-01, -2.94928067e-01,  3.71604424e-01,  6.17951256e-01,\n",
              "        4.48038834e-01,  3.55796081e-01, -3.16459229e-02,  1.96164999e-01,\n",
              "       -2.47223858e-03, -4.52481823e-01,  1.66245299e-01, -2.93382076e-01,\n",
              "       -3.40631342e-01,  1.80403079e-01,  3.03055573e-01, -2.95328185e-01,\n",
              "       -2.98346728e-01, -3.31564686e-01,  2.04825347e-01, -3.92693500e-01,\n",
              "        4.28797001e-01,  3.45469346e-01, -1.15667594e-01,  1.72544427e-01,\n",
              "        7.54350082e-02, -3.35697373e-01, -1.79756718e-02,  1.30804377e-01,\n",
              "       -3.11448991e-02,  1.44798226e-01,  3.30246952e-01, -3.00071490e-01,\n",
              "        5.96378696e-02,  2.22681705e-01, -1.83500144e-01, -1.71932766e-01,\n",
              "        4.21750763e-01,  3.98728001e-01,  4.03937202e-01, -7.68804707e-01,\n",
              "        7.84200998e-01,  3.17456109e-01, -1.80782598e-01,  6.23828367e-01,\n",
              "       -8.74051740e-02, -3.86916213e-01,  7.20580829e-02, -1.19672664e-01,\n",
              "       -2.58965369e-01,  6.61919814e-02,  5.12167831e-01,  3.18776387e-01,\n",
              "        5.02251496e-02, -2.20426276e-01, -2.67843566e-01, -1.52615481e-01,\n",
              "       -4.78974523e-01,  7.90593401e-01, -6.53846267e-02,  2.92568243e-02,\n",
              "        2.24077403e-01,  2.89037465e-01,  5.87827277e-01,  2.11450993e-01,\n",
              "        1.06861159e-01,  2.52918446e-01,  3.11758810e-01,  3.90985614e-01,\n",
              "        5.18511737e-01,  2.06623523e-01, -1.71512719e+00,  1.39858968e-03,\n",
              "        1.72564517e-01,  4.44263965e-01,  3.31205417e-01,  6.06834831e-02,\n",
              "       -2.55414035e-01, -1.12608619e+00, -3.28554307e-01,  2.54250932e-02,\n",
              "        1.61856042e-01, -6.98886323e-02,  1.55959226e-01,  4.51049687e-01,\n",
              "        5.56620402e-02, -4.04542720e-02,  7.26467913e-01, -3.16446662e-01,\n",
              "       -2.45991883e-01,  5.30453159e-01,  1.46830377e-01,  7.88848714e-01,\n",
              "        1.49244288e-01,  6.61754818e-01,  5.41985058e-01,  3.31971027e-01,\n",
              "        1.82874484e-02, -1.07652679e-01, -2.26317488e-01, -7.79254316e-02,\n",
              "       -1.79246185e-02, -1.72154643e-01, -1.30940038e-01,  4.44048005e-01,\n",
              "       -5.54372801e-02, -1.12446928e-01, -2.79689835e-01, -3.98950681e-01,\n",
              "        5.45683714e-01,  6.08969118e-02, -3.83746207e-01, -6.03379276e-01,\n",
              "       -3.77122163e-01,  2.19135765e-01,  5.60021978e-02, -1.16168054e-01,\n",
              "       -1.77763928e-01,  4.60362559e-01, -5.56099131e-01,  7.90910904e-02,\n",
              "        3.03217272e-01, -2.01996128e-01, -5.50343191e-01, -5.43121233e-01,\n",
              "       -5.56902917e-01,  2.35261643e-01,  4.38805053e-01, -2.97281185e-02,\n",
              "        9.84686497e-02, -3.23024564e-02, -1.95533949e-01,  4.26962908e-01,\n",
              "       -1.18076786e-01,  1.31875743e-01,  2.57688912e-01, -6.14522433e-01,\n",
              "        2.07641945e-01,  4.14595651e-01, -8.74531088e-01, -1.63251930e-01,\n",
              "       -9.18588211e-03,  6.37765253e-01,  2.79995595e-01,  1.98992277e-01,\n",
              "        6.83901877e-01, -5.29240019e-01, -3.72650115e-01,  9.82602942e-02,\n",
              "        6.60198987e-01,  3.57447221e-01, -4.33265479e-01,  1.37658695e-01,\n",
              "       -1.32409711e+00,  3.13242489e-02,  6.00684859e-01, -4.26367409e-01,\n",
              "       -8.04199308e-01, -8.21022794e-02,  1.55226950e-01, -1.49744232e-01,\n",
              "        3.00208277e-01, -6.17907818e-02,  2.81568414e-01, -1.95706371e-01,\n",
              "       -2.35696407e-01,  1.82603771e-01,  4.75568040e-01,  4.88406507e-01,\n",
              "        7.92747504e-03, -1.88847551e-01,  4.62018923e-01, -6.52194395e-01,\n",
              "       -5.74487313e-01, -8.84080855e-02,  3.92354184e-01,  4.79706046e-01,\n",
              "        1.99755918e-01, -9.47266599e-02,  1.41358716e-01,  1.70335432e-01])"
            ]
          },
          "metadata": {},
          "execution_count": 105
        }
      ]
    },
    {
      "cell_type": "markdown",
      "source": [
        "**find interception**"
      ],
      "metadata": {
        "id": "co7c_MrnqSvI"
      }
    },
    {
      "cell_type": "code",
      "source": [
        "#find interception\n",
        "linreg.intercept_\n"
      ],
      "metadata": {
        "colab": {
          "base_uri": "https://localhost:8080/"
        },
        "id": "X9vxXzgzqLUx",
        "outputId": "0955f855-5bbb-47a8-c5c7-eb975063dc80"
      },
      "execution_count": null,
      "outputs": [
        {
          "output_type": "execute_result",
          "data": {
            "text/plain": [
              "4.2321479002381475"
            ]
          },
          "metadata": {},
          "execution_count": 106
        }
      ]
    },
    {
      "cell_type": "markdown",
      "source": [
        "**prediction**"
      ],
      "metadata": {
        "id": "L9IPE4kNqXCg"
      }
    },
    {
      "cell_type": "code",
      "source": [
        "#prediction\n",
        "linreg.predict(tfidf_df)"
      ],
      "metadata": {
        "colab": {
          "base_uri": "https://localhost:8080/"
        },
        "id": "JkW50I__qT0Z",
        "outputId": "58ff93ee-2c42-41ab-f59b-2538881bc7dd"
      },
      "execution_count": null,
      "outputs": [
        {
          "output_type": "execute_result",
          "data": {
            "text/plain": [
              "array([4.23592256, 4.19417748, 4.16506544, ..., 4.4559338 , 4.43368875,\n",
              "       4.07244581])"
            ]
          },
          "metadata": {},
          "execution_count": 107
        }
      ]
    },
    {
      "cell_type": "code",
      "source": [
        "#predict overall score\n",
        "review_data['predicted_score_from_linear_regression']=linreg.predict(tfidf_df)\n",
        "review_data[['overall','predicted_score_from_linear_regression']].head(20)\n"
      ],
      "metadata": {
        "colab": {
          "base_uri": "https://localhost:8080/",
          "height": 677
        },
        "id": "WhU8k_lAqbbQ",
        "outputId": "4c4b3627-09e7-40b3-d834-c54f771926e4"
      },
      "execution_count": null,
      "outputs": [
        {
          "output_type": "execute_result",
          "data": {
            "text/html": [
              "<div>\n",
              "<style scoped>\n",
              "    .dataframe tbody tr th:only-of-type {\n",
              "        vertical-align: middle;\n",
              "    }\n",
              "\n",
              "    .dataframe tbody tr th {\n",
              "        vertical-align: top;\n",
              "    }\n",
              "\n",
              "    .dataframe thead th {\n",
              "        text-align: right;\n",
              "    }\n",
              "</style>\n",
              "<table border=\"1\" class=\"dataframe\">\n",
              "  <thead>\n",
              "    <tr style=\"text-align: right;\">\n",
              "      <th></th>\n",
              "      <th>overall</th>\n",
              "      <th>predicted_score_from_linear_regression</th>\n",
              "    </tr>\n",
              "  </thead>\n",
              "  <tbody>\n",
              "    <tr>\n",
              "      <th>0</th>\n",
              "      <td>5</td>\n",
              "      <td>4.235923</td>\n",
              "    </tr>\n",
              "    <tr>\n",
              "      <th>1</th>\n",
              "      <td>5</td>\n",
              "      <td>4.194177</td>\n",
              "    </tr>\n",
              "    <tr>\n",
              "      <th>2</th>\n",
              "      <td>5</td>\n",
              "      <td>4.165065</td>\n",
              "    </tr>\n",
              "    <tr>\n",
              "      <th>3</th>\n",
              "      <td>5</td>\n",
              "      <td>4.099515</td>\n",
              "    </tr>\n",
              "    <tr>\n",
              "      <th>4</th>\n",
              "      <td>5</td>\n",
              "      <td>4.824218</td>\n",
              "    </tr>\n",
              "    <tr>\n",
              "      <th>5</th>\n",
              "      <td>5</td>\n",
              "      <td>4.970740</td>\n",
              "    </tr>\n",
              "    <tr>\n",
              "      <th>6</th>\n",
              "      <td>5</td>\n",
              "      <td>4.488011</td>\n",
              "    </tr>\n",
              "    <tr>\n",
              "      <th>7</th>\n",
              "      <td>3</td>\n",
              "      <td>3.850576</td>\n",
              "    </tr>\n",
              "    <tr>\n",
              "      <th>8</th>\n",
              "      <td>5</td>\n",
              "      <td>4.966805</td>\n",
              "    </tr>\n",
              "    <tr>\n",
              "      <th>9</th>\n",
              "      <td>5</td>\n",
              "      <td>4.246506</td>\n",
              "    </tr>\n",
              "    <tr>\n",
              "      <th>10</th>\n",
              "      <td>5</td>\n",
              "      <td>4.212390</td>\n",
              "    </tr>\n",
              "    <tr>\n",
              "      <th>11</th>\n",
              "      <td>4</td>\n",
              "      <td>3.976095</td>\n",
              "    </tr>\n",
              "    <tr>\n",
              "      <th>12</th>\n",
              "      <td>3</td>\n",
              "      <td>3.850072</td>\n",
              "    </tr>\n",
              "    <tr>\n",
              "      <th>13</th>\n",
              "      <td>5</td>\n",
              "      <td>4.843491</td>\n",
              "    </tr>\n",
              "    <tr>\n",
              "      <th>14</th>\n",
              "      <td>5</td>\n",
              "      <td>4.791663</td>\n",
              "    </tr>\n",
              "    <tr>\n",
              "      <th>15</th>\n",
              "      <td>2</td>\n",
              "      <td>4.091931</td>\n",
              "    </tr>\n",
              "    <tr>\n",
              "      <th>16</th>\n",
              "      <td>4</td>\n",
              "      <td>4.364836</td>\n",
              "    </tr>\n",
              "    <tr>\n",
              "      <th>17</th>\n",
              "      <td>5</td>\n",
              "      <td>4.986286</td>\n",
              "    </tr>\n",
              "    <tr>\n",
              "      <th>18</th>\n",
              "      <td>5</td>\n",
              "      <td>4.493178</td>\n",
              "    </tr>\n",
              "    <tr>\n",
              "      <th>19</th>\n",
              "      <td>5</td>\n",
              "      <td>4.948876</td>\n",
              "    </tr>\n",
              "  </tbody>\n",
              "</table>\n",
              "</div>"
            ],
            "text/plain": [
              "    overall  predicted_score_from_linear_regression\n",
              "0         5                                4.235923\n",
              "1         5                                4.194177\n",
              "2         5                                4.165065\n",
              "3         5                                4.099515\n",
              "4         5                                4.824218\n",
              "5         5                                4.970740\n",
              "6         5                                4.488011\n",
              "7         3                                3.850576\n",
              "8         5                                4.966805\n",
              "9         5                                4.246506\n",
              "10        5                                4.212390\n",
              "11        4                                3.976095\n",
              "12        3                                3.850072\n",
              "13        5                                4.843491\n",
              "14        5                                4.791663\n",
              "15        2                                4.091931\n",
              "16        4                                4.364836\n",
              "17        5                                4.986286\n",
              "18        5                                4.493178\n",
              "19        5                                4.948876"
            ]
          },
          "metadata": {},
          "execution_count": 108
        }
      ]
    },
    {
      "cell_type": "markdown",
      "source": [
        "**implement decision tree classifier**"
      ],
      "metadata": {
        "id": "VmdGYTsWqnFj"
      }
    },
    {
      "cell_type": "code",
      "source": [
        "#implement decision tree classifier\n",
        "from sklearn import tree\n",
        "dtc=tree.DecisionTreeClassifier()\n",
        "dtc=dtc.fit(tfidf_df,review_data['target'])\n",
        "review_data['predicted_labels_dtc']=dtc.predict(tfidf_df)\n",
        "\n",
        "pd.crosstab(review_data['target'],review_data['predicted_labels_dtc'])\n",
        "\n"
      ],
      "metadata": {
        "colab": {
          "base_uri": "https://localhost:8080/",
          "height": 143
        },
        "id": "0fRvZo1fqgdg",
        "outputId": "0684fb86-3828-4e77-c998-8ae61a57dddb"
      },
      "execution_count": null,
      "outputs": [
        {
          "output_type": "execute_result",
          "data": {
            "text/html": [
              "<div>\n",
              "<style scoped>\n",
              "    .dataframe tbody tr th:only-of-type {\n",
              "        vertical-align: middle;\n",
              "    }\n",
              "\n",
              "    .dataframe tbody tr th {\n",
              "        vertical-align: top;\n",
              "    }\n",
              "\n",
              "    .dataframe thead th {\n",
              "        text-align: right;\n",
              "    }\n",
              "</style>\n",
              "<table border=\"1\" class=\"dataframe\">\n",
              "  <thead>\n",
              "    <tr style=\"text-align: right;\">\n",
              "      <th>predicted_labels_dtc</th>\n",
              "      <th>0</th>\n",
              "      <th>1</th>\n",
              "    </tr>\n",
              "    <tr>\n",
              "      <th>target</th>\n",
              "      <th></th>\n",
              "      <th></th>\n",
              "    </tr>\n",
              "  </thead>\n",
              "  <tbody>\n",
              "    <tr>\n",
              "      <th>0</th>\n",
              "      <td>3322</td>\n",
              "      <td>1</td>\n",
              "    </tr>\n",
              "    <tr>\n",
              "      <th>1</th>\n",
              "      <td>0</td>\n",
              "      <td>6938</td>\n",
              "    </tr>\n",
              "  </tbody>\n",
              "</table>\n",
              "</div>"
            ],
            "text/plain": [
              "predicted_labels_dtc     0     1\n",
              "target                          \n",
              "0                     3322     1\n",
              "1                        0  6938"
            ]
          },
          "metadata": {},
          "execution_count": 109
        }
      ]
    },
    {
      "cell_type": "markdown",
      "source": [
        "**implement decision tree regression**"
      ],
      "metadata": {
        "id": "JqgpeJEPqyTr"
      }
    },
    {
      "cell_type": "code",
      "source": [
        "#implement decision tree regression\n",
        "from sklearn import tree\n",
        "dtr=tree.DecisionTreeRegressor()\n",
        "dtr=dtr.fit(tfidf_df,review_data['overall'])\n",
        "review_data['predicted_values_dtr']=dtr.predict(tfidf_df)\n",
        "review_data[['predicted_values_dtr','overall']].head(10)\n"
      ],
      "metadata": {
        "colab": {
          "base_uri": "https://localhost:8080/",
          "height": 363
        },
        "id": "wRkdyCmIqqZf",
        "outputId": "e49b2db0-0fca-479b-cd3f-907c062a175f"
      },
      "execution_count": null,
      "outputs": [
        {
          "output_type": "execute_result",
          "data": {
            "text/html": [
              "<div>\n",
              "<style scoped>\n",
              "    .dataframe tbody tr th:only-of-type {\n",
              "        vertical-align: middle;\n",
              "    }\n",
              "\n",
              "    .dataframe tbody tr th {\n",
              "        vertical-align: top;\n",
              "    }\n",
              "\n",
              "    .dataframe thead th {\n",
              "        text-align: right;\n",
              "    }\n",
              "</style>\n",
              "<table border=\"1\" class=\"dataframe\">\n",
              "  <thead>\n",
              "    <tr style=\"text-align: right;\">\n",
              "      <th></th>\n",
              "      <th>predicted_values_dtr</th>\n",
              "      <th>overall</th>\n",
              "    </tr>\n",
              "  </thead>\n",
              "  <tbody>\n",
              "    <tr>\n",
              "      <th>0</th>\n",
              "      <td>5.0</td>\n",
              "      <td>5</td>\n",
              "    </tr>\n",
              "    <tr>\n",
              "      <th>1</th>\n",
              "      <td>5.0</td>\n",
              "      <td>5</td>\n",
              "    </tr>\n",
              "    <tr>\n",
              "      <th>2</th>\n",
              "      <td>5.0</td>\n",
              "      <td>5</td>\n",
              "    </tr>\n",
              "    <tr>\n",
              "      <th>3</th>\n",
              "      <td>5.0</td>\n",
              "      <td>5</td>\n",
              "    </tr>\n",
              "    <tr>\n",
              "      <th>4</th>\n",
              "      <td>5.0</td>\n",
              "      <td>5</td>\n",
              "    </tr>\n",
              "    <tr>\n",
              "      <th>5</th>\n",
              "      <td>5.0</td>\n",
              "      <td>5</td>\n",
              "    </tr>\n",
              "    <tr>\n",
              "      <th>6</th>\n",
              "      <td>5.0</td>\n",
              "      <td>5</td>\n",
              "    </tr>\n",
              "    <tr>\n",
              "      <th>7</th>\n",
              "      <td>3.0</td>\n",
              "      <td>3</td>\n",
              "    </tr>\n",
              "    <tr>\n",
              "      <th>8</th>\n",
              "      <td>5.0</td>\n",
              "      <td>5</td>\n",
              "    </tr>\n",
              "    <tr>\n",
              "      <th>9</th>\n",
              "      <td>5.0</td>\n",
              "      <td>5</td>\n",
              "    </tr>\n",
              "  </tbody>\n",
              "</table>\n",
              "</div>"
            ],
            "text/plain": [
              "   predicted_values_dtr  overall\n",
              "0                   5.0        5\n",
              "1                   5.0        5\n",
              "2                   5.0        5\n",
              "3                   5.0        5\n",
              "4                   5.0        5\n",
              "5                   5.0        5\n",
              "6                   5.0        5\n",
              "7                   3.0        3\n",
              "8                   5.0        5\n",
              "9                   5.0        5"
            ]
          },
          "metadata": {},
          "execution_count": 110
        }
      ]
    },
    {
      "cell_type": "markdown",
      "source": [
        "**generic function for classier models**"
      ],
      "metadata": {
        "id": "qmeaPDOPsxvM"
      }
    },
    {
      "cell_type": "code",
      "source": [
        "#generic function for classier models\n",
        "def clf_model(model_type,X_train,y):\n",
        "  model=model_type.fit(X_train,y)\n",
        "  predicted_labels=model.prdict(tfidf_df)\n",
        "  return predicted_labels\n"
      ],
      "metadata": {
        "id": "uFe4N2c_q2TS"
      },
      "execution_count": null,
      "outputs": []
    },
    {
      "cell_type": "markdown",
      "source": [
        "**implement random forest classifier**"
      ],
      "metadata": {
        "id": "KpGo_mSls5tF"
      }
    },
    {
      "cell_type": "code",
      "source": [
        "#implement random forest classifier\n",
        "import sklearn\n",
        "from sklearn.ensemble import RandomForestClassifier\n",
        "rfc=RandomForestClassifier(n_estimators=20,max_depth=4,max_features='sqrt',random_state=1)\n",
        "review_data['predicted_labels_rfc']=clf_model(rfc,tfidf_df,review_data['target'])\n",
        "pd.crosstab(review_data['target'],review_data['predicted_labels_rfc'])\n"
      ],
      "metadata": {
        "id": "Jy5U7TjbsymZ"
      },
      "execution_count": null,
      "outputs": []
    },
    {
      "cell_type": "markdown",
      "source": [
        "**implement GBM classifier**"
      ],
      "metadata": {
        "id": "Ho93c-wJxuWI"
      }
    },
    {
      "cell_type": "code",
      "source": [
        "#implement GBM classifier\n",
        "from sklearn.ensemble import GradientBoostingClassifier\n",
        "gbc=GradientBoostingClassifier(n_estimators=2,max_depth=3,max_features='sqrt',random_state=1)\n",
        "review_data['predicted_labels_gbc']=clf_model(gbc,tfidf_df,review_data['target'])\n",
        "pd.crosstab(review_data['target'],review_data['predicted_labels_gbc'])\n"
      ],
      "metadata": {
        "id": "PkMoQG_gs6s2"
      },
      "execution_count": null,
      "outputs": []
    },
    {
      "cell_type": "markdown",
      "source": [
        "**implement XGBoost classifier**"
      ],
      "metadata": {
        "id": "0oU9Goinx1yi"
      }
    },
    {
      "cell_type": "code",
      "source": [
        "#implement XGBoost classifier\n",
        "from xgboost import XGBClassifier\n",
        "xgb_clf=XGBClassifier(n_estimators=20,learning_rate=0.03,max_depth=5,subsample=0.6,colsample_bytree=0.6,reg_alpha=10,seed=42)\n",
        "review_data['predicted_labels_xgbc']=clf_model(xgb_clf,tfidf_df,review_data['target'])\n",
        "pd.crosstab(review_data['target'],review_data['predicted_labels_xgbc'])\n"
      ],
      "metadata": {
        "id": "3fHyx10PxvLW"
      },
      "execution_count": null,
      "outputs": []
    },
    {
      "cell_type": "markdown",
      "source": [
        "**generic function for regression models**"
      ],
      "metadata": {
        "id": "m4zwiFPPXNu7"
      }
    },
    {
      "cell_type": "code",
      "source": [
        "def reg_model(model_type,X_train,y):\n",
        "  model=model_type.fit(X_train,y)\n",
        "  predicted_values=model.predict(tfidf_df)\n",
        "  return predicted_values\n"
      ],
      "metadata": {
        "id": "DprDPwBNx21f"
      },
      "execution_count": null,
      "outputs": []
    },
    {
      "cell_type": "markdown",
      "source": [
        "**implement Random Forest Regressor**"
      ],
      "metadata": {
        "id": "riHqKZIiXeXk"
      }
    },
    {
      "cell_type": "code",
      "source": [
        "#implement Random Forest Regressor\n",
        "from sklearn.ensemble import RandomForestRegressor\n",
        "rfg=RandomForestRegressor(n_estimators=20,max_depth=4,max_features='sqrt',random_state=1)\n",
        "review_data['predicted_values_rfg']=reg_model(rfg,tfidf_df,review_data['overall'])\n",
        "review_data[['overall','predicted_values_rfg']].head(10)\n"
      ],
      "metadata": {
        "id": "qiUS00HFXc6V"
      },
      "execution_count": null,
      "outputs": []
    },
    {
      "cell_type": "markdown",
      "source": [
        "**implement GradientBoostingRegressor**"
      ],
      "metadata": {
        "id": "9bcVqLOMXpeT"
      }
    },
    {
      "cell_type": "code",
      "source": [
        "#implement GradientBoostingRegressor\n",
        "from sklearn.ensemble import GradientBoostingRegressor\n",
        "gbr=GradientBoostingRegressor(n_estimators=20,max_depth=4,max_features='sqrt',random_state=1)\n",
        "review_data['predicted_values_gbr']=reg_model(gbr,tfidf_df,review_data['overall'])\n",
        "review_data[['overall','predicted_values_rfg']].head(10)\n"
      ],
      "metadata": {
        "id": "plvquS-CXimq"
      },
      "execution_count": null,
      "outputs": []
    },
    {
      "cell_type": "markdown",
      "source": [
        "**implement XGBRegressor**"
      ],
      "metadata": {
        "id": "X8NZg9TWXzOx"
      }
    },
    {
      "cell_type": "code",
      "source": [
        "#implement XGBRegressor\n",
        "from xgboost import XGBRegressor\n",
        "xgbr=XGBRegressor(n_estimators=20,learning_rate=0.03,max_depth=5,subsample=0.6,colsample_bytree=0.6,reg_alpha=10,seed=42)\n",
        "review_data['predicted_values_xgbr']=reg_model(xgbr,tfidf_df,review_data['overall'])\n",
        "review_data[['overall','predicted_values_xgbr']].head(10)\n"
      ],
      "metadata": {
        "id": "oOeP2CRnXuSq"
      },
      "execution_count": null,
      "outputs": []
    },
    {
      "cell_type": "markdown",
      "source": [
        "**sampling**"
      ],
      "metadata": {
        "id": "OgPUzmeuX9Zw"
      }
    },
    {
      "cell_type": "code",
      "source": [
        "#sampling\n",
        "import pandas as pd\n",
        "data=pd.read_csv('cancerdata.csv')\n",
        "data.head()\n"
      ],
      "metadata": {
        "id": "tG5xjqQ2X0UE"
      },
      "execution_count": null,
      "outputs": []
    },
    {
      "cell_type": "markdown",
      "source": [
        "**simple sampling**"
      ],
      "metadata": {
        "id": "9s1BFMgAYmqC"
      }
    },
    {
      "cell_type": "code",
      "source": [
        "#simple sampling\n",
        "data_sample_random=data.sample(frac=0.1,random_state=42) #selecting 10% sample randomly\n",
        "data_sample_random.head()\n"
      ],
      "metadata": {
        "id": "xEDtPdPMX784"
      },
      "execution_count": null,
      "outputs": []
    },
    {
      "cell_type": "markdown",
      "source": [
        "**stratified sampling**"
      ],
      "metadata": {
        "id": "IM8cfIeyYotG"
      }
    },
    {
      "cell_type": "code",
      "source": [
        "#stratified sampling\n",
        "from sklearn.model_selection import train_test_split\n",
        "X_train,X_test,Y_train,Y_test=train_test_split(data,data['diagnosis'],test_size=0.2,random_state=42,stratify=data['diagnosis'])\n",
        "data.shape  #shape of the entire data\n",
        "\n"
      ],
      "metadata": {
        "id": "eCGO5XjfYWj0"
      },
      "execution_count": null,
      "outputs": []
    },
    {
      "cell_type": "code",
      "source": [
        "X_train.shape    #shape of training model\n",
        "#Multi-stage sampling (based on diagnosis find area_mean)\n",
        "data_ms=data[data['diagnosis'].isin(['M'])]\n",
        "data_ms_q2=data_ms[data_ms['area_mean']>=500]\n",
        "data_ms_sample=data_ms_q2.sample(frac=0.02,random_state=42)\n",
        "data_ms_sample.head()\n"
      ],
      "metadata": {
        "id": "K5yaYa3JYZ_i"
      },
      "execution_count": null,
      "outputs": []
    },
    {
      "cell_type": "markdown",
      "source": [
        "**unsupervised learning**"
      ],
      "metadata": {
        "id": "mux63wp-YfDt"
      }
    },
    {
      "cell_type": "markdown",
      "source": [
        "**implement hierarchical clustering**"
      ],
      "metadata": {
        "id": "AMJ25-vSYhkc"
      }
    },
    {
      "cell_type": "code",
      "source": [
        "\n",
        "#unsupervised learning\n",
        "#implement hierarchical clustering\n",
        "from sklearn.datasets import fetch_20newsgroups\n",
        "import scipy\n",
        "from scipy.cluster.hierarchy import dendrogram\n",
        "import matplotlib as mpl\n",
        "from scipy.cluster.hierarchy import fcluster\n",
        "from sklearn.metrics.pairwise import cosine_similarity\n",
        "import pandas as pd\n",
        "import numpy as np\n",
        "import matplotlib.pyplot as plt\n",
        "import re\n",
        "import string\n",
        "import nltk\n",
        "from nltk import word_tokenize\n",
        "from nltk.corpus import stopwords\n",
        "from nltk.stem import WordNetLemmatizer\n",
        "from sklearn.feature_extraction.text import TfidfVectorizer\n",
        "from collections import Counter\n",
        "from pylab import *\n",
        "import warnings\n",
        "warnings.filterwarnings('ignore')\n",
        "nltk.download('punkt')\n",
        "nltk.download('wordnet')\n",
        "nltk.download('stopwords')\n",
        "\n"
      ],
      "metadata": {
        "id": "Q93vDQhKYZbU"
      },
      "execution_count": null,
      "outputs": []
    },
    {
      "cell_type": "markdown",
      "source": [
        "**remove the stopwords**"
      ],
      "metadata": {
        "id": "IBvtccU_jVPd"
      }
    },
    {
      "cell_type": "code",
      "source": [
        "#remove the stopwords\n",
        "stop_words=stopwords.words('english')\n",
        "stop_words=stop_words+list(string.printable)\n",
        "lemmatizer=WordNetLemmatizer()\n"
      ],
      "metadata": {
        "id": "pGFNtHAbYjkz"
      },
      "execution_count": null,
      "outputs": []
    },
    {
      "cell_type": "markdown",
      "source": [
        "**specify the categories of the article**"
      ],
      "metadata": {
        "id": "PLc9HoCVjXke"
      }
    },
    {
      "cell_type": "code",
      "source": [
        "#specify the categories of the article\n",
        "categories=['misc.forsale','sci.electronics','talk.religion.misc']\n"
      ],
      "metadata": {
        "id": "dhWVGKQRiWLb"
      },
      "execution_count": null,
      "outputs": []
    },
    {
      "cell_type": "markdown",
      "source": [
        "**fetch the dataset and view first five articles**"
      ],
      "metadata": {
        "id": "3-UwnKACjaA_"
      }
    },
    {
      "cell_type": "code",
      "source": [
        "#fetch the dataset and view first five articles\n",
        "news_data=fetch_20newsgroups(subset='train',categories=categories,shuffle=True,random_state=42,download_if_missing=True)\n",
        "news_data['data'][:5]\n"
      ],
      "metadata": {
        "id": "CiZGSeUKiWJm"
      },
      "execution_count": null,
      "outputs": []
    },
    {
      "cell_type": "markdown",
      "source": [
        "**check the categories and its nama**"
      ],
      "metadata": {
        "id": "l5aeVfc3jds1"
      }
    },
    {
      "cell_type": "code",
      "source": [
        "#check the categories and its nama\n",
        "news_data.target\n"
      ],
      "metadata": {
        "id": "iHgVnGlSiWH3"
      },
      "execution_count": null,
      "outputs": []
    },
    {
      "cell_type": "code",
      "source": [
        "news_data.target_names"
      ],
      "metadata": {
        "id": "k1R2byJ8iWFJ"
      },
      "execution_count": null,
      "outputs": []
    },
    {
      "cell_type": "markdown",
      "source": [
        "**News data and corresponding categories in a Pandas dataframe**"
      ],
      "metadata": {
        "id": "S0AeNMlejhhl"
      }
    },
    {
      "cell_type": "code",
      "source": [
        "#News data and corresponding categories in a Pandas dataframe\n",
        "news_data_df=pd.DataFrame({'text':news_data['data'],'category':news_data.target})\n",
        "news_data_df.head()\n"
      ],
      "metadata": {
        "id": "-GxPHn6TiWCn"
      },
      "execution_count": null,
      "outputs": []
    },
    {
      "cell_type": "markdown",
      "source": [
        "**Count the number of occurrences of each category**"
      ],
      "metadata": {
        "id": "Ywg-p-4QjkAN"
      }
    },
    {
      "cell_type": "code",
      "source": [
        "#Count the number of occurrences of each category\n",
        "news_data_df['category'].value_counts()\n"
      ],
      "metadata": {
        "id": "t69BJy-xiV_i"
      },
      "execution_count": null,
      "outputs": []
    },
    {
      "cell_type": "markdown",
      "source": [
        "**cleaning the text such as tokenization, lemmatization etc**"
      ],
      "metadata": {
        "id": "HbuOXSpJjlqd"
      }
    },
    {
      "cell_type": "code",
      "source": [
        "#cleaning the text such as tokenization, lemmatization etc\n",
        "news_data_df['cleaned_text']=news_data_df['text'].apply(lambda x :''.join([lemmatizer.lemmatize(word.lower()) for word in word_tokenize(re.sub(r'([^\\s\\w]|_)+','',str(x))) if word.lower() not in stop_words]))\n"
      ],
      "metadata": {
        "id": "Rgjw5dGLiV8O"
      },
      "execution_count": null,
      "outputs": []
    },
    {
      "cell_type": "markdown",
      "source": [
        "**create a TF-IDF matrix**"
      ],
      "metadata": {
        "id": "SEsbKCaLjn-v"
      }
    },
    {
      "cell_type": "code",
      "source": [
        "#create a TF-IDF matrix\n",
        "tfidf_model=TfidfVectorizer(max_features=200)\n",
        "tfidf_df=pd.DataFrame(tfidf_model.fit_transform(news_data_df['cleaned_text']).todense())\n",
        "tfidf_df.columns=sorted(tfidf_model.vocabulary_)\n",
        "tfidf_df.head()\n"
      ],
      "metadata": {
        "id": "m5oJ2RH3iV4l"
      },
      "execution_count": null,
      "outputs": []
    },
    {
      "cell_type": "markdown",
      "source": [
        "**create a distance matrix by subtracting the cosine similarities of the tf-idf representation of documents from number 1. The ward function is used to create a linkage matrix used in hierarchical clustering.**"
      ],
      "metadata": {
        "id": "Yi0FmnQXjqV2"
      }
    },
    {
      "cell_type": "code",
      "source": [
        "#create a distance matrix by subtracting the cosine similarities of the tf-idf representation of documents from number 1. The ward function is used to create a linkage matrix used in hierarchical clustering.\n",
        "dist=1-cosine_similarity(tfidf_df)\n",
        "linkage_matrix=ward(dist)\n"
      ],
      "metadata": {
        "id": "JTzM7tmOiVzp"
      },
      "execution_count": null,
      "outputs": []
    },
    {
      "cell_type": "markdown",
      "source": [
        "**truncate the dendrogram to keep last four clusters. Leaf_rotation denotes the angle by which leaf levels must be rotated. Leaf_font_size denotes the font size of leaf labels**"
      ],
      "metadata": {
        "id": "AAiFc0JJjt_F"
      }
    },
    {
      "cell_type": "code",
      "source": [
        "#truncate the dendrogram to keep last four clusters. Leaf_rotation denotes the angle by which leaf levels must be rotated. Leaf_font_size denotes the font size of leaf labels\n",
        "plt.title('hierarchical clustering')\n",
        "plt.xlabel('clustered document')\n",
        "plt.ylabel('distance')\n",
        "#showing only last p clusters after merging, p is the number of cluster that should remain after merging\n",
        "dendrogram(linkage_matrix,truncate_mode='lastp',p=4,leaf_rotation=90,leaf_font_size=12)\n",
        "plt.show()\n",
        "\n"
      ],
      "metadata": {
        "id": "78O40y7tiVuU"
      },
      "execution_count": null,
      "outputs": []
    },
    {
      "cell_type": "markdown",
      "source": [
        "**fcluster() function to obtain cluster labels of clusters obtained by hierarchical clustering**"
      ],
      "metadata": {
        "id": "8kFxnOBAjzoW"
      }
    },
    {
      "cell_type": "code",
      "source": [
        "#fcluster() function to obtain cluster labels of clusters obtained by hierarchical clustering\n",
        "k=4\n",
        "clusters=fcluster(linkage_matrix,k,criterion='maxclust')\n",
        "clusters\n"
      ],
      "metadata": {
        "id": "v6RvSWuaiVrl"
      },
      "execution_count": null,
      "outputs": []
    },
    {
      "cell_type": "markdown",
      "source": [
        "**crosstab to compare the clusters of actual and expected categories**"
      ],
      "metadata": {
        "id": "kDpz-9CKj_QF"
      }
    },
    {
      "cell_type": "code",
      "source": [
        "#crosstab to compare the clusters of actual and expected categories\n",
        "news_data_df['obtained_clusters']=clusters\n",
        "pd.crosstab(news_data_df['category'].replace({0:'misc.forsale',1:'sci.electronics',2:'talk.religion.mis'}),news_data_df['obtained_clusters'].replace({1:'cluster 1',2:'cluster 2',3:'cluster_3',4:'cluster_4'}))\n",
        "\n"
      ],
      "metadata": {
        "id": "ZL20SATAiu_8"
      },
      "execution_count": null,
      "outputs": []
    },
    {
      "cell_type": "markdown",
      "source": [
        "**implement K-means Clustering**"
      ],
      "metadata": {
        "id": "LPpOdJr8kBdF"
      }
    },
    {
      "cell_type": "code",
      "source": [
        "#implement K-means Clustering\n",
        "import pandas as pd\n",
        "from sklearn.datasets import fetch_20newsgroups\n",
        "import scipy\n",
        "import numpy as np\n",
        "import matplotlib.pyplot as plt\n",
        "import re\n",
        "import string\n",
        "import nltk\n",
        "from nltk import word_tokenize\n",
        "from nltk.corpus import stopwords\n",
        "from nltk.stem import WordNetLemmatizer\n",
        "from sklearn.feature_extraction.text import TfidfVectorizer\n",
        "from collections import Counter\n",
        "from pylab import *\n",
        "import warnings\n",
        "warnings.filterwarnings('ignore')\n",
        "import seaborn as sns\n",
        "sns.set()\n",
        "nltk.download('punkt')\n",
        "nltk.download('wordnet')\n",
        "nltk.download('stopwords')\n",
        "from scipy.spatial.distance import cdist\n",
        "from sklearn.cluster import KMeans\n",
        "\n"
      ],
      "metadata": {
        "colab": {
          "base_uri": "https://localhost:8080/"
        },
        "id": "U2m7c8Sjiu95",
        "outputId": "7990a267-563b-423c-8afb-b9aae72e21ce"
      },
      "execution_count": null,
      "outputs": [
        {
          "output_type": "stream",
          "name": "stdout",
          "text": [
            "[nltk_data] Downloading package punkt to /root/nltk_data...\n",
            "[nltk_data]   Package punkt is already up-to-date!\n",
            "[nltk_data] Downloading package wordnet to /root/nltk_data...\n",
            "[nltk_data]   Package wordnet is already up-to-date!\n",
            "[nltk_data] Downloading package stopwords to /root/nltk_data...\n",
            "[nltk_data]   Package stopwords is already up-to-date!\n"
          ]
        }
      ]
    },
    {
      "cell_type": "markdown",
      "source": [
        "**remove the stopwords**"
      ],
      "metadata": {
        "id": "wHgQkPb5kKt9"
      }
    },
    {
      "cell_type": "code",
      "source": [
        "#remove the stopwords\n",
        "stop_words=stopwords.words('english')\n",
        "stop_words=stop_words+list(string.printable)\n",
        "lemmatizer=WordNetLemmatizer()\n",
        "\n"
      ],
      "metadata": {
        "id": "dzfBrxNIiu62"
      },
      "execution_count": null,
      "outputs": []
    },
    {
      "cell_type": "markdown",
      "source": [
        "**specify the categories of the article**"
      ],
      "metadata": {
        "id": "fh_Cz9lvkMs3"
      }
    },
    {
      "cell_type": "code",
      "source": [
        "#specify the categories of the article\n",
        "categories=['misc.forsale','sci.electronics','talk.religion.misc']\n",
        "\n"
      ],
      "metadata": {
        "id": "p9TYNSTfiu36"
      },
      "execution_count": null,
      "outputs": []
    },
    {
      "cell_type": "markdown",
      "source": [
        "**fetch the dataset and view first five articles**"
      ],
      "metadata": {
        "id": "iDPC_0n8kOp4"
      }
    },
    {
      "cell_type": "code",
      "source": [
        "#fetch the dataset and view first five articles\n",
        "news_data=fetch_20newsgroups(subset='train',categories=categories,shuffle=True,random_state=42,download_if_missing=True)\n",
        "news_data['data'][:5]\n"
      ],
      "metadata": {
        "id": "eW8TIMOsiu1M"
      },
      "execution_count": null,
      "outputs": []
    },
    {
      "cell_type": "markdown",
      "source": [
        "**check the categories and its name**\n"
      ],
      "metadata": {
        "id": "3PtYaLvGkRkd"
      }
    },
    {
      "cell_type": "code",
      "source": [
        "#check the categories and its name\n",
        "news_data.target\n"
      ],
      "metadata": {
        "id": "71tBkQpWiuzf"
      },
      "execution_count": null,
      "outputs": []
    },
    {
      "cell_type": "code",
      "source": [
        "news_data.target_names"
      ],
      "metadata": {
        "id": "i2bNFZHqiux1"
      },
      "execution_count": null,
      "outputs": []
    },
    {
      "cell_type": "markdown",
      "source": [
        "**News data and corresponding categories in a Pandas dataframe**"
      ],
      "metadata": {
        "id": "rye6aSU4kXit"
      }
    },
    {
      "cell_type": "code",
      "source": [
        "#News data and corresponding categories in a Pandas dataframe\n",
        "news_data_df=pd.DataFrame({'text':news_data['data'],'category':news_data.target})\n",
        "news_data_df.head()\n",
        "\n"
      ],
      "metadata": {
        "id": "PZlnraNuiuu1"
      },
      "execution_count": null,
      "outputs": []
    },
    {
      "cell_type": "markdown",
      "source": [
        "**Count the number of occurrences of each category**"
      ],
      "metadata": {
        "id": "jOXS27nIkbYv"
      }
    },
    {
      "cell_type": "code",
      "source": [
        "#Count the number of occurrences of each category\n",
        "news_data_df['category'].value_counts()\n"
      ],
      "metadata": {
        "id": "ltLVE0dvi-zR"
      },
      "execution_count": null,
      "outputs": []
    },
    {
      "cell_type": "markdown",
      "source": [
        "**cleaning the text such as tokenization, lemmatization etc**"
      ],
      "metadata": {
        "id": "z1faLXjXkeSd"
      }
    },
    {
      "cell_type": "code",
      "source": [
        "#cleaning the text such as tokenization, lemmatization etc\n",
        "news_data_df['cleaned_text']=news_data_df['text'].apply(lambda x :''.join([lemmatizer.lemmatize(word.lower()) for word in word_tokenize(re.sub(r'([^\\s\\w]|_)+','',str(x))) if word.lower() not in stop_words]))\n",
        "\n"
      ],
      "metadata": {
        "id": "6DtXyykGi-xM"
      },
      "execution_count": null,
      "outputs": []
    },
    {
      "cell_type": "markdown",
      "source": [
        "**create a TF-IDF matrix**"
      ],
      "metadata": {
        "id": "I3YCUJGykgRB"
      }
    },
    {
      "cell_type": "code",
      "source": [
        "#create a TF-IDF matrix\n",
        "tfidf_model=TfidfVectorizer(max_features=200)\n",
        "tfidf_df=pd.DataFrame(tfidf_model.fit_transform(news_data_df['cleaned_text']).todense())\n",
        "tfidf_df.columns=sorted(tfidf_model.vocabulary_)\n",
        "tfidf_df.head()\n"
      ],
      "metadata": {
        "id": "CMh5t-k4i-sh"
      },
      "execution_count": null,
      "outputs": []
    },
    {
      "cell_type": "markdown",
      "source": [
        "**k-means cluster**"
      ],
      "metadata": {
        "id": "4i8Kfb5RkiV-"
      }
    },
    {
      "cell_type": "code",
      "source": [
        "#k-means cluster\n",
        "kmeans=KMeans(n_clusters=4)\n",
        "kmeans.fit(tfidf_df)\n",
        "y_kmeans=kmeans.predict(tfidf_df)\n",
        "news_data_df['obtained_clusters']=y_kmeans\n"
      ],
      "metadata": {
        "id": "EHwdPKfyi-n-"
      },
      "execution_count": null,
      "outputs": []
    },
    {
      "cell_type": "markdown",
      "source": [
        "**crosstab to compare the clusters of actual and expected categories**"
      ],
      "metadata": {
        "id": "EJOBVjhAkkgn"
      }
    },
    {
      "cell_type": "code",
      "source": [
        "#crosstab to compare the clusters of actual and expected categories\n",
        "news_data_df['obtained_clusters']=clusters\n",
        "pd.crosstab(news_data_df['category'].replace({0:'misc.forsale',1:'sci.electronics',2:'talk.religion.mis'}),news_data_df['obtained_clusters'].replace({1:'cluster 1',2:'cluster 2',3:'cluster_3',4:'cluster_4'}))\n"
      ],
      "metadata": {
        "id": "kcro3_zji-i7"
      },
      "execution_count": null,
      "outputs": []
    },
    {
      "cell_type": "markdown",
      "source": [
        "**obtain the optimal value value of k, ranging from 1 to 6.for each value of k, we store the distortion, that is the mean of distances of documents from their nearest cluster center. The value of k where the slope of the plot changes rapidly.**"
      ],
      "metadata": {
        "id": "00p1_mjDjN0l"
      }
    },
    {
      "cell_type": "code",
      "source": [
        "#obtain the optimal value value of k, ranging from 1 to 6.for each value of k, we store the distortion, that is the mean of distances of documents from their nearest cluster center. The value of k where the slope of the plot changes rapidly.\n",
        "distortions=[]\n",
        "K=range(1,6)\n",
        "for k in K:\n",
        "  kmeanModel=KMeans(n_clusters=k)\n",
        "  kmeanModel.fit(tfidf_df)\n",
        "  distortions.append(sum(np.min(cdist(tfidf_df,kmeanModel.cluster_centers_,'euclidean'),axis=1))/tfidf_df.shape[0])\n",
        "plt.plot(K,distortions,'bx-')\n",
        "plt.xlabel('k')\n",
        "plt.ylabel('Distortion')\n",
        "plt.title('Elbow Methos for optimal clusters')\n",
        "plt.show()\n"
      ],
      "metadata": {
        "id": "6zmCku4VjHT4"
      },
      "execution_count": null,
      "outputs": []
    },
    {
      "cell_type": "code",
      "source": [],
      "metadata": {
        "id": "d2ywptELjHGx"
      },
      "execution_count": null,
      "outputs": []
    }
  ]
}